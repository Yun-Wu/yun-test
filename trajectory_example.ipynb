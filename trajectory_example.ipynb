{
  "cells": [
    {
      "attachments": {},
      "cell_type": "markdown",
      "metadata": {
        "id": "4s2-4ByrxLVS"
      },
      "source": [
        "## Setup Environment"
      ]
    },
    {
      "cell_type": "code",
      "execution_count": null,
      "metadata": {
        "colab": {
          "base_uri": "https://localhost:8080/"
        },
        "id": "4OR0AgQB1csS",
        "outputId": "63d5bd72-8a1d-4c47-e73a-0050672d6b6b"
      },
      "outputs": [
        {
          "name": "stdout",
          "output_type": "stream",
          "text": [
            "Executing: /tmp/apt-key-gpghome.d9NPzveAqt/gpg.1.sh --keyserver keyserver.ubuntu.com --recv-keys DCC9EFBF77E11517\n",
            "gpg: key DCC9EFBF77E11517: public key \"Debian Stable Release Key (10/buster) <debian-release@lists.debian.org>\" imported\n",
            "gpg: Total number processed: 1\n",
            "gpg:               imported: 1\n",
            "Executing: /tmp/apt-key-gpghome.5vLrKqabYt/gpg.1.sh --keyserver keyserver.ubuntu.com --recv-keys 648ACFD622F3D138\n",
            "gpg: key DC30D7C23CBBABEE: public key \"Debian Archive Automatic Signing Key (10/buster) <ftpmaster@debian.org>\" imported\n",
            "gpg: Total number processed: 1\n",
            "gpg:               imported: 1\n",
            "Executing: /tmp/apt-key-gpghome.1BtmJIErzn/gpg.1.sh --keyserver keyserver.ubuntu.com --recv-keys 112695A0E562B32A\n",
            "gpg: key 4DFAB270CAA96DFA: public key \"Debian Security Archive Automatic Signing Key (10/buster) <ftpmaster@debian.org>\" imported\n",
            "gpg: Total number processed: 1\n",
            "gpg:               imported: 1\n",
            "Warning: apt-key output should not be parsed (stdout is not a terminal)\n",
            "Warning: apt-key output should not be parsed (stdout is not a terminal)\n",
            "Warning: apt-key output should not be parsed (stdout is not a terminal)\n",
            "Get:1 http://deb.debian.org/debian buster InRelease [122 kB]\n",
            "Get:2 https://cloud.r-project.org/bin/linux/ubuntu focal-cran40/ InRelease [3,622 B]\n",
            "Get:3 http://deb.debian.org/debian buster-updates InRelease [56.6 kB]\n",
            "Get:4 http://deb.debian.org/debian-security buster/updates InRelease [34.8 kB]\n",
            "Get:5 https://developer.download.nvidia.com/compute/cuda/repos/ubuntu2004/x86_64  InRelease [1,581 B]\n",
            "Get:6 http://ppa.launchpad.net/c2d4u.team/c2d4u4.0+/ubuntu focal InRelease [18.1 kB]\n",
            "Get:7 http://security.ubuntu.com/ubuntu focal-security InRelease [114 kB]\n",
            "Get:8 http://deb.debian.org/debian buster/main amd64 Packages [10.7 MB]\n",
            "Hit:9 http://archive.ubuntu.com/ubuntu focal InRelease\n",
            "Get:10 http://archive.ubuntu.com/ubuntu focal-updates InRelease [114 kB]\n",
            "Hit:11 http://ppa.launchpad.net/cran/libgit2/ubuntu focal InRelease\n",
            "Hit:12 http://ppa.launchpad.net/deadsnakes/ppa/ubuntu focal InRelease\n",
            "Get:13 http://archive.ubuntu.com/ubuntu focal-backports InRelease [108 kB]\n",
            "Get:14 https://cloud.r-project.org/bin/linux/ubuntu focal-cran40/ Packages [81.0 kB]\n",
            "Get:15 http://ppa.launchpad.net/graphics-drivers/ppa/ubuntu focal InRelease [24.3 kB]\n",
            "Get:16 http://deb.debian.org/debian buster-updates/main amd64 Packages [9,745 B]\n",
            "Hit:17 http://ppa.launchpad.net/ubuntugis/ppa/ubuntu focal InRelease\n",
            "Get:18 http://deb.debian.org/debian-security buster/updates/main amd64 Packages [668 kB]\n",
            "Get:19 https://developer.download.nvidia.com/compute/cuda/repos/ubuntu2004/x86_64  Packages [1,079 kB]\n",
            "Get:20 http://ppa.launchpad.net/c2d4u.team/c2d4u4.0+/ubuntu focal/main Sources [2,604 kB]\n",
            "Get:21 http://security.ubuntu.com/ubuntu focal-security/universe amd64 Packages [1,068 kB]\n",
            "Get:22 http://ppa.launchpad.net/c2d4u.team/c2d4u4.0+/ubuntu focal/main amd64 Packages [1,229 kB]\n",
            "Get:23 http://security.ubuntu.com/ubuntu focal-security/restricted amd64 Packages [2,482 kB]\n",
            "Get:24 http://security.ubuntu.com/ubuntu focal-security/main amd64 Packages [2,858 kB]\n",
            "Get:25 http://security.ubuntu.com/ubuntu focal-security/multiverse amd64 Packages [28.5 kB]\n",
            "Get:26 http://archive.ubuntu.com/ubuntu focal-updates/universe amd64 Packages [1,367 kB]\n",
            "Get:27 http://ppa.launchpad.net/graphics-drivers/ppa/ubuntu focal/main amd64 Packages [44.1 kB]\n",
            "Get:28 http://archive.ubuntu.com/ubuntu focal-updates/main amd64 Packages [3,342 kB]\n",
            "Get:29 http://archive.ubuntu.com/ubuntu focal-updates/restricted amd64 Packages [2,648 kB]\n",
            "Get:30 http://archive.ubuntu.com/ubuntu focal-updates/multiverse amd64 Packages [31.2 kB]\n",
            "Fetched 30.9 MB in 8s (4,008 kB/s)\n",
            "Reading package lists... Done\n",
            "Reading package lists... Done\n",
            "Building dependency tree       \n",
            "Reading state information... Done\n",
            "The following additional packages will be installed:\n",
            "  chromium-common chromium-sandbox libevent-2.1-6 libfontenc1 libicu63\n",
            "  libimobiledevice6 libjpeg62-turbo libplist3 libre2-5 libu2f-udev libudev1\n",
            "  libupower-glib3 libusbmuxd6 libvpx5 libxkbfile1 libxtst6 libxxf86dga1\n",
            "  notification-daemon udev upower usbmuxd x11-utils\n",
            "Suggested packages:\n",
            "  chromium-l10n chromium-shell libusbmuxd-tools mesa-utils\n",
            "The following NEW packages will be installed:\n",
            "  chromium chromium-common chromium-driver chromium-sandbox libevent-2.1-6\n",
            "  libfontenc1 libicu63 libimobiledevice6 libjpeg62-turbo libplist3 libre2-5\n",
            "  libu2f-udev libupower-glib3 libusbmuxd6 libvpx5 libxkbfile1 libxtst6\n",
            "  libxxf86dga1 notification-daemon udev upower usbmuxd x11-utils\n",
            "The following packages will be upgraded:\n",
            "  libudev1\n",
            "1 upgraded, 23 newly installed, 0 to remove and 30 not upgraded.\n",
            "Need to get 76.2 MB of archives.\n",
            "After this operation, 266 MB of additional disk space will be used.\n",
            "Get:1 http://deb.debian.org/debian buster/main amd64 libevent-2.1-6 amd64 2.1.8-stable-4 [177 kB]\n",
            "Get:2 http://deb.debian.org/debian buster/main amd64 libicu63 amd64 63.1-6+deb10u3 [8,293 kB]\n",
            "Get:3 http://deb.debian.org/debian buster/main amd64 libjpeg62-turbo amd64 1:1.5.2-2+deb10u1 [133 kB]\n",
            "Get:4 http://deb.debian.org/debian buster/main amd64 libvpx5 amd64 1.7.0-3+deb10u1 [800 kB]\n",
            "Get:5 http://deb.debian.org/debian buster/main amd64 chromium-common amd64 90.0.4430.212-1~deb10u1 [1,423 kB]\n",
            "Get:6 http://deb.debian.org/debian buster/main amd64 chromium amd64 90.0.4430.212-1~deb10u1 [58.3 MB]\n",
            "Get:7 http://archive.ubuntu.com/ubuntu focal-updates/main amd64 libudev1 amd64 245.4-4ubuntu3.22 [75.4 kB]\n",
            "Get:8 http://deb.debian.org/debian buster/main amd64 chromium-driver amd64 90.0.4430.212-1~deb10u1 [4,703 kB]\n",
            "Get:9 http://deb.debian.org/debian buster/main amd64 chromium-sandbox amd64 90.0.4430.212-1~deb10u1 [146 kB]\n",
            "Get:10 http://archive.ubuntu.com/ubuntu focal-updates/main amd64 udev amd64 245.4-4ubuntu3.22 [1,366 kB]\n",
            "Get:11 http://archive.ubuntu.com/ubuntu focal/main amd64 libre2-5 amd64 20200101+dfsg-1build1 [162 kB]\n",
            "Get:12 http://archive.ubuntu.com/ubuntu focal/main amd64 libfontenc1 amd64 1:1.1.4-0ubuntu1 [14.0 kB]\n",
            "Get:13 http://archive.ubuntu.com/ubuntu focal/main amd64 libxkbfile1 amd64 1:1.1.0-1 [65.3 kB]\n",
            "Get:14 http://archive.ubuntu.com/ubuntu focal/main amd64 libxtst6 amd64 2:1.2.3-1 [12.8 kB]\n",
            "Get:15 http://archive.ubuntu.com/ubuntu focal/main amd64 libxxf86dga1 amd64 2:1.1.5-0ubuntu1 [12.0 kB]\n",
            "Get:16 http://archive.ubuntu.com/ubuntu focal/main amd64 x11-utils amd64 7.7+5 [199 kB]\n",
            "Get:17 http://archive.ubuntu.com/ubuntu focal/main amd64 libplist3 amd64 2.1.0-4build2 [31.6 kB]\n",
            "Get:18 http://archive.ubuntu.com/ubuntu focal/main amd64 libusbmuxd6 amd64 2.0.1-2 [19.1 kB]\n",
            "Get:19 http://archive.ubuntu.com/ubuntu focal/main amd64 libimobiledevice6 amd64 1.2.1~git20191129.9f79242-1build1 [65.2 kB]\n",
            "Get:20 http://archive.ubuntu.com/ubuntu focal/main amd64 libu2f-udev all 1.1.10-1 [6,108 B]\n",
            "Get:21 http://archive.ubuntu.com/ubuntu focal/main amd64 libupower-glib3 amd64 0.99.11-1build2 [43.2 kB]\n",
            "Get:22 http://archive.ubuntu.com/ubuntu focal/universe amd64 notification-daemon amd64 3.20.0-4 [37.0 kB]\n",
            "Get:23 http://archive.ubuntu.com/ubuntu focal/main amd64 upower amd64 0.99.11-1build2 [104 kB]\n",
            "Get:24 http://archive.ubuntu.com/ubuntu focal/main amd64 usbmuxd amd64 1.1.1~git20191130.9af2b12-1 [38.4 kB]\n",
            "Fetched 76.2 MB in 2s (32.0 MB/s)\n",
            "(Reading database ... 123069 files and directories currently installed.)\n",
            "Preparing to unpack .../libudev1_245.4-4ubuntu3.22_amd64.deb ...\n",
            "Unpacking libudev1:amd64 (245.4-4ubuntu3.22) over (245.4-4ubuntu3.21) ...\n",
            "Setting up libudev1:amd64 (245.4-4ubuntu3.22) ...\n",
            "Selecting previously unselected package udev.\n",
            "(Reading database ... 123069 files and directories currently installed.)\n",
            "Preparing to unpack .../00-udev_245.4-4ubuntu3.22_amd64.deb ...\n",
            "Unpacking udev (245.4-4ubuntu3.22) ...\n",
            "Selecting previously unselected package libevent-2.1-6:amd64.\n",
            "Preparing to unpack .../01-libevent-2.1-6_2.1.8-stable-4_amd64.deb ...\n",
            "Unpacking libevent-2.1-6:amd64 (2.1.8-stable-4) ...\n",
            "Selecting previously unselected package libicu63:amd64.\n",
            "Preparing to unpack .../02-libicu63_63.1-6+deb10u3_amd64.deb ...\n",
            "Unpacking libicu63:amd64 (63.1-6+deb10u3) ...\n",
            "Selecting previously unselected package libjpeg62-turbo:amd64.\n",
            "Preparing to unpack .../03-libjpeg62-turbo_1%3a1.5.2-2+deb10u1_amd64.deb ...\n",
            "Unpacking libjpeg62-turbo:amd64 (1:1.5.2-2+deb10u1) ...\n",
            "Selecting previously unselected package libre2-5:amd64.\n",
            "Preparing to unpack .../04-libre2-5_20200101+dfsg-1build1_amd64.deb ...\n",
            "Unpacking libre2-5:amd64 (20200101+dfsg-1build1) ...\n",
            "Selecting previously unselected package libvpx5:amd64.\n",
            "Preparing to unpack .../05-libvpx5_1.7.0-3+deb10u1_amd64.deb ...\n",
            "Unpacking libvpx5:amd64 (1.7.0-3+deb10u1) ...\n",
            "Selecting previously unselected package libfontenc1:amd64.\n",
            "Preparing to unpack .../06-libfontenc1_1%3a1.1.4-0ubuntu1_amd64.deb ...\n",
            "Unpacking libfontenc1:amd64 (1:1.1.4-0ubuntu1) ...\n",
            "Selecting previously unselected package libxkbfile1:amd64.\n",
            "Preparing to unpack .../07-libxkbfile1_1%3a1.1.0-1_amd64.deb ...\n",
            "Unpacking libxkbfile1:amd64 (1:1.1.0-1) ...\n",
            "Selecting previously unselected package libxtst6:amd64.\n",
            "Preparing to unpack .../08-libxtst6_2%3a1.2.3-1_amd64.deb ...\n",
            "Unpacking libxtst6:amd64 (2:1.2.3-1) ...\n",
            "Selecting previously unselected package libxxf86dga1:amd64.\n",
            "Preparing to unpack .../09-libxxf86dga1_2%3a1.1.5-0ubuntu1_amd64.deb ...\n",
            "Unpacking libxxf86dga1:amd64 (2:1.1.5-0ubuntu1) ...\n",
            "Selecting previously unselected package x11-utils.\n",
            "Preparing to unpack .../10-x11-utils_7.7+5_amd64.deb ...\n",
            "Unpacking x11-utils (7.7+5) ...\n",
            "Selecting previously unselected package chromium-common.\n",
            "Preparing to unpack .../11-chromium-common_90.0.4430.212-1~deb10u1_amd64.deb ...\n",
            "Unpacking chromium-common (90.0.4430.212-1~deb10u1) ...\n",
            "Selecting previously unselected package chromium.\n",
            "Preparing to unpack .../12-chromium_90.0.4430.212-1~deb10u1_amd64.deb ...\n",
            "Unpacking chromium (90.0.4430.212-1~deb10u1) ...\n",
            "Selecting previously unselected package chromium-driver.\n",
            "Preparing to unpack .../13-chromium-driver_90.0.4430.212-1~deb10u1_amd64.deb ...\n",
            "Unpacking chromium-driver (90.0.4430.212-1~deb10u1) ...\n",
            "Selecting previously unselected package chromium-sandbox.\n",
            "Preparing to unpack .../14-chromium-sandbox_90.0.4430.212-1~deb10u1_amd64.deb ...\n",
            "Unpacking chromium-sandbox (90.0.4430.212-1~deb10u1) ...\n",
            "Selecting previously unselected package libplist3:amd64.\n",
            "Preparing to unpack .../15-libplist3_2.1.0-4build2_amd64.deb ...\n",
            "Unpacking libplist3:amd64 (2.1.0-4build2) ...\n",
            "Selecting previously unselected package libusbmuxd6:amd64.\n",
            "Preparing to unpack .../16-libusbmuxd6_2.0.1-2_amd64.deb ...\n",
            "Unpacking libusbmuxd6:amd64 (2.0.1-2) ...\n",
            "Selecting previously unselected package libimobiledevice6:amd64.\n",
            "Preparing to unpack .../17-libimobiledevice6_1.2.1~git20191129.9f79242-1build1_amd64.deb ...\n",
            "Unpacking libimobiledevice6:amd64 (1.2.1~git20191129.9f79242-1build1) ...\n",
            "Selecting previously unselected package libu2f-udev.\n",
            "Preparing to unpack .../18-libu2f-udev_1.1.10-1_all.deb ...\n",
            "Unpacking libu2f-udev (1.1.10-1) ...\n",
            "Selecting previously unselected package libupower-glib3:amd64.\n",
            "Preparing to unpack .../19-libupower-glib3_0.99.11-1build2_amd64.deb ...\n",
            "Unpacking libupower-glib3:amd64 (0.99.11-1build2) ...\n",
            "Selecting previously unselected package notification-daemon.\n",
            "Preparing to unpack .../20-notification-daemon_3.20.0-4_amd64.deb ...\n",
            "Unpacking notification-daemon (3.20.0-4) ...\n",
            "Selecting previously unselected package upower.\n",
            "Preparing to unpack .../21-upower_0.99.11-1build2_amd64.deb ...\n",
            "Unpacking upower (0.99.11-1build2) ...\n",
            "Selecting previously unselected package usbmuxd.\n",
            "Preparing to unpack .../22-usbmuxd_1.1.1~git20191130.9af2b12-1_amd64.deb ...\n",
            "Unpacking usbmuxd (1.1.1~git20191130.9af2b12-1) ...\n",
            "Setting up libplist3:amd64 (2.1.0-4build2) ...\n",
            "Setting up libxtst6:amd64 (2:1.2.3-1) ...\n",
            "Setting up libxxf86dga1:amd64 (2:1.1.5-0ubuntu1) ...\n",
            "Setting up chromium-sandbox (90.0.4430.212-1~deb10u1) ...\n",
            "Setting up libicu63:amd64 (63.1-6+deb10u3) ...\n",
            "Setting up notification-daemon (3.20.0-4) ...\n",
            "Setting up libfontenc1:amd64 (1:1.1.4-0ubuntu1) ...\n",
            "Setting up libjpeg62-turbo:amd64 (1:1.5.2-2+deb10u1) ...\n",
            "Setting up udev (245.4-4ubuntu3.22) ...\n",
            "invoke-rc.d: could not determine current runlevel\n",
            "invoke-rc.d: policy-rc.d denied execution of start.\n",
            "Setting up libevent-2.1-6:amd64 (2.1.8-stable-4) ...\n",
            "Setting up libusbmuxd6:amd64 (2.0.1-2) ...\n",
            "Setting up libupower-glib3:amd64 (0.99.11-1build2) ...\n",
            "Setting up libre2-5:amd64 (20200101+dfsg-1build1) ...\n",
            "Setting up libxkbfile1:amd64 (1:1.1.0-1) ...\n",
            "Setting up libimobiledevice6:amd64 (1.2.1~git20191129.9f79242-1build1) ...\n",
            "Setting up libvpx5:amd64 (1.7.0-3+deb10u1) ...\n",
            "Setting up libu2f-udev (1.1.10-1) ...\n",
            "Failed to send reload request: No such file or directory\n",
            "Setting up upower (0.99.11-1build2) ...\n",
            "Setting up usbmuxd (1.1.1~git20191130.9af2b12-1) ...\n",
            "Warning: The home dir /var/lib/usbmux you specified can't be accessed: No such file or directory\n",
            "Adding system user `usbmux' (UID 105) ...\n",
            "Adding new user `usbmux' (UID 105) with group `plugdev' ...\n",
            "Not creating home directory `/var/lib/usbmux'.\n",
            "Setting up x11-utils (7.7+5) ...\n",
            "Setting up chromium-common (90.0.4430.212-1~deb10u1) ...\n",
            "Setting up chromium (90.0.4430.212-1~deb10u1) ...\n",
            "update-alternatives: using /usr/bin/chromium to provide /usr/bin/x-www-browser (x-www-browser) in auto mode\n",
            "update-alternatives: using /usr/bin/chromium to provide /usr/bin/gnome-www-browser (gnome-www-browser) in auto mode\n",
            "Setting up chromium-driver (90.0.4430.212-1~deb10u1) ...\n",
            "Processing triggers for systemd (245.4-4ubuntu3.22) ...\n",
            "Processing triggers for man-db (2.9.1-1) ...\n",
            "Processing triggers for dbus (1.12.16-2ubuntu2.3) ...\n",
            "Processing triggers for mime-support (3.64ubuntu1) ...\n",
            "Processing triggers for hicolor-icon-theme (0.17-2) ...\n",
            "Processing triggers for libc-bin (2.31-0ubuntu9.9) ...\n",
            "Requirement already satisfied: selenium in /usr/local/lib/python3.10/dist-packages (4.10.0)\n",
            "Requirement already satisfied: urllib3[socks]<3,>=1.26 in /usr/local/lib/python3.10/dist-packages (from selenium) (1.26.16)\n",
            "Requirement already satisfied: trio~=0.17 in /usr/local/lib/python3.10/dist-packages (from selenium) (0.22.1)\n",
            "Requirement already satisfied: trio-websocket~=0.9 in /usr/local/lib/python3.10/dist-packages (from selenium) (0.10.3)\n",
            "Requirement already satisfied: certifi>=2021.10.8 in /usr/local/lib/python3.10/dist-packages (from selenium) (2023.5.7)\n",
            "Requirement already satisfied: attrs>=20.1.0 in /usr/local/lib/python3.10/dist-packages (from trio~=0.17->selenium) (23.1.0)\n",
            "Requirement already satisfied: sortedcontainers in /usr/local/lib/python3.10/dist-packages (from trio~=0.17->selenium) (2.4.0)\n",
            "Requirement already satisfied: idna in /usr/local/lib/python3.10/dist-packages (from trio~=0.17->selenium) (3.4)\n",
            "Requirement already satisfied: outcome in /usr/local/lib/python3.10/dist-packages (from trio~=0.17->selenium) (1.2.0)\n",
            "Requirement already satisfied: sniffio in /usr/local/lib/python3.10/dist-packages (from trio~=0.17->selenium) (1.3.0)\n",
            "Requirement already satisfied: exceptiongroup>=1.0.0rc9 in /usr/local/lib/python3.10/dist-packages (from trio~=0.17->selenium) (1.1.1)\n",
            "Requirement already satisfied: wsproto>=0.14 in /usr/local/lib/python3.10/dist-packages (from trio-websocket~=0.9->selenium) (1.2.0)\n",
            "Requirement already satisfied: PySocks!=1.5.7,<2.0,>=1.5.6 in /usr/local/lib/python3.10/dist-packages (from urllib3[socks]<3,>=1.26->selenium) (1.7.1)\n",
            "Requirement already satisfied: h11<1,>=0.9.0 in /usr/local/lib/python3.10/dist-packages (from wsproto>=0.14->trio-websocket~=0.9->selenium) (0.14.0)\n",
            " _____\n",
            "|   __|___ ___ ___ ___ ___ ___ ___\n",
            "|   __|  _| . |_ -|  _| . | . | -_|\n",
            "|_____|___|___|___|___|___|  _|___|\n",
            "                          |_|\n",
            "\n"
          ]
        }
      ],
      "source": [
        "import pandas as pd\n",
        "import ecoscope\n",
        "import os\n",
        "\n",
        "ecoscope.init(selenium=True)"
      ]
    },
    {
      "attachments": {},
      "cell_type": "markdown",
      "metadata": {
        "id": "c3xIpIhzxVJN"
      },
      "source": [
        "## Parameters"
      ]
    },
    {
      "cell_type": "code",
      "execution_count": null,
      "metadata": {
        "colab": {
          "base_uri": "https://localhost:8080/"
        },
        "id": "_soMr4JKxZ2D",
        "outputId": "f14a1a15-b000-43f9-b7a4-0cb27c6496de"
      },
      "outputs": [
        {
          "name": "stdout",
          "output_type": "stream",
          "text": [
            "Mounted at /content/drive/\n"
          ]
        }
      ],
      "source": [
        "# EarthRanger Credentials\n",
        "ER_SERVER = \"https://mep-dev.pamdas.org\"\n",
        "ER_USERNAME = \"yun.wu\"\n",
        "#ER_PASSWORD = Variable.get('ER_PASSWORD')\n",
        "ER_PASSWORD = os.getenv(\"ER_PASSWORD\", \"\")\n",
        "print('ER {}.'.format(\n",
        "    ER_PASSWORD))",
        "\n",
        "# SubjectGroup\n",
        "subjectgroup_name = \"Elephants\"\n",
        "\n",
        "# Analysis Time Range\n",
        "start = \"2000-01-01\"\n",
        "end = \"2023-07-01\"\n",
        "\n",
        "# Relocations Bounding Box Filter Coordinates\n",
        "relocs_coord_filter_min_x = -5.0\n",
        "relocs_coord_filter_max_x = 1.0\n",
        "relocs_coord_filter_min_y = 12.0\n",
        "relocs_coord_filter_max_y = 18.0\n",
        "\n",
        "# Relocations Filter Point Coordinates\n",
        "relocs_filter_point_coords = [[180, 90], [0, 0]]\n",
        "\n",
        "# Trajectory Filter Settings\n",
        "traj_min_length_meters=0.0\n",
        "traj_max_length_meters=10000\n",
        "traj_min_time_secs=120.0\n",
        "traj_max_time_secs=4 * 60 * 60\n",
        "traj_min_speed_kmhr=0.000001\n",
        "traj_max_speed_kmhr=8.0"
      ]
    },
    {
      "attachments": {},
      "cell_type": "markdown",
      "metadata": {
        "id": "iZvlzjOixgKh"
      },
      "source": [
        "## Logic"
      ]
    },
    {
      "attachments": {},
      "cell_type": "markdown",
      "metadata": {
        "id": "255a9jjzxqQq"
      },
      "source": [
        "### Connect to EarthRanger"
      ]
    },
    {
      "cell_type": "code",
      "execution_count": null,
      "metadata": {
        "colab": {
          "base_uri": "https://localhost:8080/"
        },
        "id": "RyGiMkKL1i0F",
        "outputId": "5172cdef-f9b3-4cb8-bf4e-d248d0cc80b9"
      },
      "outputs": [
        {
          "name": "stdout",
          "output_type": "stream",
          "text": [
            "Please enter your ER password: ··········\n"
          ]
        }
      ],
      "source": [
        "er_io = ecoscope.io.EarthRangerIO(\n",
        "    server=ER_SERVER,\n",
        "    username=ER_USERNAME,\n",
        "    password=ER_PASSWORD,\n",
        "    tcp_limit=5,\n",
        "    sub_page_size=4000,\n",
        ")"
      ]
    },
    {
      "attachments": {},
      "cell_type": "markdown",
      "metadata": {
        "id": "6DumqDjVzhqk"
      },
      "source": [
        "### Relocations"
      ]
    },
    {
      "cell_type": "code",
      "execution_count": null,
      "metadata": {
        "colab": {
          "base_uri": "https://localhost:8080/",
          "height": 85,
          "referenced_widgets": [
            "908a58c5d63d4446a800f66bb8f3a396",
            "db8154aa130549b192c92eecb9ecb77a",
            "8c19659898614cac99e73e1a4cb80bf6",
            "ceb0732ecec44041ba674deffc5ee40a",
            "ee6c1c8b3af14cb4a87c9b7dbe71b2ea",
            "3844cff1475c4344a0209ed8b6bec8cc",
            "414a23ad11ce487982f4c68f18c280b9",
            "ec557693558f477bbce21f5a81c7f3c8",
            "965f56dde29e48eb9305b32c7bd56f45",
            "b89bfad8ebdd4f3bac27ebe48e1b3bc3",
            "bf9135c6892a4bc082b5545cc40be8e7"
          ]
        },
        "id": "sExiivOo1loo",
        "outputId": "81915b59-b369-44a3-a82e-79aae45dbee2"
      },
      "outputs": [
        {
          "data": {
            "application/vnd.jupyter.widget-view+json": {
              "model_id": "908a58c5d63d4446a800f66bb8f3a396",
              "version_major": 2,
              "version_minor": 0
            },
            "text/plain": [
              "  0%|          | 0/2 [00:00<?, ?it/s]"
            ]
          },
          "metadata": {},
          "output_type": "display_data"
        },
        {
          "name": "stdout",
          "output_type": "stream",
          "text": [
            "CPU times: user 375 ms, sys: 85.1 ms, total: 460 ms\n",
            "Wall time: 4.08 s\n"
          ]
        }
      ],
      "source": [
        "%%time\n",
        "relocs = er_io.get_subjectgroup_observations(\n",
        "    group_name=subjectgroup_name,\n",
        "    include_inactive=True,\n",
        "    include_subject_details=True,\n",
        "    include_source_details=False,\n",
        "    include_subjectsource_details=False,\n",
        "    filter=0,\n",
        "    since=pd.to_datetime(start).isoformat(),\n",
        "    until=pd.to_datetime(end).isoformat(),\n",
        "    include_details=True,\n",
        ")"
      ]
    },
    {
      "cell_type": "code",
      "execution_count": null,
      "metadata": {
        "id": "uJduM4fOPf9r"
      },
      "outputs": [],
      "source": [
        "relocs = relocs[relocs.extra__subject__name != 'Habiba'] # temporary hack until relocs_filter method is fixed..."
      ]
    },
    {
      "cell_type": "code",
      "execution_count": null,
      "metadata": {
        "id": "k9QcsI4113o5"
      },
      "outputs": [],
      "source": [
        "# coord_filter = ecoscope.base.RelocsCoordinateFilter(\n",
        "#     min_x=relocs_coord_filter_min_x,\n",
        "#     max_x=relocs_coord_filter_max_x,\n",
        "#     min_y=relocs_coord_filter_min_y,\n",
        "#     max_y=relocs_coord_filter_max_x,\n",
        "#     filter_point_coords=relocs_filter_point_coords,\n",
        "# )\n",
        "# relocs.apply_reloc_filter(coord_filter, inplace=True)\n",
        "# relocs.remove_filtered(inplace=True)"
      ]
    },
    {
      "cell_type": "code",
      "execution_count": null,
      "metadata": {
        "colab": {
          "base_uri": "https://localhost:8080/"
        },
        "id": "K57TB9Xf19F1",
        "outputId": "56500fb8-137b-4fbb-8356-be1a69c66a8d"
      },
      "outputs": [
        {
          "name": "stdout",
          "output_type": "stream",
          "text": [
            "CPU times: user 63.8 ms, sys: 0 ns, total: 63.8 ms\n",
            "Wall time: 67.4 ms\n"
          ]
        }
      ],
      "source": [
        "%%time\n",
        "## Clean up columns that are not compatible with a GPKG format\n",
        "relocs.drop(\n",
        "    columns=relocs.columns[relocs.applymap(lambda x: isinstance(x, list)).any()],\n",
        "    errors=\"ignore\",\n",
        "    inplace=True,\n",
        ")"
      ]
    },
    {
      "attachments": {},
      "cell_type": "markdown",
      "metadata": {
        "id": "3B0uusJrXbbm"
      },
      "source": [
        "## Trajectory"
      ]
    },
    {
      "cell_type": "code",
      "execution_count": null,
      "metadata": {
        "colab": {
          "base_uri": "https://localhost:8080/"
        },
        "id": "sM6ZSNMOWidC",
        "outputId": "73a4e1a7-dba9-414c-d1c3-51d0d83c75f3"
      },
      "outputs": [
        {
          "name": "stdout",
          "output_type": "stream",
          "text": [
            "CPU times: user 180 ms, sys: 261 µs, total: 180 ms\n",
            "Wall time: 450 ms\n"
          ]
        }
      ],
      "source": [
        "%%time\n",
        "## create a trajectory\n",
        "traj = ecoscope.base.Trajectory.from_relocations(relocs)"
      ]
    },
    {
      "cell_type": "code",
      "execution_count": null,
      "metadata": {
        "id": "G0ibrot0ikMM"
      },
      "outputs": [],
      "source": [
        "## filter the trajectory\n",
        "traj_seg_filter = ecoscope.base.TrajSegFilter(\n",
        "    min_length_meters=traj_min_length_meters,\n",
        "    max_length_meters=traj_max_length_meters,\n",
        "    min_time_secs=traj_min_time_secs,\n",
        "    max_time_secs=traj_max_time_secs,\n",
        "    min_speed_kmhr=traj_min_speed_kmhr,\n",
        "    max_speed_kmhr=traj_max_speed_kmhr,\n",
        ")\n",
        "traj.apply_traj_filter(traj_seg_filter, inplace=True)\n",
        "traj.remove_filtered(inplace=True)"
      ]
    },
    {
      "cell_type": "code",
      "execution_count": null,
      "metadata": {
        "colab": {
          "base_uri": "https://localhost:8080/"
        },
        "id": "eXMnpfuiisGX",
        "outputId": "24ec854a-e8bb-40df-825f-b0d0b0c617bd"
      },
      "outputs": [
        {
          "name": "stdout",
          "output_type": "stream",
          "text": [
            "CPU times: user 57.1 ms, sys: 0 ns, total: 57.1 ms\n",
            "Wall time: 58.3 ms\n"
          ]
        }
      ],
      "source": [
        "%%time\n",
        "## remove any incompatible columns for geopackage export\n",
        "traj.drop(\n",
        "    columns=traj.columns[traj.applymap(lambda x: isinstance(x, list)).any()],\n",
        "    errors=\"ignore\",\n",
        "    inplace=True,\n",
        ")"
      ]
    },
    {
      "attachments": {},
      "cell_type": "markdown",
      "metadata": {
        "id": "n7h5Ft2q0ioq"
      },
      "source": [
        "## Outputs"
      ]
    },
    {
      "cell_type": "code",
      "execution_count": null,
      "metadata": {
        "colab": {
          "base_uri": "https://localhost:8080/"
        },
        "id": "DDwxF_7oPN4Z",
        "outputId": "4f7ccd0b-46ee-4cd4-e79c-ec98901d7f82"
      },
      "outputs": [
        {
          "data": {
            "text/plain": [
              "4500"
            ]
          },
          "execution_count": 24,
          "metadata": {},
          "output_type": "execute_result"
        }
      ],
      "source": [
        "# Calculate the number of rows in the geodatabse\n",
        "len(relocs)"
      ]
    },
    {
      "cell_type": "code",
      "execution_count": null,
      "metadata": {
        "colab": {
          "base_uri": "https://localhost:8080/"
        },
        "id": "su0fey6bNp_m",
        "outputId": "3e6151a8-1bf1-46ac-93aa-f98bfdc20d29"
      },
      "outputs": [
        {
          "data": {
            "text/plain": [
              "2679"
            ]
          },
          "execution_count": 25,
          "metadata": {},
          "output_type": "execute_result"
        }
      ],
      "source": [
        "len(traj)"
      ]
    },
    {
      "cell_type": "code",
      "execution_count": null,
      "metadata": {
        "colab": {
          "base_uri": "https://localhost:8080/",
          "height": 621
        },
        "id": "cyumS3xJOGFb",
        "outputId": "fae1a02c-93c2-4336-bed6-e6dce457e23e"
      },
      "outputs": [
        {
          "data": {
            "text/html": [
              "<iframe srcdoc=\"&lt;!DOCTYPE html&gt;\n",
              "&lt;html&gt;\n",
              "&lt;head&gt;\n",
              "    \n",
              "    &lt;meta http-equiv=&quot;content-type&quot; content=&quot;text/html; charset=UTF-8&quot; /&gt;\n",
              "    \n",
              "        &lt;script&gt;\n",
              "            L_NO_TOUCH = false;\n",
              "            L_DISABLE_3D = false;\n",
              "        &lt;/script&gt;\n",
              "    \n",
              "    &lt;style&gt;html, body {width: 100%;height: 100%;margin: 0;padding: 0;}&lt;/style&gt;\n",
              "    &lt;style&gt;#map {position:absolute;top:0;bottom:0;right:0;left:0;}&lt;/style&gt;\n",
              "    &lt;script src=&quot;https://cdn.jsdelivr.net/npm/leaflet@1.9.3/dist/leaflet.js&quot;&gt;&lt;/script&gt;\n",
              "    &lt;script src=&quot;https://code.jquery.com/jquery-1.12.4.min.js&quot;&gt;&lt;/script&gt;\n",
              "    &lt;script src=&quot;https://cdn.jsdelivr.net/npm/bootstrap@5.2.2/dist/js/bootstrap.bundle.min.js&quot;&gt;&lt;/script&gt;\n",
              "    &lt;script src=&quot;https://cdnjs.cloudflare.com/ajax/libs/Leaflet.awesome-markers/2.0.2/leaflet.awesome-markers.js&quot;&gt;&lt;/script&gt;\n",
              "    &lt;link rel=&quot;stylesheet&quot; href=&quot;https://cdn.jsdelivr.net/npm/leaflet@1.9.3/dist/leaflet.css&quot;/&gt;\n",
              "    &lt;link rel=&quot;stylesheet&quot; href=&quot;https://cdn.jsdelivr.net/npm/bootstrap@5.2.2/dist/css/bootstrap.min.css&quot;/&gt;\n",
              "    &lt;link rel=&quot;stylesheet&quot; href=&quot;https://netdna.bootstrapcdn.com/bootstrap/3.0.0/css/bootstrap.min.css&quot;/&gt;\n",
              "    &lt;link rel=&quot;stylesheet&quot; href=&quot;https://cdn.jsdelivr.net/npm/@fortawesome/fontawesome-free@6.2.0/css/all.min.css&quot;/&gt;\n",
              "    &lt;link rel=&quot;stylesheet&quot; href=&quot;https://cdnjs.cloudflare.com/ajax/libs/Leaflet.awesome-markers/2.0.2/leaflet.awesome-markers.css&quot;/&gt;\n",
              "    &lt;link rel=&quot;stylesheet&quot; href=&quot;https://cdn.jsdelivr.net/gh/python-visualization/folium/folium/templates/leaflet.awesome.rotate.min.css&quot;/&gt;\n",
              "    \n",
              "            &lt;meta name=&quot;viewport&quot; content=&quot;width=device-width,\n",
              "                initial-scale=1.0, maximum-scale=1.0, user-scalable=no&quot; /&gt;\n",
              "            &lt;style&gt;\n",
              "                #map_00f4a98da3eff6b658375998b48412f3 {\n",
              "                    position: relative;\n",
              "                    width: 100.0%;\n",
              "                    height: 100.0%;\n",
              "                    left: 0.0%;\n",
              "                    top: 0.0%;\n",
              "                }\n",
              "                .leaflet-container { font-size: 1rem; }\n",
              "            &lt;/style&gt;\n",
              "        \n",
              "    \n",
              "        &lt;style&gt;\n",
              "            #macro_element_8fb3eada05d2f608fd41fd897f961bab {\n",
              "                position: absolute;\n",
              "                z-index: 9999;\n",
              "                left: 0;\n",
              "                right: 0;\n",
              "                top: 0;\n",
              "                bottom: ;\n",
              "            }\n",
              "        &lt;/style&gt;\n",
              "        \n",
              "&lt;/head&gt;\n",
              "&lt;body&gt;\n",
              "    \n",
              "    \n",
              "            &lt;div class=&quot;folium-map&quot; id=&quot;map_00f4a98da3eff6b658375998b48412f3&quot; &gt;&lt;/div&gt;\n",
              "        \n",
              "    \n",
              "        &lt;div id=&quot;macro_element_8fb3eada05d2f608fd41fd897f961bab&quot;&gt;\n",
              "                     &lt;div style=&quot;position: absolute; left: 50%;&quot;&gt;\n",
              "            &lt;p style=&quot;position: relative;\n",
              "                    left: -50%;\n",
              "                    border: 1px solid #000;\n",
              "                    border-radius: 5px;\n",
              "                    background-color: #FFFFFF99;\n",
              "                    padding: 3px;\n",
              "                    font-size: 18px;\n",
              "                    align: center;\n",
              "                    &quot;&gt;\n",
              "            Elephant Speed Map\n",
              "            &lt;/p&gt;\n",
              "        &lt;/div&gt;\n",
              "        \n",
              "        &lt;/div&gt;\n",
              "        \n",
              "    \n",
              "\n",
              "&lt;!doctype html&gt;\n",
              "&lt;html lang=&quot;en&quot;&gt;\n",
              "&lt;head&gt;\n",
              "  &lt;meta charset=&quot;utf-8&quot;&gt;\n",
              "  &lt;meta name=&quot;viewport&quot; content=&quot;width=device-width, initial-scale=1&quot;&gt;\n",
              "  &lt;title&gt;jQuery UI Draggable - Default functionality&lt;/title&gt;\n",
              "  &lt;link rel=&quot;stylesheet&quot; href=&quot;//code.jquery.com/ui/1.12.1/themes/base/jquery-ui.css&quot;&gt;\n",
              "\n",
              "  &lt;script src=&quot;https://code.jquery.com/jquery-1.12.4.js&quot;&gt;&lt;/script&gt;\n",
              "  &lt;script src=&quot;https://code.jquery.com/ui/1.12.1/jquery-ui.js&quot;&gt;&lt;/script&gt;\n",
              "\n",
              "  &lt;script&gt;\n",
              "  $( function() {\n",
              "    $( &quot;#maplegend&quot; ).draggable({\n",
              "                    start: function (event, ui) {\n",
              "                        $(this).css({\n",
              "                            right: &quot;auto&quot;,\n",
              "                            top: &quot;auto&quot;,\n",
              "                            bottom: &quot;auto&quot;\n",
              "                        });\n",
              "                    }\n",
              "                });\n",
              "});\n",
              "\n",
              "  &lt;/script&gt;\n",
              "&lt;/head&gt;\n",
              "&lt;body&gt;\n",
              "\n",
              "\n",
              "&lt;div id=&#x27;maplegend&#x27; class=&#x27;maplegend&#x27;\n",
              "    style=&#x27;position: absolute; z-index:9999; border:2px solid grey; background-color:rgba(255, 255, 255, 0.8);\n",
              "     border-radius:6px; padding: 10px; font-size:14px; right: 20px; bottom: 20px;&#x27;&gt;\n",
              "\n",
              "&lt;div class=&#x27;legend-title&#x27;&gt;Legend&lt;/div&gt;\n",
              "&lt;div class=&#x27;legend-scale&#x27;&gt;\n",
              "  &lt;ul class=&#x27;legend-labels&#x27;&gt;\n",
              "    &lt;li&gt;&lt;span style=&#x27;background:#1a9850;opacity:1.0;&#x27;&gt;&lt;/span&gt;0.0 - 0.6 km/hr&lt;/li&gt;\n",
              "    &lt;li&gt;&lt;span style=&#x27;background:#91cf60;opacity:1.0;&#x27;&gt;&lt;/span&gt;0.6 - 1.2 km/hr&lt;/li&gt;\n",
              "    &lt;li&gt;&lt;span style=&#x27;background:#d9ef8b;opacity:1.0;&#x27;&gt;&lt;/span&gt;1.2 - 1.9 km/hr&lt;/li&gt;\n",
              "    &lt;li&gt;&lt;span style=&#x27;background:#fee08b;opacity:1.0;&#x27;&gt;&lt;/span&gt;1.9 - 2.5 km/hr&lt;/li&gt;\n",
              "    &lt;li&gt;&lt;span style=&#x27;background:#fc8d59;opacity:1.0;&#x27;&gt;&lt;/span&gt;2.5 - 3.1 km/hr&lt;/li&gt;\n",
              "    &lt;li&gt;&lt;span style=&#x27;background:#d73027;opacity:1.0;&#x27;&gt;&lt;/span&gt;3.1 - 3.7 km/hr&lt;/li&gt;\n",
              "  &lt;/ul&gt;\n",
              "&lt;/div&gt;\n",
              "&lt;/div&gt;\n",
              "\n",
              "&lt;/body&gt;\n",
              "&lt;/html&gt;\n",
              "\n",
              "&lt;style type=&#x27;text/css&#x27;&gt;\n",
              "  .maplegend .legend-title {\n",
              "    text-align: left;\n",
              "    margin-bottom: 5px;\n",
              "    font-weight: bold;\n",
              "    font-size: 90%;\n",
              "    }\n",
              "  .maplegend .legend-scale ul {\n",
              "    margin: 0;\n",
              "    margin-bottom: 5px;\n",
              "    padding: 0;\n",
              "    float: left;\n",
              "    list-style: none;\n",
              "    }\n",
              "  .maplegend .legend-scale ul li {\n",
              "    font-size: 80%;\n",
              "    list-style: none;\n",
              "    margin-left: 0;\n",
              "    line-height: 18px;\n",
              "    margin-bottom: 2px;\n",
              "    }\n",
              "  .maplegend ul.legend-labels li span {\n",
              "    display: block;\n",
              "    float: left;\n",
              "    height: 16px;\n",
              "    width: 30px;\n",
              "    margin-right: 5px;\n",
              "    margin-left: 0;\n",
              "    border: 1px solid #999;\n",
              "    }\n",
              "  .maplegend .legend-source {\n",
              "    font-size: 80%;\n",
              "    color: #777;\n",
              "    clear: both;\n",
              "    }\n",
              "  .maplegend a {\n",
              "    color: #777;\n",
              "    }\n",
              "&lt;/style&gt;\n",
              "&lt;/body&gt;\n",
              "&lt;script&gt;\n",
              "    \n",
              "    \n",
              "            var map_00f4a98da3eff6b658375998b48412f3 = L.map(\n",
              "                &quot;map_00f4a98da3eff6b658375998b48412f3&quot;,\n",
              "                {\n",
              "                    center: [20.0, 0.0],\n",
              "                    crs: L.CRS.EPSG3857,\n",
              "                    zoom: 2,\n",
              "                    zoomControl: false,\n",
              "                    preferCanvas: false,\n",
              "                    canvas: true,\n",
              "                    drawControl: false,\n",
              "                    fullscreenControl: false,\n",
              "                    layersControl: false,\n",
              "                    measureControl: false,\n",
              "                    searchControl: false,\n",
              "                    drawExport: false,\n",
              "                }\n",
              "            );\n",
              "            L.control.scale().addTo(map_00f4a98da3eff6b658375998b48412f3);\n",
              "\n",
              "            \n",
              "\n",
              "        \n",
              "    \n",
              "            var tile_layer_5cf0a02fd4ec3eb6489d28401429a3ff = L.tileLayer(\n",
              "                &quot;https://{s}.tile.openstreetmap.org/{z}/{x}/{y}.png&quot;,\n",
              "                {&quot;attribution&quot;: &quot;Data by \\u0026copy; \\u003ca target=\\&quot;_blank\\&quot; href=\\&quot;http://openstreetmap.org\\&quot;\\u003eOpenStreetMap\\u003c/a\\u003e, under \\u003ca target=\\&quot;_blank\\&quot; href=\\&quot;http://www.openstreetmap.org/copyright\\&quot;\\u003eODbL\\u003c/a\\u003e.&quot;, &quot;detectRetina&quot;: false, &quot;maxNativeZoom&quot;: 24, &quot;maxZoom&quot;: 24, &quot;minZoom&quot;: 0, &quot;noWrap&quot;: false, &quot;opacity&quot;: 1, &quot;subdomains&quot;: &quot;abc&quot;, &quot;tms&quot;: false}\n",
              "            ).addTo(map_00f4a98da3eff6b658375998b48412f3);\n",
              "        \n",
              "    \n",
              "            map_00f4a98da3eff6b658375998b48412f3.fitBounds(\n",
              "                [[20, 0], [20, 0]],\n",
              "                {&quot;maxZoom&quot;: 2}\n",
              "            );\n",
              "        \n",
              "    \n",
              "            var tile_layer_7755774a091eba39a005297eb81f9528 = L.tileLayer(\n",
              "                &quot;https://mt1.google.com/vt/lyrs=y\\u0026x={x}\\u0026y={y}\\u0026z={z}&quot;,\n",
              "                {&quot;attribution&quot;: &quot;Google&quot;, &quot;detectRetina&quot;: false, &quot;maxNativeZoom&quot;: 18, &quot;maxZoom&quot;: 18, &quot;minZoom&quot;: 0, &quot;noWrap&quot;: false, &quot;opacity&quot;: 1.0, &quot;subdomains&quot;: &quot;abc&quot;, &quot;tms&quot;: false}\n",
              "            ).addTo(map_00f4a98da3eff6b658375998b48412f3);\n",
              "        \n",
              "    \n",
              "        function geo_json_21d99e113dfcb3b490781fe37c88d966_styler(feature) {\n",
              "            switch(feature.id) {\n",
              "                case &quot;0&quot;: \n",
              "                    return {&quot;color&quot;: &quot;#1a9850&quot;, &quot;fillColor&quot;: &quot;#1a9850&quot;, &quot;fillOpacity&quot;: 0.5, &quot;weight&quot;: 2};\n",
              "                case &quot;1&quot;: \n",
              "                    return {&quot;color&quot;: &quot;#91cf60&quot;, &quot;fillColor&quot;: &quot;#91cf60&quot;, &quot;fillOpacity&quot;: 0.5, &quot;weight&quot;: 2};\n",
              "                case &quot;2&quot;: \n",
              "                    return {&quot;color&quot;: &quot;#d9ef8b&quot;, &quot;fillColor&quot;: &quot;#d9ef8b&quot;, &quot;fillOpacity&quot;: 0.5, &quot;weight&quot;: 2};\n",
              "                case &quot;4&quot;: \n",
              "                    return {&quot;color&quot;: &quot;#fc8d59&quot;, &quot;fillColor&quot;: &quot;#fc8d59&quot;, &quot;fillOpacity&quot;: 0.5, &quot;weight&quot;: 2};\n",
              "                case &quot;5&quot;: \n",
              "                    return {&quot;color&quot;: &quot;#d73027&quot;, &quot;fillColor&quot;: &quot;#d73027&quot;, &quot;fillOpacity&quot;: 0.5, &quot;weight&quot;: 2};\n",
              "                default:\n",
              "                    return {&quot;color&quot;: &quot;#fee08b&quot;, &quot;fillColor&quot;: &quot;#fee08b&quot;, &quot;fillOpacity&quot;: 0.5, &quot;weight&quot;: 2};\n",
              "            }\n",
              "        }\n",
              "        function geo_json_21d99e113dfcb3b490781fe37c88d966_highlighter(feature) {\n",
              "            switch(feature.id) {\n",
              "                default:\n",
              "                    return {&quot;fillOpacity&quot;: 0.75};\n",
              "            }\n",
              "        }\n",
              "        function geo_json_21d99e113dfcb3b490781fe37c88d966_pointToLayer(feature, latlng) {\n",
              "            var opts = {&quot;bubblingMouseEvents&quot;: true, &quot;color&quot;: &quot;#3388ff&quot;, &quot;dashArray&quot;: null, &quot;dashOffset&quot;: null, &quot;fill&quot;: true, &quot;fillColor&quot;: &quot;#3388ff&quot;, &quot;fillOpacity&quot;: 0.2, &quot;fillRule&quot;: &quot;evenodd&quot;, &quot;lineCap&quot;: &quot;round&quot;, &quot;lineJoin&quot;: &quot;round&quot;, &quot;opacity&quot;: 1.0, &quot;radius&quot;: 2, &quot;stroke&quot;: true, &quot;weight&quot;: 3};\n",
              "            \n",
              "            let style = geo_json_21d99e113dfcb3b490781fe37c88d966_styler(feature)\n",
              "            Object.assign(opts, style)\n",
              "            \n",
              "            return new L.CircleMarker(latlng, opts)\n",
              "        }\n",
              "\n",
              "        function geo_json_21d99e113dfcb3b490781fe37c88d966_onEachFeature(feature, layer) {\n",
              "            layer.on({\n",
              "                mouseout: function(e) {\n",
              "                    if(typeof e.target.setStyle === &quot;function&quot;){\n",
              "                        geo_json_21d99e113dfcb3b490781fe37c88d966.resetStyle(e.target);\n",
              "                    }\n",
              "                },\n",
              "                mouseover: function(e) {\n",
              "                    if(typeof e.target.setStyle === &quot;function&quot;){\n",
              "                        const highlightStyle = geo_json_21d99e113dfcb3b490781fe37c88d966_highlighter(e.target.feature)\n",
              "                        e.target.setStyle(highlightStyle);\n",
              "                    }\n",
              "                },\n",
              "            });\n",
              "        };\n",
              "        var geo_json_21d99e113dfcb3b490781fe37c88d966 = L.geoJson(null, {\n",
              "                onEachFeature: geo_json_21d99e113dfcb3b490781fe37c88d966_onEachFeature,\n",
              "            \n",
              "                style: geo_json_21d99e113dfcb3b490781fe37c88d966_styler,\n",
              "                pointToLayer: geo_json_21d99e113dfcb3b490781fe37c88d966_pointToLayer\n",
              "        });\n",
              "\n",
              "        function geo_json_21d99e113dfcb3b490781fe37c88d966_add (data) {\n",
              "            geo_json_21d99e113dfcb3b490781fe37c88d966\n",
              "                .addData(data)\n",
              "                .addTo(map_00f4a98da3eff6b658375998b48412f3);\n",
              "        }\n",
              "            geo_json_21d99e113dfcb3b490781fe37c88d966_add({&quot;bbox&quot;: [-3.0935183, 14.4917233, -0.938395, 15.73511], &quot;features&quot;: [{&quot;bbox&quot;: [-3.0935183, 14.4917233, -0.9407983, 15.73511], &quot;geometry&quot;: {&quot;coordinates&quot;: [[[-2.159435, 15.654885], [-2.1581517, 15.65648]], [[-2.1683, 15.65542], [-2.1657117, 15.6577383]], [[-2.1657117, 15.6577383], [-2.1642783, 15.6580283]], [[-2.1637033, 15.6517117], [-2.1617833, 15.6523517]], [[-2.1617833, 15.6523517], [-2.1614633, 15.6529883]], [[-2.1614633, 15.6529883], [-2.15755, 15.6516583]], [[-2.1592517, 15.66191], [-2.1631283, 15.6657533]], [[-2.1631283, 15.6657533], [-2.1612867, 15.6637517]], [[-2.1626133, 15.6599083], [-2.1620117, 15.6516467]], [[-2.1618283, 15.6523233], [-2.1591267, 15.6529267]], [[-2.1378067, 15.6422333], [-2.1382267, 15.64347]], [[-2.1597733, 15.6567817], [-2.161475, 15.6578683]], [[-2.161475, 15.6578683], [-2.1604817, 15.6555817]], [[-2.1604817, 15.6555817], [-2.1611733, 15.651675]], [[-2.1611733, 15.651675], [-2.1610717, 15.6512383]], [[-2.1636433, 15.6579883], [-2.1605467, 15.6512217]], [[-2.1585167, 15.6558617], [-2.159235, 15.656705]], [[-2.159235, 15.656705], [-2.1595183, 15.6591117]], [[-2.1700783, 15.6541583], [-2.1719017, 15.6592317]], [[-2.1637883, 15.658075], [-2.163885, 15.6578567]], [[-2.15987, 15.6595783], [-2.16057, 15.6610983]], [[-2.16057, 15.6610983], [-2.1608833, 15.6614467]], [[-2.1593283, 15.65363], [-2.15714, 15.6467]], [[-2.15714, 15.6467], [-2.1589383, 15.6445583]], [[-2.1589383, 15.6445583], [-2.16522, 15.6485317]], [[-2.17068, 15.6669383], [-2.172805, 15.66942]], [[-2.172805, 15.66942], [-2.17823, 15.677505]], [[-2.2670683, 15.732025], [-2.2700183, 15.73285]], [[-2.2700183, 15.73285], [-2.2724, 15.7337783]], [[-2.2724, 15.7337783], [-2.2705283, 15.7337567]], [[-2.252475, 15.7161817], [-2.235915, 15.715795]], [[-2.235915, 15.715795], [-2.2359567, 15.7157817]], [[-2.2359567, 15.7157817], [-2.2356683, 15.7154733]], [[-2.2561183, 15.7212983], [-2.26203, 15.72484]], [[-2.2713717, 15.7331117], [-2.271345, 15.7331]], [[-2.2764, 15.7207633], [-2.2739617, 15.7197783]], [[-2.2704233, 15.7271417], [-2.27079, 15.73226]], [[-2.27079, 15.73226], [-2.26825, 15.7325583]], [[-2.26825, 15.7325583], [-2.26004, 15.7296133]], [[-2.2693233, 15.7348383], [-2.2689333, 15.734695]], [[-2.2689333, 15.734695], [-2.2695217, 15.734435]], [[-2.2695217, 15.734435], [-2.26687, 15.7321033]], [[-2.2584567, 15.725925], [-2.2609767, 15.7249483]], [[-2.2702033, 15.7318567], [-2.2677933, 15.73232]], [[-2.2603733, 15.7323517], [-2.2637583, 15.7349733]], [[-2.2648533, 15.7323067], [-2.258085, 15.7277117]], [[-2.2442333, 15.712725], [-2.2442517, 15.7124033]], [[-2.2618817, 15.7255233], [-2.2696383, 15.73171]], [[-2.2696383, 15.73171], [-2.2709417, 15.731415]], [[-2.2709417, 15.731415], [-2.2680567, 15.7230283]], [[-2.2680567, 15.7230283], [-2.2639017, 15.7189367]], [[-2.2381883, 15.7000917], [-2.23294, 15.697665]], [[-2.2637883, 15.7350467], [-2.26799, 15.7349517]], [[-2.2313733, 15.7144217], [-2.2301067, 15.71252]], [[-2.2301067, 15.71252], [-2.2312467, 15.71281]], [[-2.25554, 15.72895], [-2.2369167, 15.7309333]], [[-2.24984, 15.7151667], [-2.247105, 15.7127317]], [[-2.247105, 15.7127317], [-2.2461167, 15.71074]], [[-2.2369733, 15.7153733], [-2.2357433, 15.7167767]], [[-2.2582217, 15.7349467], [-2.2692717, 15.734705]], [[-2.2692717, 15.734705], [-2.269985, 15.7342767]], [[-2.269985, 15.7342767], [-2.2708917, 15.7331683]], [[-2.2708917, 15.7331683], [-2.26678, 15.7325633]], [[-2.2549317, 15.7271383], [-2.2519067, 15.71717]], [[-2.2671733, 15.72732], [-2.2715983, 15.732265]], [[-2.2696967, 15.73293], [-2.268625, 15.7327217]], [[-2.2356483, 15.715445], [-2.2365217, 15.7149867]], [[-2.26368, 15.73511], [-2.2638, 15.734925]], [[-2.2638, 15.734925], [-2.271615, 15.7339233]], [[-2.271615, 15.7339233], [-2.272715, 15.7334333]], [[-2.25654, 15.7226417], [-2.2629917, 15.7267933]], [[-2.2629917, 15.7267933], [-2.2639567, 15.72672]], [[-2.2639567, 15.72672], [-2.2699783, 15.73367]], [[-2.2315883, 15.714395], [-2.2384117, 15.7163417]], [[-2.2523933, 15.7185883], [-2.265585, 15.7266433]], [[-2.30991, 15.7234367], [-2.307485, 15.7229383]], [[-2.2737517, 15.7337683], [-2.2723383, 15.73303]], [[-2.2723383, 15.73303], [-2.2676533, 15.7319467]], [[-2.1704433, 15.66694], [-2.169865, 15.66615]], [[-2.1663733, 15.6537133], [-2.162615, 15.647905]], [[-2.162615, 15.647905], [-2.162475, 15.6478967]], [[-2.2670083, 15.7320567], [-2.272505, 15.7331033]], [[-2.2693133, 15.727605], [-2.2693367, 15.7276117]], [[-2.2642683, 15.7223917], [-2.2638967, 15.72335]], [[-2.2638967, 15.72335], [-2.2725133, 15.7298567]], [[-2.2725133, 15.7298567], [-2.2736233, 15.7295983]], [[-2.273795, 15.731575], [-2.27379, 15.7285717]], [[-2.2734283, 15.7204883], [-2.2722667, 15.7251783]], [[-2.275765, 15.7293117], [-2.2736367, 15.7313583]], [[-2.2660067, 15.7204267], [-2.26434, 15.7225617]], [[-2.26434, 15.7225617], [-2.2578283, 15.7200267]], [[-2.2606233, 15.71819], [-2.2534733, 15.7176667]], [[-2.2534733, 15.7176667], [-2.2519283, 15.7171517]], [[-2.1551617, 15.6522033], [-2.1539983, 15.6510783]], [[-2.1485867, 15.6497517], [-2.138695, 15.63966]], [[-2.138695, 15.63966], [-2.14247, 15.63938]], [[-2.14247, 15.63938], [-2.157235, 15.6529683]], [[-2.157235, 15.6529683], [-2.157555, 15.6536267]], [[-2.157555, 15.6536267], [-2.16094, 15.6551583]], [[-2.16628, 15.5739717], [-2.1673967, 15.5785883]], [[-2.1673967, 15.5785883], [-2.1654, 15.5836067]], [[-2.1295667, 15.6427433], [-2.1249083, 15.6476433]], [[-2.11447, 15.6348367], [-2.1209333, 15.6347667]], [[-2.1156083, 15.65333], [-2.1153467, 15.6545933]], [[-2.1153467, 15.6545933], [-2.1188467, 15.6559883]], [[-2.1151417, 15.6514933], [-2.1148783, 15.6514333]], [[-2.122435, 15.6519983], [-2.1195717, 15.6541283]], [[-2.1258067, 15.647085], [-2.1249983, 15.64713]], [[-2.1249983, 15.64713], [-2.1245033, 15.6476117]], [[-2.1245033, 15.6476117], [-2.1239667, 15.647845]], [[-2.1187233, 15.6327167], [-2.120835, 15.616075]], [[-2.131815, 15.5849617], [-2.1399183, 15.5854867]], [[-2.1399183, 15.5854867], [-2.1533783, 15.5799917]], [[-2.1533783, 15.5799917], [-2.1532767, 15.5800933]], [[-2.1150017, 15.6535], [-2.1141783, 15.65413]], [[-2.1130067, 15.647215], [-2.12056, 15.6468383]], [[-2.16047, 15.6536267], [-2.1622267, 15.65356]], [[-2.1622267, 15.65356], [-2.1624317, 15.65345]], [[-2.1624317, 15.65345], [-2.1650117, 15.6530433]], [[-2.1710683, 15.65587], [-2.1770183, 15.6627033]], [[-2.1770183, 15.6627033], [-2.1755833, 15.66414]], [[-2.1755833, 15.66414], [-2.1767717, 15.661205]], [[-2.1767717, 15.661205], [-2.1749333, 15.66214]], [[-2.1749333, 15.66214], [-2.1732867, 15.66508]], [[-2.1732867, 15.66508], [-2.1672167, 15.6608817]], [[-2.1672167, 15.6608817], [-2.1655767, 15.65906]], [[-2.1649417, 15.6586667], [-2.1644317, 15.6583517]], [[-2.1674933, 15.6590617], [-2.167965, 15.6565167]], [[-2.1689767, 15.654885], [-2.1672883, 15.6548433]], [[-2.1672883, 15.6548433], [-2.1649933, 15.6588933]], [[-2.1649933, 15.6588933], [-2.1651, 15.659015]], [[-2.160525, 15.5816933], [-2.161475, 15.5803017]], [[-2.1659533, 15.654215], [-2.1650767, 15.65735]], [[-2.1639683, 15.657165], [-2.1657517, 15.6567]], [[-2.15943, 15.65343], [-2.1456967, 15.64812]], [[-2.1517283, 15.6505033], [-2.15256, 15.65069]], [[-2.15256, 15.65069], [-2.1577567, 15.6541817]], [[-2.1577567, 15.6541817], [-2.1645517, 15.65651]], [[-2.60854, 15.39774], [-2.6123967, 15.3967317]], [[-2.6382333, 15.4012483], [-2.6421233, 15.4037583]], [[-2.7418517, 15.344795], [-2.7373317, 15.3441117]], [[-2.7373317, 15.3441117], [-2.7402867, 15.3487317]], [[-3.0262383, 15.1906333], [-3.0217917, 15.1812067]], [[-2.8789767, 15.2975133], [-2.88223, 15.2983933]], [[-2.88223, 15.2983933], [-2.8796933, 15.29686]], [[-2.8796933, 15.29686], [-2.8791117, 15.2963817]], [[-2.8791117, 15.2963817], [-2.8811983, 15.2923583]], [[-3.0221917, 15.2125217], [-3.018, 15.2116717]], [[-2.9086817, 15.2788783], [-2.9172717, 15.2797033]], [[-3.0017617, 15.2157383], [-3.0047867, 15.2129667]], [[-3.0047867, 15.2129667], [-3.010035, 15.2111933]], [[-3.010035, 15.2111933], [-3.0222583, 15.2125733]], [[-2.9792033, 15.24922], [-2.9775883, 15.24932]], [[-2.90945, 15.2667367], [-2.9085933, 15.25752]], [[-2.9085933, 15.25752], [-2.9075433, 15.253035]], [[-2.8237133, 15.2928783], [-2.8238583, 15.2935767]], [[-2.9675867, 15.2197233], [-2.9675767, 15.2197133]], [[-2.9675767, 15.2197133], [-2.9682833, 15.225405]], [[-2.8109067, 15.3822983], [-2.8170883, 15.3798433]], [[-2.7527767, 15.3542733], [-2.752885, 15.3542833]], [[-2.752885, 15.3542833], [-2.7491083, 15.353435]], [[-2.7424633, 15.3490267], [-2.7326883, 15.3475033]], [[-2.73274, 15.3474733], [-2.723185, 15.3428367]], [[-2.6651167, 15.2657617], [-2.6630833, 15.2649783]], [[-2.6630833, 15.2649783], [-2.66773, 15.26911]], [[-2.6339467, 15.260425], [-2.6354867, 15.263975]], [[-2.6304283, 15.2613933], [-2.6257467, 15.2559433]], [[-2.5748667, 15.2195967], [-2.574435, 15.219355]], [[-2.5609783, 15.2208183], [-2.55359, 15.221295]], [[-2.55359, 15.221295], [-2.551275, 15.2238483]], [[-2.551275, 15.2238483], [-2.5512433, 15.2238667]], [[-2.3487417, 15.2240967], [-2.3451267, 15.224945]], [[-2.2701233, 15.0003917], [-2.2627483, 14.993825]], [[-2.2627483, 14.993825], [-2.2620583, 14.9943033]], [[-2.2620583, 14.9943033], [-2.2660833, 14.9971767]], [[-2.2660833, 14.9971767], [-2.26066, 14.9821967]], [[-2.26066, 14.9821967], [-2.2531133, 14.976565]], [[-2.263815, 15.0051233], [-2.261615, 15.0041617]], [[-2.261615, 15.0041617], [-2.2616517, 15.00438]], [[-2.25344, 14.9977867], [-2.2536567, 14.9923767]], [[-2.2373867, 14.9950083], [-2.23956, 15.002895]], [[-2.23956, 15.002895], [-2.2357183, 14.997205]], [[-2.2357183, 14.997205], [-2.2376783, 14.9981083]], [[-2.224115, 14.9387467], [-2.2235317, 14.93637]], [[-2.2235317, 14.93637], [-2.2182333, 14.9330483]], [[-2.2182333, 14.9330483], [-2.21856, 14.9333333]], [[-2.23412, 14.9357767], [-2.23968, 14.9374867]], [[-2.23968, 14.9374867], [-2.2385933, 14.9403883]], [[-2.2385933, 14.9403883], [-2.2365183, 14.941585]], [[-2.2365183, 14.941585], [-2.2436117, 14.9420367]], [[-2.21753, 14.9580467], [-2.224855, 14.9584483]], [[-2.224855, 14.9584483], [-2.2236867, 14.9600383]], [[-2.2223517, 14.963445], [-2.214085, 14.96159]], [[-2.214085, 14.96159], [-2.2137683, 14.96166]], [[-2.1915783, 14.9600717], [-2.192155, 14.951845]], [[-2.192155, 14.951845], [-2.1956467, 14.9455967]], [[-2.1724967, 14.927185], [-2.16378, 14.922315]], [[-2.15323, 14.927655], [-2.1503517, 14.928575]], [[-2.1430617, 14.9373317], [-2.137005, 14.9324333]], [[-2.137005, 14.9324333], [-2.1348, 14.9358217]], [[-2.1348, 14.9358217], [-2.136715, 14.9387083]], [[-2.13848, 14.9480667], [-2.13917, 14.9481267]], [[-2.13917, 14.9481267], [-2.13753, 14.9454567]], [[-2.1273683, 14.9542517], [-2.1249733, 14.9463667]], [[-2.1249733, 14.9463667], [-2.122285, 14.9430417]], [[-2.12023, 14.947385], [-2.1178733, 14.9452417]], [[-2.1178733, 14.9452417], [-2.12101, 14.942225]], [[-2.12101, 14.942225], [-2.1250417, 14.9443467]], [[-2.0919017, 14.9702867], [-2.0995867, 14.9745217]], [[-2.0995867, 14.9745217], [-2.0927383, 14.9831617]], [[-2.068835, 14.965185], [-2.06592, 14.9653967]], [[-2.06592, 14.9653967], [-2.05676, 14.9747417]], [[-2.05474, 14.973995], [-2.0509267, 14.9758317]], [[-2.0509267, 14.9758317], [-2.03857, 14.9746533]], [[-2.03857, 14.9746533], [-2.0241217, 14.9749217]], [[-2.01775, 14.9736117], [-2.01341, 14.9750117]], [[-1.9477067, 14.9952867], [-1.9458367, 14.9958733]], [[-1.9270617, 15.01401], [-1.926595, 15.0151817]], [[-1.926595, 15.0151817], [-1.923045, 15.0155183]], [[-1.9166867, 15.0206233], [-1.92207, 15.02221]], [[-1.92207, 15.02221], [-1.9223583, 15.0223967]], [[-1.9223583, 15.0223967], [-1.9243117, 15.0233767]], [[-1.9243117, 15.0233767], [-1.9256667, 15.024455]], [[-1.9256667, 15.024455], [-1.9270683, 15.0242217]], [[-1.9267917, 15.0141967], [-1.9247667, 15.0102783]], [[-1.9247667, 15.0102783], [-1.9272967, 15.0112017]], [[-1.9264633, 15.0062433], [-1.92509, 15.0086633]], [[-1.92509, 15.0086633], [-1.9259517, 15.0178633]], [[-1.9368067, 15.0201483], [-1.9376533, 15.0217683]], [[-1.9376533, 15.0217683], [-1.94215, 15.023705]], [[-1.94215, 15.023705], [-1.94399, 15.01614]], [[-1.9312983, 15.00712], [-1.9227717, 15.0151433]], [[-1.9227717, 15.0151433], [-1.9245017, 15.0196567]], [[-1.943675, 15.0071167], [-1.944925, 15.0065733]], [[-1.9270683, 15.0138533], [-1.920035, 15.0124233]], [[-1.920035, 15.0124233], [-1.912855, 15.0135083]], [[-1.92773, 15.0248867], [-1.927335, 15.0231033]], [[-1.927335, 15.0231033], [-1.9250317, 15.0234617]], [[-1.9159683, 15.0318], [-1.9261817, 15.034725]], [[-1.9080967, 15.0487717], [-1.90863, 15.041795]], [[-1.8912267, 15.0375567], [-1.890375, 15.0289933]], [[-1.890375, 15.0289933], [-1.893965, 15.02923]], [[-1.893965, 15.02923], [-1.89426, 15.02409]], [[-1.89426, 15.02409], [-1.8920617, 15.0264483]], [[-1.8767533, 15.0408017], [-1.8871617, 15.0508933]], [[-1.8871617, 15.0508933], [-1.88386, 15.051025]], [[-1.892305, 15.0255], [-1.8930967, 15.02651]], [[-1.89161, 15.048015], [-1.894005, 15.0432683]], [[-1.894005, 15.0432683], [-1.8928567, 15.031675]], [[-1.8839817, 15.030365], [-1.880175, 15.0283033]], [[-1.880175, 15.0283033], [-1.876655, 15.0278233]], [[-1.876655, 15.0278233], [-1.8796, 15.02154]], [[-1.8796, 15.02154], [-1.8826567, 15.0193067]], [[-1.8697717, 15.0357167], [-1.878725, 15.03705]], [[-1.878725, 15.03705], [-1.8773367, 15.0359617]], [[-1.8169683, 15.061675], [-1.8087317, 15.053215]], [[-1.79146, 15.0373683], [-1.7864717, 15.038075]], [[-1.7864717, 15.038075], [-1.787255, 15.0435983]], [[-1.7810983, 15.0572167], [-1.7863183, 15.0613517]], [[-1.7863183, 15.0613517], [-1.7870467, 15.06497]], [[-1.7870467, 15.06497], [-1.7919383, 15.06844]], [[-1.787945, 15.074035], [-1.7913533, 15.0729633]], [[-1.7984583, 15.0720367], [-1.80395, 15.069495]], [[-1.813475, 15.0495067], [-1.8078533, 15.0518017]], [[-1.8078533, 15.0518017], [-1.807595, 15.0471583]], [[-1.807595, 15.0471583], [-1.8151483, 15.0336933]], [[-1.8166183, 15.0588717], [-1.8104117, 15.0520467]], [[-1.8104117, 15.0520467], [-1.7996317, 15.0523533]], [[-1.7996317, 15.0523533], [-1.7859133, 15.0388633]], [[-1.7761833, 15.068645], [-1.779195, 15.0568033]], [[-1.7738067, 15.05324], [-1.773275, 15.0567983]], [[-1.773275, 15.0567983], [-1.7662267, 15.0621583]], [[-1.7662267, 15.0621583], [-1.7595383, 15.057875]], [[-1.75346, 15.0631717], [-1.75485, 15.0588833]], [[-1.7921333, 15.0731067], [-1.7958233, 15.0739617]], [[-1.7958233, 15.0739617], [-1.80064, 15.0764017]], [[-1.8067117, 15.0717], [-1.8181083, 15.062315]], [[-1.8181083, 15.062315], [-1.8235867, 15.0576117]], [[-1.8421333, 15.0576283], [-1.8442317, 15.0670383]], [[-1.8442317, 15.0670383], [-1.8436517, 15.07003]], [[-1.8469267, 15.0634567], [-1.8442, 15.06527]], [[-1.8583067, 15.0546583], [-1.8622883, 15.05313]], [[-1.8622883, 15.05313], [-1.86446, 15.0486483]], [[-1.86446, 15.0486483], [-1.8672333, 15.0460883]], [[-1.8672333, 15.0460883], [-1.867885, 15.0372817]], [[-1.8753667, 15.0184133], [-1.8783667, 15.02173]], [[-1.8783667, 15.02173], [-1.8869267, 15.0266883]], [[-1.8869267, 15.0266883], [-1.8917967, 15.030255]], [[-1.892885, 15.0291567], [-1.8921683, 15.0261733]], [[-1.8921683, 15.0261733], [-1.8943667, 15.0262467]], [[-1.89599, 15.0423067], [-1.890225, 15.0469333]], [[-1.894165, 15.071445], [-1.8959517, 15.080555]], [[-1.8959517, 15.080555], [-1.894715, 15.0810217]], [[-1.894245, 15.0725517], [-1.895095, 15.0616233]], [[-1.89014, 15.050225], [-1.8969167, 15.054685]], [[-1.917215, 15.0345517], [-1.9171967, 15.0345283]], [[-1.96213, 15.0155883], [-1.9608267, 15.0146833]], [[-1.9847933, 14.9973983], [-1.9894883, 14.9966817]], [[-2.0059383, 14.98034], [-2.0157317, 14.9664617]], [[-2.047055, 14.975435], [-2.04648, 14.9779467]], [[-2.04648, 14.9779467], [-2.0484033, 14.9790167]], [[-2.0484033, 14.9790167], [-2.0494183, 14.9797217]], [[-2.083685, 14.9638283], [-2.0995767, 14.961465]], [[-2.1100767, 14.97251], [-2.1101767, 14.9727217]], [[-2.1008317, 14.9757517], [-2.091595, 14.9618683]], [[-2.054505, 14.9660017], [-2.0532817, 14.9701083]], [[-2.0532817, 14.9701083], [-2.0555967, 14.97414]], [[-2.0555967, 14.97414], [-2.0609317, 14.9744233]], [[-2.053835, 14.9729117], [-2.0610633, 14.9743583]], [[-2.0610633, 14.9743583], [-2.0608867, 14.9742433]], [[-2.0608867, 14.9742433], [-2.0527367, 14.9675433]], [[-2.0487217, 14.959905], [-2.0405533, 14.9574883]], [[-2.0480483, 14.9633083], [-2.0488083, 14.9517083]], [[-2.1172267, 14.9384967], [-2.1223967, 14.943845]], [[-2.1223967, 14.943845], [-2.1159517, 14.9454467]], [[-2.1234383, 14.946765], [-2.12273, 14.946505]], [[-2.1527617, 14.9469117], [-2.15476, 14.9469733]], [[-2.15476, 14.9469733], [-2.16062, 14.946265]], [[-2.16301, 14.93616], [-2.1646967, 14.936825]], [[-2.1646967, 14.936825], [-2.1666667, 14.937185]], [[-2.1666667, 14.937185], [-2.1695317, 14.9423133]], [[-2.1695317, 14.9423133], [-2.1718767, 14.9425767]], [[-2.1718767, 14.9425767], [-2.1724867, 14.9429417]], [[-2.1724867, 14.9429417], [-2.17847, 14.9375167]], [[-2.1021633, 14.6184983], [-2.1009067, 14.6196967]], [[-1.848465, 14.53644], [-1.8450883, 14.537555]], [[-1.8450883, 14.537555], [-1.8369767, 14.5333867]], [[-1.8369767, 14.5333867], [-1.837165, 14.5361]], [[-1.8283467, 14.5545617], [-1.823845, 14.5523833]], [[-1.823845, 14.5523833], [-1.8226683, 14.5516933]], [[-1.730755, 14.5473233], [-1.7307567, 14.5471867]], [[-1.7307567, 14.5471867], [-1.7301267, 14.5475967]], [[-1.7301267, 14.5475967], [-1.7239417, 14.55199]], [[-1.6954567, 14.5477433], [-1.694565, 14.5473083]], [[-1.7038017, 14.56745], [-1.7012883, 14.5654317]], [[-1.7012883, 14.5654317], [-1.7013667, 14.5634517]], [[-1.6877583, 14.6150117], [-1.68045, 14.6121433]], [[-1.6882733, 14.6199133], [-1.6883467, 14.620365]], [[-1.6883467, 14.620365], [-1.6879217, 14.6204533]], [[-1.6879217, 14.6204533], [-1.6753967, 14.6212383]], [[-1.66808, 14.6182217], [-1.6680867, 14.6177617]], [[-1.6851633, 14.60943], [-1.667075, 14.6022367]], [[-1.709945, 14.51913], [-1.7063383, 14.523415]], [[-1.6756183, 14.5035283], [-1.69338, 14.501575]], [[-1.7601317, 14.5074517], [-1.7491283, 14.5114483]], [[-1.6562117, 14.5436967], [-1.6567567, 14.5451117]], [[-1.34681, 14.664185], [-1.3467433, 14.6638833]], [[-1.3467433, 14.6638833], [-1.3450083, 14.6621767]], [[-1.128445, 14.8354], [-1.127565, 14.8358033]], [[-1.127565, 14.8358033], [-1.1237, 14.83502]], [[-1.0135533, 14.8847117], [-1.0132683, 14.884315]], [[-1.031185, 15.0007817], [-1.0286983, 15.0096033]], [[-1.0286983, 15.0096033], [-1.0272617, 15.01415]], [[-1.0272617, 15.01415], [-1.026555, 15.0136183]], [[-0.9608117, 15.0924817], [-0.9671933, 15.1026917]], [[-0.9724033, 15.1572017], [-0.964565, 15.1556067]], [[-0.948055, 15.1700617], [-0.9407983, 15.1690617]], [[-0.9407983, 15.1690617], [-0.945125, 15.1718767]], [[-0.966765, 15.16308], [-0.974325, 15.1696533]], [[-0.9789333, 15.2024967], [-0.9784467, 15.204615]], [[-0.9887917, 15.2227533], [-0.9880017, 15.224005]], [[-0.9880017, 15.224005], [-0.988215, 15.2252233]], [[-0.9842417, 15.2373933], [-0.9866233, 15.233935]], [[-0.9936617, 15.236705], [-0.99698, 15.2391483]], [[-0.957345, 15.2640467], [-0.9546267, 15.2525583]], [[-0.9546267, 15.2525583], [-0.952645, 15.2394117]], [[-0.952645, 15.2394117], [-0.9513033, 15.2348083]], [[-1.1213083, 15.2686917], [-1.1184967, 15.2714367]], [[-1.120265, 15.28244], [-1.1202283, 15.2825083]], [[-1.0251583, 15.229495], [-1.0238033, 15.22888]], [[-1.0238033, 15.22888], [-1.02804, 15.23078]], [[-1.0060617, 15.20167], [-1.0079233, 15.2022483]], [[-1.0079233, 15.2022483], [-0.9993083, 15.1954367]], [[-1.146655, 15.2623633], [-1.136775, 15.2564183]], [[-1.077235, 15.2345317], [-1.07645, 15.234805]], [[-1.07645, 15.234805], [-1.0763867, 15.237645]], [[-1.090055, 15.258595], [-1.09004, 15.2585283]], [[-1.09004, 15.2585283], [-1.0861067, 15.2484967]], [[-1.0686317, 15.265085], [-1.0750267, 15.2781583]], [[-1.11228, 15.2915067], [-1.1237383, 15.2827867]], [[-1.1237383, 15.2827867], [-1.12357, 15.2831767]], [[-1.12357, 15.2831767], [-1.12438, 15.2811167]], [[-1.1375467, 15.2391], [-1.1302483, 15.2326817]], [[-1.0433167, 15.1990783], [-1.0419867, 15.2011683]], [[-1.0419867, 15.2011683], [-1.0337117, 15.2143967]], [[-1.0496983, 15.2533383], [-1.0506133, 15.25512]], [[-1.29399, 15.2741583], [-1.293595, 15.2742733]], [[-1.293595, 15.2742733], [-1.3023433, 15.2791083]], [[-1.3023433, 15.2791083], [-1.301885, 15.2792733]], [[-1.22917, 15.2550817], [-1.2358283, 15.2433817]], [[-1.2730533, 15.1288433], [-1.2680567, 15.1213717]], [[-1.2680567, 15.1213717], [-1.2673467, 15.1224533]], [[-1.1024867, 15.2798583], [-1.1075483, 15.2809667]], [[-1.1221983, 15.279735], [-1.1212817, 15.279385]], [[-1.1182567, 15.2784333], [-1.11732, 15.2811783]], [[-1.091535, 15.2420633], [-1.0883467, 15.2390983]], [[-1.0532817, 15.251935], [-1.0580367, 15.2543217]], [[-1.081005, 15.27491], [-1.0859867, 15.2764383]], [[-1.1237633, 15.2834433], [-1.1239533, 15.283635]], [[-1.134455, 15.28967], [-1.1244833, 15.2828233]], [[-1.1252133, 15.2820867], [-1.1192183, 15.29249]], [[-1.1160817, 15.282185], [-1.116065, 15.2785267]], [[-1.116065, 15.2785267], [-1.104345, 15.2814583]], [[-1.0976733, 15.2843533], [-1.0997483, 15.2852267]], [[-1.0997483, 15.2852267], [-1.10776, 15.279815]], [[-1.477125, 15.0720333], [-1.4925817, 15.0695317]], [[-1.500035, 15.0681867], [-1.5028217, 15.06588]], [[-1.5225517, 15.05177], [-1.52397, 15.0534517]], [[-1.5673617, 15.0768883], [-1.5672667, 15.076565]], [[-1.5672667, 15.076565], [-1.5672267, 15.0766517]], [[-1.5672267, 15.0766517], [-1.5679833, 15.0749167]], [[-1.5679833, 15.0749167], [-1.5674367, 15.0757817]], [[-1.4838033, 15.0661633], [-1.4774367, 15.07031]], [[-1.47171, 15.0665833], [-1.4696767, 15.0630333]], [[-1.7115817, 15.0184833], [-1.7123333, 15.0190117]], [[-1.7123333, 15.0190117], [-1.71682, 15.026995]], [[-1.713255, 15.0170117], [-1.7107183, 15.0170067]], [[-1.7071067, 15.0286], [-1.707055, 15.0278267]], [[-1.6417117, 15.0641083], [-1.6355767, 15.069935]], [[-1.4909067, 15.0668233], [-1.4900033, 15.06664]], [[-1.2871983, 15.1227067], [-1.2761317, 15.1176083]], [[-1.3176717, 15.1315967], [-1.329595, 15.1326367]], [[-1.2082633, 15.1196883], [-1.20027, 15.1108633]], [[-1.2508083, 15.12487], [-1.2636783, 15.1321917]], [[-1.2957167, 15.0937583], [-1.2961917, 15.0951167]], [[-1.3936767, 15.1515967], [-1.4106667, 15.1486683]], [[-1.4106667, 15.1486683], [-1.4124133, 15.1482883]], [[-1.348805, 15.0941167], [-1.3487, 15.0941683]], [[-1.2866, 15.1306417], [-1.283105, 15.134885]], [[-1.3213633, 15.1321317], [-1.3030567, 15.1440183]], [[-1.43054, 15.1485017], [-1.4313583, 15.1494033]], [[-1.452215, 15.1516183], [-1.4508833, 15.1504283]], [[-1.4366467, 15.158695], [-1.4397333, 15.16155]], [[-1.4397333, 15.16155], [-1.4296533, 15.160095]], [[-1.4296533, 15.160095], [-1.4298083, 15.1583083]], [[-1.4298083, 15.1583083], [-1.4315683, 15.1563983]], [[-1.4315683, 15.1563983], [-1.4316433, 15.1559417]], [[-1.4081217, 15.14847], [-1.4097717, 15.14455]], [[-1.4097717, 15.14455], [-1.3988733, 15.1532867]], [[-1.28857, 15.1361583], [-1.2929617, 15.1417967]], [[-1.290455, 15.15299], [-1.2920767, 15.1510183]], [[-1.30843, 15.183675], [-1.310835, 15.1851433]], [[-1.403485, 15.2659767], [-1.403255, 15.2667233]], [[-1.403255, 15.2667233], [-1.39016, 15.2578367]], [[-1.40395, 15.2660867], [-1.404375, 15.266925]], [[-1.404375, 15.266925], [-1.4034833, 15.26672]], [[-1.4034833, 15.26672], [-1.4035683, 15.26603]], [[-1.4035683, 15.26603], [-1.3941117, 15.2731217]], [[-1.3966717, 15.2634], [-1.3975517, 15.2636533]], [[-1.3941183, 15.2598833], [-1.4033083, 15.266085]], [[-1.4033083, 15.266085], [-1.3933333, 15.255475]], [[-1.3843883, 15.2559183], [-1.38795, 15.2575683]], [[-1.38795, 15.2575683], [-1.3833867, 15.25324]], [[-1.4318667, 15.1621283], [-1.4319283, 15.1621383]], [[-1.4221483, 15.1528717], [-1.4377083, 15.1427267]], [[-1.4377083, 15.1427267], [-1.4366, 15.14204]], [[-1.4366, 15.14204], [-1.43653, 15.142025]], [[-1.43653, 15.142025], [-1.43661, 15.1433383]], [[-1.43661, 15.1433383], [-1.435105, 15.1448517]], [[-1.435105, 15.1448517], [-1.427095, 15.14684]], [[-1.427095, 15.14684], [-1.41897, 15.1501367]], [[-1.41897, 15.1501367], [-1.4161033, 15.1483533]], [[-1.3575683, 15.209905], [-1.3622767, 15.2151783]], [[-1.3762667, 15.21507], [-1.3859333, 15.2169867]], [[-1.3859333, 15.2169867], [-1.39801, 15.2185217]], [[-1.4027917, 15.2197033], [-1.40582, 15.219975]], [[-1.4114833, 15.2145867], [-1.4118017, 15.214725]], [[-1.4118017, 15.214725], [-1.40526, 15.217265]], [[-1.5211817, 15.2275067], [-1.5198517, 15.22716]], [[-1.5313933, 15.2358083], [-1.5402533, 15.240375]], [[-1.5551083, 15.2494067], [-1.5412433, 15.2404833]], [[-1.5159733, 15.223605], [-1.5167433, 15.224765]], [[-1.51948, 15.2239767], [-1.5199717, 15.2267917]], [[-1.5217467, 15.22406], [-1.520365, 15.2260283]], [[-1.52039, 15.2274417], [-1.5206717, 15.22726]], [[-1.5206717, 15.22726], [-1.5208367, 15.2265883]], [[-1.5208367, 15.2265883], [-1.5258467, 15.2236733]], [[-1.5258467, 15.2236733], [-1.5251417, 15.221395]], [[-1.5251417, 15.221395], [-1.5226667, 15.22258]], [[-1.5548233, 15.2480867], [-1.56454, 15.2472533]], [[-1.56454, 15.2472533], [-1.5698017, 15.246015]], [[-1.5653033, 15.2222233], [-1.5650783, 15.22217]], [[-1.514815, 15.23136], [-1.5283533, 15.2333683]], [[-1.5184283, 15.23082], [-1.5176767, 15.2304483]], [[-1.4885967, 15.224045], [-1.487305, 15.2298867]], [[-1.487305, 15.2298867], [-1.4904717, 15.2323567]], [[-1.4904717, 15.2323567], [-1.4928633, 15.2341333]], [[-1.51944, 15.22659], [-1.5182233, 15.2274683]], [[-1.5182233, 15.2274683], [-1.51741, 15.2297133]], [[-1.51741, 15.2297133], [-1.5158017, 15.2309467]], [[-1.5203117, 15.2266117], [-1.5185783, 15.2246683]], [[-1.5158483, 15.2314333], [-1.5159633, 15.23142]], [[-1.5193267, 15.2260667], [-1.521105, 15.224265]], [[-1.521105, 15.224265], [-1.5194517, 15.2240233]], [[-1.4880983, 15.2153883], [-1.4857417, 15.2155217]], [[-1.4857417, 15.2155217], [-1.4899033, 15.2185467]], [[-1.5044933, 15.2243433], [-1.5182983, 15.2232683]], [[-1.55158, 15.248165], [-1.5535383, 15.2480117]], [[-1.5251183, 15.2215167], [-1.5303467, 15.2215867]], [[-1.5303467, 15.2215867], [-1.5482683, 15.228315]], [[-1.5173067, 15.2238583], [-1.5178, 15.223175]], [[-1.5178, 15.223175], [-1.52103, 15.224315]], [[-1.52103, 15.224315], [-1.52317, 15.224255]], [[-1.52821, 15.2270883], [-1.539015, 15.239285]], [[-1.5242417, 15.22119], [-1.5242083, 15.220735]], [[-1.5555233, 15.2160867], [-1.556395, 15.215405]], [[-1.5563783, 15.2176817], [-1.5564583, 15.2173933]], [[-1.5584833, 15.2196233], [-1.5582617, 15.2193767]], [[-1.5582617, 15.2193767], [-1.55841, 15.2182217]], [[-1.55841, 15.2182217], [-1.5595917, 15.2166067]], [[-1.5545817, 15.2169733], [-1.5544633, 15.2166067]], [[-1.5544633, 15.2166067], [-1.5544567, 15.2159933]], [[-1.55486, 15.2188633], [-1.5559717, 15.2198617]], [[-1.5559717, 15.2198617], [-1.55684, 15.227065]], [[-1.5492767, 15.1598967], [-1.556225, 15.16165]], [[-1.5521583, 15.1601483], [-1.5505483, 15.15943]], [[-1.5619067, 15.1648617], [-1.56243, 15.1701983]], [[-1.56243, 15.1701983], [-1.5642217, 15.1725833]], [[-1.5552383, 15.1614983], [-1.5564117, 15.1642383]], [[-1.4655533, 15.15506], [-1.4605533, 15.1597633]], [[-1.4605533, 15.1597633], [-1.47324, 15.1778367]], [[-1.557895, 15.218065], [-1.5586783, 15.2183933]], [[-1.5586783, 15.2183933], [-1.55657, 15.21809]], [[-1.55657, 15.21809], [-1.5549617, 15.2227433]], [[-1.5549617, 15.2227433], [-1.557805, 15.2254883]], [[-1.557805, 15.2254883], [-1.5513083, 15.218015]], [[-1.5513083, 15.218015], [-1.54829, 15.21463]], [[-1.54829, 15.21463], [-1.5486, 15.2152317]], [[-1.5486, 15.2152317], [-1.5480533, 15.214345]], [[-1.5480533, 15.214345], [-1.549135, 15.2122033]], [[-1.549135, 15.2122033], [-1.5512733, 15.21541]], [[-1.5512733, 15.21541], [-1.5509967, 15.215105]], [[-1.5509967, 15.215105], [-1.5518583, 15.2149733]], [[-1.521825, 15.1614], [-1.5202867, 15.1615183]], [[-1.5202867, 15.1615183], [-1.5218667, 15.16222]], [[-1.5218667, 15.16222], [-1.5213217, 15.1614433]], [[-1.5213217, 15.1614433], [-1.5219417, 15.161745]], [[-1.5219417, 15.161745], [-1.5256183, 15.1652917]], [[-1.558985, 15.1806833], [-1.5609317, 15.176225]], [[-1.5609317, 15.176225], [-1.5481933, 15.164095]], [[-1.5481933, 15.164095], [-1.547925, 15.1622883]], [[-1.54931, 15.1720683], [-1.55287, 15.178085]], [[-1.5540283, 15.2240217], [-1.5521233, 15.221785]], [[-1.5544833, 15.2181583], [-1.5547017, 15.2181017]], [[-1.5547017, 15.2181017], [-1.5567083, 15.2202883]], [[-1.5567083, 15.2202883], [-1.5557417, 15.22339]], [[-1.5557417, 15.22339], [-1.55874, 15.2264417]], [[-1.60761, 15.15871], [-1.6053867, 15.1569083]], [[-1.6053867, 15.1569083], [-1.6066467, 15.1590733]], [[-1.5972067, 15.0613383], [-1.6020883, 15.0613283]], [[-1.611075, 15.0606883], [-1.6181767, 15.0634633]], [[-1.6181767, 15.0634633], [-1.6189633, 15.06298]], [[-1.6189633, 15.06298], [-1.6200033, 15.0632]], [[-1.7877833, 15.0377633], [-1.788825, 15.0398033]], [[-1.8116917, 15.06085], [-1.81178, 15.0592017]], [[-1.81178, 15.0592017], [-1.8260817, 15.069085]], [[-1.8188017, 15.0605533], [-1.804545, 15.0701017]], [[-1.804545, 15.0701017], [-1.8043833, 15.070275]], [[-1.8043833, 15.070275], [-1.8041067, 15.0707783]], [[-1.7863483, 15.07807], [-1.788375, 15.0696567]], [[-1.788375, 15.0696567], [-1.79004, 15.07303]], [[-1.8273133, 15.0571517], [-1.832415, 15.0553067]], [[-1.882285, 15.0461767], [-1.8831533, 15.0418517]], [[-1.8831533, 15.0418517], [-1.8819917, 15.0411533]], [[-1.8819917, 15.0411533], [-1.8794583, 15.0380883]], [[-1.8794583, 15.0380883], [-1.8800283, 15.0351117]], [[-1.8047583, 15.0546433], [-1.8043333, 15.0551617]], [[-1.7841067, 15.0529833], [-1.7852767, 15.0656217]], [[-1.7852767, 15.0656217], [-1.7845083, 15.0649467]], [[-1.7384667, 15.0218133], [-1.7399017, 15.0219067]], [[-1.7399017, 15.0219067], [-1.7427383, 15.0226283]], [[-1.74135, 15.0217367], [-1.741565, 15.0207733]], [[-1.728345, 15.0118483], [-1.7266117, 15.0145033]], [[-1.7266117, 15.0145033], [-1.72927, 15.01452]], [[-1.7304717, 15.0127433], [-1.7289333, 15.02078]], [[-1.7289333, 15.02078], [-1.7289333, 15.020805]], [[-1.7289333, 15.020805], [-1.736985, 15.0197533]], [[-1.7451167, 15.020285], [-1.74193, 15.0201867]], [[-1.7479767, 15.021725], [-1.74871, 15.0214633]], [[-1.74871, 15.0214633], [-1.7493383, 15.0221617]], [[-1.7474817, 15.0210817], [-1.7459817, 15.0182517]], [[-1.7385267, 15.01364], [-1.7308933, 15.0124883]], [[-1.73875, 15.0215333], [-1.739095, 15.0215667]], [[-1.7507317, 15.04105], [-1.7497183, 15.0343917]], [[-1.7497183, 15.0343917], [-1.7463883, 15.0268917]], [[-1.7570683, 15.0604883], [-1.7677933, 15.0559]], [[-1.745465, 15.020755], [-1.7335067, 15.0193617]], [[-1.7348267, 15.0371867], [-1.7511883, 15.0397683]], [[-1.7349933, 15.0413983], [-1.7275367, 15.0471133]], [[-1.7275367, 15.0471133], [-1.7280867, 15.04671]], [[-1.7280867, 15.04671], [-1.7289083, 15.0464383]], [[-1.7293917, 15.020805], [-1.72938, 15.0210867]], [[-1.72398, 15.024105], [-1.734745, 15.03281]], [[-1.7465833, 15.0221583], [-1.74905, 15.0190367]], [[-1.73824, 15.0145783], [-1.7294767, 15.012295]], [[-1.7294767, 15.012295], [-1.7389167, 15.0289733]], [[-1.7711967, 15.0464567], [-1.77096, 15.0479667]], [[-1.77096, 15.0479667], [-1.77163, 15.047115]], [[-1.77163, 15.047115], [-1.7717883, 15.0485783]], [[-1.7717883, 15.0485783], [-1.7706583, 15.0488767]], [[-1.7706583, 15.0488767], [-1.7669617, 15.0466867]], [[-1.76718, 15.0551817], [-1.7725233, 15.05829]], [[-1.772045, 15.0237367], [-1.7745483, 15.0258183]], [[-1.7745483, 15.0258183], [-1.7716, 15.0326633]], [[-1.784235, 15.0470233], [-1.785125, 15.0504217]], [[-1.785125, 15.0504217], [-1.787125, 15.0590833]], [[-1.787125, 15.0590833], [-1.7844633, 15.0619417]], [[-1.784235, 15.066255], [-1.7835833, 15.06801]], [[-1.6297167, 15.0673533], [-1.616955, 15.07818]], [[-1.616955, 15.07818], [-1.6156, 15.0781367]], [[-1.931635, 15.398665], [-1.93221, 15.3987683]], [[-1.93221, 15.3987683], [-1.93379, 15.3981633]], [[-1.9412117, 15.4190867], [-1.942255, 15.4145283]], [[-1.9968233, 15.4108283], [-2.0077183, 15.40623]], [[-2.0077183, 15.40623], [-2.0094933, 15.4076367]], [[-2.0094933, 15.4076367], [-2.0166783, 15.4042167]], [[-2.04828, 15.40547], [-2.0490417, 15.40544]], [[-2.1052983, 15.3294467], [-2.1050767, 15.3294867]], [[-2.1050767, 15.3294867], [-2.1085383, 15.3307517]], [[-2.133975, 15.2894867], [-2.13073, 15.2906733]], [[-2.1344567, 15.29542], [-2.1334217, 15.2859833]], [[-2.130895, 15.278095], [-2.1316617, 15.2796533]], [[-2.1199917, 15.22466], [-2.1202683, 15.2238833]], [[-2.148695, 15.2055383], [-2.1432283, 15.2104467]], [[-2.131245, 15.279705], [-2.13013, 15.2775583]], [[-2.1325767, 15.29244], [-2.1365833, 15.28568]], [[-2.2665117, 15.2383917], [-2.2659067, 15.241095]], [[-2.260065, 15.2485367], [-2.25768, 15.250995]], [[-2.25768, 15.250995], [-2.2576733, 15.2510317]], [[-2.2576733, 15.2510317], [-2.2484367, 15.2565267]], [[-2.257105, 15.3178417], [-2.2579917, 15.3174367]], [[-2.2579917, 15.3174367], [-2.258735, 15.316945]], [[-2.258735, 15.316945], [-2.2600483, 15.3163467]], [[-2.2600483, 15.3163467], [-2.2612417, 15.315]], [[-2.2612417, 15.315], [-2.26724, 15.3160017]], [[-2.1518967, 15.64827], [-2.1551383, 15.647445]], [[-2.1615017, 15.6589833], [-2.1615383, 15.6590683]], [[-2.1615383, 15.6590683], [-2.1618067, 15.65945]], [[-2.16128, 15.65044], [-2.1640633, 15.6455933]], [[-2.1640633, 15.6455933], [-2.1602533, 15.6474033]], [[-2.1451, 15.6496883], [-2.1399, 15.6504283]], [[-2.1141767, 15.6528333], [-2.114405, 15.6522867]], [[-2.16148, 15.6492633], [-2.1593467, 15.6473667]], [[-2.1593467, 15.6473667], [-2.1592183, 15.64444]], [[-2.2061433, 15.6430383], [-2.2090233, 15.6480383]], [[-2.174905, 15.6649133], [-2.173955, 15.6657567]], [[-2.173955, 15.6657567], [-2.1676817, 15.6624617]], [[-2.1676817, 15.6624617], [-2.1643267, 15.6579517]], [[-2.15141, 15.6463433], [-2.1425183, 15.6321383]], [[-2.14833, 15.5927333], [-2.1561167, 15.5806683]], [[-2.1561167, 15.5806683], [-2.1579567, 15.579695]], [[-2.1579567, 15.579695], [-2.1620583, 15.579365]], [[-2.1620583, 15.579365], [-2.157805, 15.57927]], [[-2.1370217, 15.5855433], [-2.1285633, 15.5861133]], [[-2.1285633, 15.5861133], [-2.1232233, 15.5816117]], [[-2.1232233, 15.5816117], [-2.1231917, 15.581525]], [[-2.1460567, 15.5852483], [-2.160865, 15.577535]], [[-2.160865, 15.577535], [-2.1603683, 15.5772683]], [[-2.1603683, 15.5772683], [-2.1592833, 15.5764667]], [[-2.1592833, 15.5764667], [-2.1522933, 15.5757933]], [[-2.1364067, 15.2946367], [-2.1354883, 15.28982]], [[-2.1354883, 15.28982], [-2.1341817, 15.28824]], [[-2.1341817, 15.28824], [-2.1278067, 15.2874567]], [[-2.1278067, 15.2874567], [-2.1275733, 15.291955]], [[-2.095465, 15.3357817], [-2.09509, 15.3441583]], [[-2.09509, 15.3441583], [-2.0937683, 15.3412167]], [[-2.05299, 15.4679917], [-2.055155, 15.466275]], [[-2.097775, 15.414555], [-2.1103817, 15.4149933]], [[-2.1103817, 15.4149933], [-2.11079, 15.4151317]], [[-2.1334117, 15.2909467], [-2.1403833, 15.2972033]], [[-2.1403833, 15.2972033], [-2.140215, 15.295525]], [[-2.13186, 15.2851017], [-2.1320767, 15.2852033]], [[-2.13642, 15.2947983], [-2.136325, 15.29224]], [[-2.136325, 15.29224], [-2.13553, 15.2896283]], [[-2.13553, 15.2896283], [-2.12457, 15.3066867]], [[-2.12457, 15.3066867], [-2.1273283, 15.2955733]], [[-2.1301333, 15.2867467], [-2.1311933, 15.2872867]], [[-2.1311933, 15.2872867], [-2.1312517, 15.2860733]], [[-2.1312517, 15.2860733], [-2.132105, 15.289435]], [[-2.132105, 15.289435], [-2.132755, 15.29332]], [[-2.1334267, 15.2859567], [-2.13142, 15.2807783]], [[-2.13142, 15.2807783], [-2.1301767, 15.27857]], [[-2.1301767, 15.27857], [-2.1304217, 15.2779683]], [[-2.1296767, 15.27724], [-2.1312967, 15.2777967]], [[-2.1315933, 15.2829067], [-2.13197, 15.2822683]], [[-2.13197, 15.2822683], [-2.1326683, 15.2823683]], [[-2.1312067, 15.2848133], [-2.130225, 15.279025]], [[-2.130225, 15.279025], [-2.1304633, 15.278075]], [[-2.1350183, 15.2919967], [-2.1387267, 15.2980683]], [[-2.1387267, 15.2980683], [-2.1397417, 15.298065]], [[-2.1341867, 15.2770767], [-2.1281717, 15.2726517]], [[-2.1281717, 15.2726517], [-2.1283433, 15.2750783]], [[-2.1283433, 15.2750783], [-2.1305983, 15.2777417]], [[-2.1305983, 15.2777417], [-2.1319017, 15.2803267]], [[-2.1319017, 15.2803267], [-2.13198, 15.2822317]], [[-2.13198, 15.2822317], [-2.13144, 15.2840133]], [[-2.13144, 15.2840133], [-2.1322417, 15.2893617]], [[-2.1322417, 15.2893617], [-2.1392283, 15.298065]], [[-2.118825, 15.3019133], [-2.126725, 15.2940783]], [[-2.126725, 15.2940783], [-2.1284917, 15.2910933]], [[-2.1284917, 15.2910933], [-2.1292867, 15.2903883]], [[-2.1292867, 15.2903883], [-2.1295233, 15.2908417]], [[-2.1354617, 15.2934283], [-2.1398733, 15.2967667]], [[-2.1398733, 15.2967667], [-2.1330933, 15.2875383]], [[-2.1330933, 15.2875383], [-2.1306067, 15.2854733]], [[-2.1306067, 15.2854733], [-2.1306033, 15.2874167]], [[-2.1323767, 15.2853567], [-2.1341983, 15.2899317]], [[-2.1341983, 15.2899317], [-2.132775, 15.2913067]], [[-2.132775, 15.2913067], [-2.13478, 15.2935883]], [[-2.140305, 15.2972917], [-2.140125, 15.2978133]], [[-2.140125, 15.2978133], [-2.13958, 15.2972417]], [[-2.1315417, 15.2854917], [-2.13138, 15.2851883]], [[-2.130265, 15.2893067], [-2.12881, 15.2906417]], [[-2.1396333, 15.2981117], [-2.13864, 15.29102]], [[-2.1282433, 15.291135], [-2.1297567, 15.287245]], [[-2.1356683, 15.29212], [-2.1402467, 15.29703]], [[-2.1402467, 15.29703], [-2.138785, 15.29078]], [[-2.138785, 15.29078], [-2.1392083, 15.290685]], [[-2.1392083, 15.290685], [-2.1392367, 15.2910117]], [[-2.1372983, 15.2937817], [-2.1378183, 15.290415]], [[-2.1388933, 15.2915717], [-2.13858, 15.2909917]], [[-2.13858, 15.2909917], [-2.1392567, 15.291015]], [[-2.1328433, 15.29132], [-2.13289, 15.2913483]], [[-2.1371867, 15.2947], [-2.1414967, 15.2986417]], [[-2.1414967, 15.2986417], [-2.1414367, 15.298485]], [[-2.1414367, 15.298485], [-2.1273383, 15.2944417]], [[-2.1273383, 15.2944417], [-2.12858, 15.2910767]], [[-2.12858, 15.2910767], [-2.12863, 15.2910367]], [[-2.12863, 15.2910367], [-2.1286283, 15.2910533]], [[-2.1286283, 15.2910533], [-2.1290133, 15.2915183]], [[-2.1290133, 15.2915183], [-2.1278167, 15.2942317]], [[-2.1278167, 15.2942317], [-2.1277633, 15.2942417]], [[-2.1277633, 15.2942417], [-2.1279917, 15.2943433]], [[-2.1279917, 15.2943433], [-2.1279817, 15.2943383]], [[-2.1279817, 15.2943383], [-2.13619, 15.2942333]], [[-2.1341517, 15.285905], [-2.1319233, 15.2890683]], [[-2.1431883, 15.298805], [-2.1444533, 15.2952583]], [[-2.13447, 15.28611], [-2.13015, 15.2787333]], [[-2.1318967, 15.280385], [-2.1319167, 15.2817233]], [[-2.1319167, 15.2817233], [-2.1321067, 15.2899817]], [[-2.1321067, 15.2899817], [-2.138115, 15.2936983]], [[-2.1335817, 15.28344], [-2.13381, 15.2830167]], [[-2.1323217, 15.2852767], [-2.1319683, 15.2850983]], [[-2.1319683, 15.2850983], [-2.1320633, 15.2899817]], [[-2.1444233, 15.2991783], [-2.1426667, 15.2940483]], [[-2.1341217, 15.2857283], [-2.1334833, 15.2861683]], [[-2.1334833, 15.2861683], [-2.1334567, 15.28613]], [[-2.1395533, 15.2981517], [-2.14281, 15.2954567]], [[-2.1325017, 15.28347], [-2.1336983, 15.2827533]], [[-2.1377083, 15.2917167], [-2.1438283, 15.2987883]], [[-2.1438283, 15.2987883], [-2.1441433, 15.299015]], [[-2.1339167, 15.28849], [-2.1347267, 15.2851533]], [[-2.1325217, 15.2886567], [-2.137735, 15.2917417]], [[-2.1344267, 15.28935], [-2.1351033, 15.2899267]], [[-2.1328383, 15.29133], [-2.13269, 15.2913283]], [[-2.1450467, 15.2998617], [-2.1403283, 15.2919433]], [[-2.132835, 15.291305], [-2.1328333, 15.29134]], [[-2.1328333, 15.29134], [-2.1396217, 15.2981617]], [[-2.1396217, 15.2981617], [-2.1429283, 15.295455]], [[-2.1429283, 15.295455], [-2.1446267, 15.2993]], [[-2.132915, 15.2912983], [-2.1416767, 15.2985617]], [[-2.1348683, 15.2831], [-2.13434, 15.2823367]], [[-2.3020183, 14.979105], [-2.30237, 14.9784417]], [[-2.3404483, 14.9632483], [-2.3397817, 14.9727033]], [[-2.31993, 14.972665], [-2.3117383, 14.978845]], [[-2.3117383, 14.978845], [-2.3041433, 14.9780133]], [[-2.3041433, 14.9780133], [-2.3000083, 14.9797933]], [[-2.268775, 15.0019117], [-2.2686583, 15.00178]], [[-2.2686583, 15.00178], [-2.2755317, 14.9985267]], [[-2.3033967, 14.99047], [-2.3065117, 14.9893517]], [[-2.3065117, 14.9893517], [-2.3135033, 14.9912883]], [[-2.3135033, 14.9912883], [-2.3160167, 14.9960417]], [[-2.3160167, 14.9960417], [-2.3180983, 14.9904167]], [[-2.3184233, 14.98863], [-2.3171933, 14.99041]], [[-2.2875217, 14.9889717], [-2.2901183, 14.989715]], [[-2.3027017, 14.97886], [-2.295625, 14.9830617]], [[-2.29218, 14.998275], [-2.29307, 14.9944567]], [[-2.2892683, 14.9903033], [-2.3031033, 14.9810067]], [[-2.302355, 14.9784667], [-2.302595, 14.9786283]], [[-2.302595, 14.9786283], [-2.30165, 14.979665]], [[-2.294595, 14.9806717], [-2.2953583, 14.9812367]], [[-2.2953583, 14.9812367], [-2.2917, 14.9849583]], [[-2.2917, 14.9849583], [-2.2906033, 14.9862283]], [[-2.28581, 14.9900233], [-2.3016567, 14.989175]], [[-2.323125, 14.9879133], [-2.3188867, 14.9910483]], [[-2.3015517, 14.97862], [-2.3037117, 14.9783083]], [[-2.3037117, 14.9783083], [-2.3036867, 14.9774333]], [[-2.3036867, 14.9774333], [-2.303925, 14.9776833]], [[-2.303925, 14.9776833], [-2.3042567, 14.9805367]], [[-2.3042567, 14.9805367], [-2.2956333, 14.9830967]], [[-2.31885, 15.01614], [-2.31502, 15.011015]], [[-2.310915, 15.00847], [-2.3111917, 15.0084417]], [[-2.3111917, 15.0084417], [-2.310355, 15.0094183]], [[-2.310355, 15.0094183], [-2.3106167, 15.0095167]], [[-2.3742533, 15.2300367], [-2.37573, 15.2299517]], [[-2.37573, 15.2299517], [-2.3785717, 15.2375717]], [[-2.4183033, 15.2599983], [-2.43985, 15.2617233]], [[-2.4529533, 15.26664], [-2.4529883, 15.2666933]], [[-2.4495083, 15.263095], [-2.4437317, 15.2649467]], [[-2.4437317, 15.2649467], [-2.4431883, 15.2682833]], [[-2.4431883, 15.2682833], [-2.4443667, 15.268875]], [[-2.4443667, 15.268875], [-2.452225, 15.2703967]], [[-2.452225, 15.2703967], [-2.4563233, 15.2713517]], [[-2.4591517, 15.2708633], [-2.4587517, 15.2706467]], [[-2.4587517, 15.2706467], [-2.4558517, 15.2692167]], [[-2.4589217, 15.2798917], [-2.4599333, 15.281895]], [[-2.4599333, 15.281895], [-2.4627133, 15.28094]], [[-2.4627133, 15.28094], [-2.4604533, 15.2827233]], [[-2.4604533, 15.2827233], [-2.45928, 15.2796217]], [[-2.4510867, 15.2734683], [-2.4426317, 15.27164]], [[-2.4426317, 15.27164], [-2.444635, 15.2717617]], [[-2.444635, 15.2717617], [-2.433755, 15.268]], [[-2.433755, 15.268], [-2.4377633, 15.2631533]], [[-2.4377633, 15.2631533], [-2.4454733, 15.2641283]], [[-2.4586383, 15.266175], [-2.460135, 15.2664117]], [[-2.4336733, 15.252585], [-2.44266, 15.260455]], [[-2.4587217, 15.2674883], [-2.45972, 15.2686217]], [[-2.4474217, 15.2730733], [-2.4473333, 15.2703233]], [[-2.4381333, 15.2809933], [-2.438225, 15.28079]], [[-2.438225, 15.28079], [-2.4392483, 15.27477]], [[-2.4392483, 15.27477], [-2.445895, 15.267675]], [[-2.4614717, 15.262485], [-2.4636367, 15.25835]], [[-2.4318117, 15.2667033], [-2.4385883, 15.2672517]], [[-2.4385883, 15.2672517], [-2.4489067, 15.2688733]], [[-2.4414217, 15.2581067], [-2.4415233, 15.26013]], [[-2.4415233, 15.26013], [-2.4451017, 15.2615367]], [[-2.4451017, 15.2615367], [-2.4550517, 15.26169]], [[-2.4550517, 15.26169], [-2.4577883, 15.2628267]], [[-2.4577883, 15.2628267], [-2.45791, 15.264285]], [[-2.3447317, 15.22986], [-2.34521, 15.22827]], [[-2.34521, 15.22827], [-2.3366717, 15.2236133]], [[-2.2900767, 15.1557467], [-2.277875, 15.138235]], [[-2.277875, 15.138235], [-2.2757217, 15.138045]], [[-2.2757217, 15.138045], [-2.2755317, 15.1379233]], [[-2.2861483, 15.0342233], [-2.283625, 15.03785]], [[-2.283625, 15.03785], [-2.28278, 15.045115]], [[-2.28278, 15.045115], [-2.28189, 15.0473817]], [[-2.28189, 15.0473817], [-2.2814467, 15.0460517]], [[-2.2975033, 15.174275], [-2.2993833, 15.1842033]], [[-2.2967117, 15.18586], [-2.29894, 15.183845]], [[-2.2944417, 15.1760483], [-2.296825, 15.174575]], [[-2.29917, 15.1908767], [-2.299045, 15.1906217]], [[-2.2987467, 15.1844983], [-2.2986267, 15.1733833]], [[-2.2986267, 15.1733833], [-2.2974417, 15.1748233]], [[-2.2807867, 15.139745], [-2.2827733, 15.1462833]], [[-2.4008867, 15.2520233], [-2.4008683, 15.251905]], [[-2.3360883, 15.1528783], [-2.3369183, 15.15327]], [[-2.3369183, 15.15327], [-2.3323117, 15.15496]], [[-2.3323117, 15.15496], [-2.3383483, 15.1535117]], [[-2.302275, 15.1340133], [-2.3028533, 15.134955]], [[-2.3093433, 15.1618183], [-2.3113067, 15.1598617]], [[-2.3113417, 15.15942], [-2.3099917, 15.1592133]], [[-2.3430983, 15.148135], [-2.3444967, 15.1493733]], [[-2.3444967, 15.1493733], [-2.344875, 15.1513033]], [[-2.344875, 15.1513033], [-2.34083, 15.153165]], [[-2.2816417, 15.122405], [-2.283375, 15.12447]], [[-2.3263933, 15.15415], [-2.3276117, 15.15297]], [[-2.3025, 15.13089], [-2.3024233, 15.1313733]], [[-2.288615, 15.136765], [-2.2927417, 15.137215]], [[-2.2914483, 15.1148833], [-2.2868533, 15.1133033]], [[-2.2868533, 15.1133033], [-2.2870117, 15.1155533]], [[-2.2870117, 15.1155533], [-2.28203, 15.1198467]], [[-2.28203, 15.1198467], [-2.2816567, 15.12246]], [[-2.2816567, 15.12246], [-2.274415, 15.13357]], [[-2.21291, 15.031605], [-2.2127983, 15.0273167]], [[-2.1893733, 14.9898817], [-2.1889117, 14.9909167]], [[-2.219845, 14.941], [-2.2193483, 14.943305]], [[-2.1475067, 14.9812283], [-2.1450067, 14.9800583]], [[-2.1169717, 14.9621933], [-2.1181383, 14.9631]], [[-2.1181383, 14.9631], [-2.1199617, 14.9632183]], [[-2.1199617, 14.9632183], [-2.1357617, 14.9605383]], [[-2.1357617, 14.9605383], [-2.135715, 14.963195]], [[-2.144685, 14.9409533], [-2.14512, 14.9444617]], [[-2.1501417, 14.9712567], [-2.1540917, 14.9759017]], [[-2.1540917, 14.9759017], [-2.1520267, 14.9780783]], [[-2.1520267, 14.9780783], [-2.1522467, 14.9792333]], [[-2.1522467, 14.9792333], [-2.1493267, 14.9803267]], [[-2.1493267, 14.9803267], [-2.1557883, 14.9749967]], [[-2.14128, 14.9698417], [-2.1436417, 14.9740183]], [[-2.1436417, 14.9740183], [-2.147285, 14.9825933]], [[-2.1660283, 14.96587], [-2.166365, 14.9659183]], [[-2.166365, 14.9659183], [-2.1664817, 14.9667083]], [[-2.1664817, 14.9667083], [-2.1720067, 14.9760567]], [[-2.2152517, 15.0082683], [-2.2114133, 15.01355]], [[-2.22275, 14.99601], [-2.2227217, 14.9959467]], [[-2.2227217, 14.9959467], [-2.221855, 14.9969917]], [[-2.213575, 15.0190417], [-2.2150417, 15.01896]], [[-2.3021717, 15.1301967], [-2.3113867, 15.1313967]], [[-2.3217217, 15.150255], [-2.3098233, 15.1613617]], [[-2.3098233, 15.1613617], [-2.3006917, 15.16804]], [[-2.2990933, 15.1910367], [-2.2994133, 15.1909617]], [[-2.2994133, 15.1909617], [-2.299565, 15.1908433]], [[-2.3144183, 15.1437283], [-2.3064767, 15.1354317]], [[-2.3064767, 15.1354317], [-2.3048567, 15.1342283]], [[-2.3048567, 15.1342283], [-2.300075, 15.132155]], [[-2.300075, 15.132155], [-2.2990117, 15.1309017]], [[-2.2954333, 15.1875633], [-2.2982317, 15.18492]], [[-2.328925, 15.1538533], [-2.3353933, 15.1566217]], [[-2.3353933, 15.1566217], [-2.338355, 15.15323]], [[-2.338355, 15.15323], [-2.3351367, 15.153245]], [[-2.3351367, 15.153245], [-2.3272817, 15.1522]], [[-2.298765, 15.18686], [-2.29944, 15.1865967]], [[-2.7806933, 15.3091717], [-2.78137, 15.311955]], [[-2.9166, 15.2960883], [-2.9217133, 15.297155]], [[-3.0228767, 15.1985967], [-3.0231817, 15.1996233]], [[-3.0296133, 15.1965583], [-3.03817, 15.2004933]], [[-3.067805, 15.2037183], [-3.0725983, 15.2104583]], [[-3.0725983, 15.2104583], [-3.0676883, 15.2156217]], [[-3.0650567, 15.1918033], [-3.0640033, 15.1910017]], [[-3.0640033, 15.1910017], [-3.064395, 15.1911883]], [[-3.0711567, 15.2089217], [-3.0929467, 15.2040167]], [[-3.0929467, 15.2040167], [-3.0935183, 15.1940333]], [[-3.0347383, 15.1822], [-3.033745, 15.1777533]], [[-3.0130217, 15.1740017], [-3.0130367, 15.1740067]], [[-3.0130367, 15.1740067], [-3.0139283, 15.1745133]], [[-3.0139283, 15.1745133], [-3.014735, 15.1727833]], [[-3.014735, 15.1727833], [-3.0194417, 15.1784033]], [[-3.0164933, 15.174785], [-3.012385, 15.1709617]], [[-3.012385, 15.1709617], [-3.002165, 15.1658833]], [[-3.002165, 15.1658833], [-3.001025, 15.1675717]], [[-3.001025, 15.1675717], [-2.9956067, 15.1719217]], [[-2.9956067, 15.1719217], [-2.995645, 15.17186]], [[-2.995645, 15.17186], [-3.0014883, 15.1678333]], [[-2.9912583, 15.1637683], [-2.9841333, 15.161835]], [[-3.02027, 15.179375], [-3.021685, 15.180415]], [[-2.986935, 15.1875017], [-2.98091, 15.1919033]], [[-2.98091, 15.1919033], [-2.9807317, 15.1896183]], [[-2.9807317, 15.1896183], [-2.9804233, 15.1884567]], [[-2.9875417, 15.188605], [-2.9847667, 15.18681]], [[-2.9847667, 15.18681], [-2.9846267, 15.1865417]], [[-2.961055, 15.1901383], [-2.96089, 15.1913317]], [[-3.0203383, 15.178795], [-3.0200567, 15.1769633]], [[-3.0200567, 15.1769633], [-3.0140817, 15.1750533]], [[-3.0140817, 15.1750533], [-3.0159567, 15.1753917]], [[-3.0165633, 15.17664], [-3.0172833, 15.1766417]], [[-3.0172833, 15.1766417], [-3.015285, 15.175695]], [[-2.9600533, 15.1903383], [-2.9609417, 15.1913083]], [[-2.9611383, 15.1905533], [-2.95204, 15.1860517]], [[-2.95204, 15.1860517], [-2.9525133, 15.18632]], [[-2.9525133, 15.18632], [-2.945905, 15.19299]], [[-2.9560733, 15.1923583], [-2.9603117, 15.1987483]], [[-2.9496333, 15.193515], [-2.950975, 15.192495]], [[-2.950975, 15.192495], [-2.9368667, 15.1990133]], [[-2.942535, 15.2587633], [-2.9488267, 15.2676933]], [[-2.997255, 15.269865], [-3.0012617, 15.2704133]], [[-3.0012617, 15.2704133], [-3.0020433, 15.2605567]], [[-2.9706483, 15.203845], [-2.9706467, 15.20387]], [[-2.9706467, 15.20387], [-2.9651583, 15.2047]], [[-2.8651717, 15.295665], [-2.8625267, 15.2941]], [[-2.8625267, 15.2941], [-2.85764, 15.2934567]], [[-2.85764, 15.2934567], [-2.8551267, 15.29356]], [[-2.7837383, 15.2877283], [-2.7829317, 15.2870167]], [[-2.7675717, 15.2884617], [-2.767455, 15.2878833]], [[-2.767455, 15.2878833], [-2.7673967, 15.288085]], [[-2.6811617, 15.2772717], [-2.6811767, 15.2758333]], [[-2.6811767, 15.2758333], [-2.6807417, 15.27528]], [[-2.6807417, 15.27528], [-2.6723283, 15.269995]], [[-2.6723283, 15.269995], [-2.66909, 15.2675267]], [[-2.66909, 15.2675267], [-2.6496483, 15.2602667]], [[-2.6496483, 15.2602667], [-2.647415, 15.259435]], [[-2.2331133, 14.98622], [-2.23546, 14.9843]], [[-2.205145, 14.99012], [-2.2015233, 14.9884383]], [[-2.209695, 14.9628383], [-2.2127867, 14.961845]], [[-2.20606, 14.9809283], [-2.20526, 14.9780667]], [[-2.1915433, 14.945995], [-2.191815, 14.945575]], [[-2.191815, 14.945575], [-2.1909667, 14.9400733]], [[-2.1909667, 14.9400733], [-2.19038, 14.9400617]], [[-2.19038, 14.9400617], [-2.1880683, 14.9384167]], [[-2.1880683, 14.9384167], [-2.189325, 14.938215]], [[-2.189325, 14.938215], [-2.1852533, 14.9432183]], [[-2.20143, 14.9197033], [-2.20028, 14.9191417]], [[-2.20028, 14.9191417], [-2.1947217, 14.919795]], [[-2.1964333, 14.9227683], [-2.1931483, 14.9206067]], [[-2.1765667, 14.92051], [-2.1677233, 14.9271683]], [[-2.1372433, 14.9325617], [-2.1364433, 14.9321]], [[-2.1364433, 14.9321], [-2.1358567, 14.9336383]], [[-2.1208383, 14.9385483], [-2.1210483, 14.94255]], [[-2.13209, 14.9406583], [-2.132425, 14.9401]], [[-2.1324717, 14.9391183], [-2.1230767, 14.9389483]], [[-2.1043533, 14.9600733], [-2.1019917, 14.9592083]], [[-2.1019917, 14.9592083], [-2.0998, 14.95799]], [[-2.0998, 14.95799], [-2.0973483, 14.9580233]], [[-2.0973483, 14.9580233], [-2.0950833, 14.9616583]], [[-2.1171817, 14.9617317], [-2.1274833, 14.95566]], [[-2.1274833, 14.95566], [-2.1281333, 14.9548583]], [[-2.1281333, 14.9548583], [-2.1280783, 14.9561383]], [[-2.1374433, 14.9615817], [-2.13599, 14.970245]], [[-2.1145967, 14.96562], [-2.10211, 14.9680117]], [[-2.0995433, 14.9696183], [-2.0915583, 14.9619]], [[-1.99782, 14.96185], [-1.9965583, 14.9633333]], [[-1.9965583, 14.9633333], [-1.9967683, 14.9667083]], [[-1.977765, 14.9891883], [-1.9641417, 15.0052783]], [[-1.9459467, 14.98547], [-1.944015, 14.9863333]], [[-1.9548833, 14.9903683], [-1.9543617, 14.9902483]], [[-2.0149867, 14.9756817], [-2.01512, 14.9756467]], [[-2.0116517, 14.9752383], [-2.0028333, 14.9827867]], [[-1.9807517, 14.9900567], [-1.9807567, 14.9908767]], [[-1.9745933, 14.9891533], [-1.9708017, 14.995385]], [[-1.96141, 14.9835583], [-1.9554017, 14.9810983]], [[-1.9505067, 14.9924117], [-1.94762, 14.9930167]], [[-1.94762, 14.9930167], [-1.94581, 14.99483]], [[-1.94581, 14.99483], [-1.9468417, 14.999635]], [[-1.9468417, 14.999635], [-1.9454633, 15.0022633]], [[-1.9488033, 14.995045], [-1.95583, 14.9902533]], [[-1.95583, 14.9902533], [-1.95553, 14.9902833]], [[-1.95553, 14.9902833], [-1.9496633, 14.9929617]], [[-1.9496633, 14.9929617], [-1.9450917, 14.993655]], [[-1.9420683, 15.0070433], [-1.9443667, 15.0064717]], [[-1.952535, 14.9964567], [-1.9537383, 15.0003433]], [[-1.9537383, 15.0003433], [-1.9524567, 15.0002717]], [[-1.9566317, 15.0038583], [-1.9579167, 14.9958183]], [[-1.9579167, 14.9958183], [-1.95584, 14.9986183]], [[-1.888435, 15.05785], [-1.8836433, 15.05915]], [[-1.8836433, 15.05915], [-1.8818433, 15.061335]], [[-1.8587983, 15.054715], [-1.859745, 15.051895]], [[-1.843365, 15.05914], [-1.839845, 15.0646967]], [[-1.7997217, 15.07618], [-1.8006517, 15.0766567]], [[-1.8006517, 15.0766567], [-1.8013917, 15.0761433]], [[-1.8013917, 15.0761433], [-1.8018967, 15.0763783]], [[-1.8770433, 15.0516067], [-1.87956, 15.0500133]], [[-1.8912117, 15.03275], [-1.89107, 15.0292817]], [[-1.90025, 15.0313033], [-1.9043317, 15.03127]], [[-1.9043317, 15.03127], [-1.9066083, 15.0311233]], [[-1.9289567, 15.023075], [-1.932455, 15.0126583]], [[-1.932455, 15.0126583], [-1.9344083, 15.0114883]], [[-1.9344083, 15.0114883], [-1.93169, 15.0041867]], [[-1.9266917, 15.01289], [-1.9435567, 15.014065]], [[-1.9435567, 15.014065], [-1.945775, 15.0144867]], [[-1.945775, 15.0144867], [-1.948355, 15.0121433]], [[-1.948355, 15.0121433], [-1.9515083, 15.0101783]], [[-1.9847483, 15.0028], [-1.9845433, 15.00092]], [[-2.010765, 14.9798267], [-2.0107633, 14.9798617]], [[-2.0107633, 14.9798617], [-2.0188583, 14.96713]], [[-2.0188583, 14.96713], [-2.01913, 14.966825]], [[-2.01913, 14.966825], [-2.0193883, 14.9665917]], [[-2.02167, 14.966215], [-2.0344817, 14.9772583]], [[-2.1107983, 14.960085], [-2.1168583, 14.9565167]], [[-2.1296, 14.94593], [-2.1407283, 14.934775]], [[-2.1407283, 14.934775], [-2.1416267, 14.9315617]], [[-2.1416267, 14.9315617], [-2.141, 14.9308533]], [[-2.141, 14.9308533], [-2.1329967, 14.9332767]], [[-1.9902367, 14.6115917], [-1.98823, 14.6110667]], [[-1.9201367, 14.580205], [-1.9207983, 14.5753617]], [[-1.921835, 14.57417], [-1.92251, 14.5726233]], [[-1.8832367, 14.5697617], [-1.8799267, 14.5705183]], [[-1.8714083, 14.5478117], [-1.8805733, 14.54368]], [[-1.8805733, 14.54368], [-1.8823217, 14.5408167]], [[-1.8823217, 14.5408167], [-1.8814567, 14.5386983]], [[-1.8814567, 14.5386983], [-1.881515, 14.538695]], [[-1.881515, 14.538695], [-1.8832383, 14.5408417]], [[-1.8832383, 14.5408417], [-1.8767183, 14.5413483]], [[-1.8408433, 14.5573067], [-1.8300533, 14.555065]], [[-1.8300533, 14.555065], [-1.82989, 14.5553133]], [[-1.85727, 14.5052667], [-1.8618867, 14.4917233]], [[-1.7908617, 14.5267767], [-1.7800067, 14.5292983]], [[-1.7800067, 14.5292983], [-1.7633633, 14.52617]], [[-1.7156167, 14.56727], [-1.71384, 14.5672067]], [[-1.6940783, 14.54088], [-1.6941183, 14.5408883]], [[-1.70792, 14.556955], [-1.7144017, 14.560825]], [[-1.713085, 14.5707183], [-1.714975, 14.5712867]], [[-1.6321233, 14.58909], [-1.6407817, 14.5948517]], [[-1.6407817, 14.5948517], [-1.6412733, 14.5947967]], [[-1.6394633, 14.610115], [-1.6387233, 14.6102217]], [[-1.6387233, 14.6102217], [-1.6387317, 14.61032]], [[-1.6040283, 14.5802167], [-1.6025133, 14.57601]], [[-1.6114133, 14.565645], [-1.6151917, 14.5625617]], [[-1.6151917, 14.5625617], [-1.613375, 14.56084]], [[-1.5988833, 14.553135], [-1.5893067, 14.5510633]], [[-1.3733933, 14.65574], [-1.3704, 14.6525617]], [[-1.0958483, 14.873745], [-1.0939317, 14.8743167]], [[-1.0939317, 14.8743167], [-1.0946517, 14.873295]], [[-1.0946517, 14.873295], [-1.0950083, 14.873645]], [[-1.0909417, 15.1373233], [-1.0992467, 15.1305233]], [[-1.0992467, 15.1305233], [-1.10663, 15.136285]], [[-1.1104017, 15.1512717], [-1.1124767, 15.1477483]], [[-1.1124767, 15.1477483], [-1.1120317, 15.1447433]], [[-1.26136, 15.1242867], [-1.2603533, 15.1204933]], [[-1.3662567, 15.0832217], [-1.3635367, 15.083355]], [[-1.0818383, 15.139115], [-1.0688233, 15.1445717]], [[-1.0688233, 15.1445717], [-1.0675917, 15.1439517]], [[-1.0675917, 15.1439517], [-1.0556667, 15.1345117]], [[-1.0775617, 15.1470733], [-1.0789333, 15.147655]], [[-1.0789333, 15.147655], [-1.0776117, 15.1467533]], [[-1.0776117, 15.1467533], [-1.0822333, 15.14612]], [[-1.281195, 15.0834633], [-1.2788017, 15.0879483]], [[-1.2379133, 14.7053917], [-1.2379717, 14.6846983]], [[-1.2379717, 14.6846983], [-1.2369683, 14.6819383]], [[-1.2369683, 14.6819383], [-1.2410867, 14.6815733]], [[-1.2410867, 14.6815733], [-1.240895, 14.6735933]], [[-1.3547433, 14.67132], [-1.35069, 14.6642667]], [[-1.35069, 14.6642667], [-1.349635, 14.6620667]], [[-1.4065233, 14.64834], [-1.406255, 14.6477167]], [[-1.263145, 14.6503783], [-1.2547383, 14.6677233]], [[-1.2482533, 14.66865], [-1.2374083, 14.6696483]], [[-1.02701, 14.8881917], [-1.0209983, 14.894375]], [[-1.01957, 14.8703783], [-1.0197367, 14.87245]], [[-1.0197367, 14.87245], [-1.0196367, 14.87244]], [[-0.987105, 15.0813517], [-0.98314, 15.0941967]], [[-0.98314, 15.0941967], [-0.9869783, 15.09125]], [[-0.9869783, 15.09125], [-0.998115, 15.0898]], [[-1.06215, 15.1443683], [-1.0690183, 15.1454967]], [[-1.133805, 15.1716417], [-1.1347267, 15.173085]], [[-1.146805, 15.1545417], [-1.1428583, 15.1401733]], [[-1.0742017, 15.148605], [-1.0738067, 15.14421]], [[-1.0051583, 15.1644567], [-1.0078333, 15.1650467]], [[-0.975245, 15.16092], [-0.964835, 15.1737533]], [[-1.04473, 15.1540217], [-1.0431617, 15.1543583]], [[-1.0431617, 15.1543583], [-1.0315917, 15.15539]], [[-1.02153, 15.214625], [-1.0262417, 15.2092933]], [[-1.0370867, 15.21145], [-1.0402217, 15.20998]], [[-1.0402217, 15.20998], [-1.0408417, 15.2103133]], [[-1.04011, 15.22096], [-1.0423167, 15.22303]], [[-1.0423167, 15.22303], [-1.0479667, 15.2231617]], [[-1.056795, 15.2730483], [-1.060635, 15.263355]], [[-1.060635, 15.263355], [-1.0622683, 15.267825]], [[-1.1511367, 15.2896133], [-1.1529517, 15.2972617]], [[-1.1529517, 15.2972617], [-1.152805, 15.2971583]], [[-1.224215, 15.2923067], [-1.2191733, 15.2959717]], [[-1.21327, 15.3345167], [-1.2104317, 15.3343083]], [[-1.2317433, 15.2563617], [-1.235, 15.257065]], [[-1.206525, 15.2855917], [-1.2029167, 15.2839083]], [[-1.2029167, 15.2839083], [-1.19872, 15.287355]], [[-1.13793, 15.29424], [-1.1379967, 15.2945483]], [[-1.1379967, 15.2945483], [-1.1371217, 15.2950433]], [[-1.120895, 15.259025], [-1.109635, 15.2550033]], [[-1.0854117, 15.2714867], [-1.086415, 15.2637917]], [[-1.0388567, 15.2551983], [-1.0393083, 15.2530633]], [[-1.0808233, 15.3438483], [-1.0741933, 15.353275]], [[-1.1003383, 15.3467783], [-1.1057267, 15.3514633]], [[-1.1626817, 15.2989517], [-1.1629683, 15.29912]], [[-1.1629683, 15.29912], [-1.1632267, 15.300595]], [[-1.1966483, 15.3606433], [-1.199415, 15.3576033]], [[-1.2168767, 15.28593], [-1.2223633, 15.2851233]], [[-1.2756067, 15.2172367], [-1.2751567, 15.2174933]], [[-1.2751567, 15.2174933], [-1.2751383, 15.218765]], [[-1.2751383, 15.218765], [-1.2742667, 15.2181633]], [[-1.2742667, 15.2181633], [-1.2718967, 15.2164833]], [[-1.2929383, 15.199935], [-1.286115, 15.2059817]], [[-1.3257167, 15.0946767], [-1.3186717, 15.0922717]], [[-1.3186717, 15.0922717], [-1.31869, 15.0922333]], [[-1.4100833, 15.1498833], [-1.4101617, 15.14853]], [[-1.4101617, 15.14853], [-1.41868, 15.1495417]], [[-1.41868, 15.1495417], [-1.4267767, 15.1488117]], [[-1.4646283, 15.1607583], [-1.4628283, 15.15985]], [[-1.4628283, 15.15985], [-1.4628983, 15.1608867]], [[-1.4628983, 15.1608867], [-1.4705283, 15.163925]], [[-1.4865283, 15.2124683], [-1.4768517, 15.215525]], [[-1.3412183, 15.2036433], [-1.3289767, 15.2009067]], [[-1.420905, 15.1494017], [-1.42409, 15.15015]], [[-1.42409, 15.15015], [-1.425485, 15.149145]], [[-1.425485, 15.149145], [-1.425705, 15.14925]], [[-1.428435, 15.1477], [-1.42896, 15.148145]], [[-1.42896, 15.148145], [-1.4291233, 15.1480983]], [[-1.4291233, 15.1480983], [-1.4226667, 15.15013]], [[-1.4213867, 15.1501683], [-1.4242733, 15.1505367]], [[-1.4242733, 15.1505367], [-1.4313583, 15.1566167]], [[-1.4380383, 15.155045], [-1.44078, 15.1595567]], [[-1.3506167, 15.0899267], [-1.364295, 15.0872083]], [[-1.36728, 15.0853267], [-1.3795617, 15.0826067]], [[-1.31965, 15.0990517], [-1.3129133, 15.1007133]], [[-1.4181, 15.150085], [-1.4179917, 15.1502633]], [[-1.4179917, 15.1502633], [-1.4112267, 15.1501283]], [[-1.4112267, 15.1501283], [-1.4198917, 15.1495767]], [[-1.4198917, 15.1495767], [-1.427965, 15.148335]], [[-1.427965, 15.148335], [-1.42984, 15.1474517]], [[-1.42984, 15.1474517], [-1.4305083, 15.147115]], [[-1.4305083, 15.147115], [-1.4319783, 15.146385]], [[-1.4319783, 15.146385], [-1.4394083, 15.1519183]], [[-1.6181817, 15.0770767], [-1.6181033, 15.0771033]], [[-1.7299183, 15.01933], [-1.7408833, 15.0207833]], [[-1.7595033, 15.0427833], [-1.768565, 15.0497067]], [[-1.768565, 15.0497067], [-1.7772783, 15.0603017]], [[-1.7772783, 15.0603017], [-1.784385, 15.0664817]], [[-1.784385, 15.0664817], [-1.7890967, 15.07009]], [[-1.8223967, 15.0655933], [-1.822225, 15.06621]], [[-1.8670983, 15.0546383], [-1.8781083, 15.0572983]], [[-1.8956767, 15.0495983], [-1.89596, 15.0549983]], [[-1.89596, 15.0549983], [-1.89577, 15.049875]], [[-1.89577, 15.049875], [-1.892815, 15.0594733]], [[-1.894455, 15.0522933], [-1.895095, 15.0509333]], [[-1.895095, 15.0509333], [-1.897405, 15.04823]], [[-1.8928833, 15.0611167], [-1.8913167, 15.060355]], [[-1.8913167, 15.060355], [-1.890835, 15.061415]], [[-1.890835, 15.061415], [-1.8950983, 15.0715917]], [[-1.9045717, 15.0934983], [-1.89439, 15.0804767]], [[-1.8832867, 15.0521733], [-1.87257, 15.055745]], [[-1.769545, 15.0199283], [-1.7661617, 15.0178417]], [[-1.732415, 15.0168833], [-1.7322967, 15.0187217]], [[-1.7693167, 15.0183533], [-1.7684017, 15.0168617]], [[-1.7721683, 15.0199683], [-1.7757983, 15.0222267]], [[-1.7810917, 15.0687517], [-1.7778333, 15.064805]], [[-1.7844417, 15.0749367], [-1.7844767, 15.07535]], [[-1.7665917, 15.0190633], [-1.7650683, 15.0174867]], [[-1.7650683, 15.0174867], [-1.7660017, 15.0013017]], [[-1.7660017, 15.0013017], [-1.7835833, 14.991005]], [[-1.6296033, 15.0750417], [-1.6259233, 15.0749267]], [[-1.6259233, 15.0749267], [-1.62162, 15.0743217]], [[-1.62162, 15.0743217], [-1.6154117, 15.077435]], [[-1.5693733, 15.0764733], [-1.5692417, 15.0729517]], [[-1.5692417, 15.0729517], [-1.56991, 15.07188]], [[-1.56991, 15.07188], [-1.5716133, 15.069645]], [[-1.5716133, 15.069645], [-1.58436, 15.058465]], [[-1.58436, 15.058465], [-1.5857383, 15.0574433]], [[-1.5857383, 15.0574433], [-1.5777617, 15.0569817]], [[-1.5777617, 15.0569817], [-1.5988633, 15.05242]], [[-1.5988633, 15.05242], [-1.6027533, 15.0545617]], [[-1.619515, 15.060615], [-1.6199967, 15.0603133]], [[-1.6199967, 15.0603133], [-1.6237983, 15.0627567]], [[-1.6237983, 15.0627567], [-1.6310117, 15.06539]], [[-1.6310117, 15.06539], [-1.6260467, 15.0655017]], [[-1.6260467, 15.0655017], [-1.6262367, 15.0655217]], [[-1.58035, 15.0593583], [-1.5795867, 15.0553033]], [[-1.5795867, 15.0553033], [-1.5906467, 15.0553717]], [[-1.5906467, 15.0553717], [-1.5904533, 15.0554567]], [[-1.5904533, 15.0554567], [-1.5900967, 15.0550817]], [[-1.5900967, 15.0550817], [-1.5838183, 15.0618217]], [[-1.61588, 15.0564967], [-1.6167983, 15.05652]], [[-1.6302383, 15.067075], [-1.6311517, 15.0648733]], [[-1.6311517, 15.0648733], [-1.6295517, 15.058445]], [[-1.6295517, 15.058445], [-1.628435, 15.0573983]], [[-1.628435, 15.0573983], [-1.6255367, 15.057535]], [[-1.6255367, 15.057535], [-1.6208133, 15.0569317]], [[-1.5781233, 15.0567033], [-1.5826167, 15.0611667]], [[-1.5552183, 15.1629433], [-1.5606317, 15.1618883]], [[-1.5606317, 15.1618883], [-1.5567883, 15.1642717]], [[-1.5547667, 15.170125], [-1.55463, 15.17303]], [[-1.4978483, 15.2157417], [-1.4953417, 15.2201017]], [[-1.4953417, 15.2201017], [-1.4915017, 15.2162433]], [[-1.4915017, 15.2162433], [-1.49007, 15.2177917]], [[-1.471855, 15.223305], [-1.467895, 15.2203767]], [[-1.4746067, 15.2179867], [-1.4748217, 15.2180417]], [[-1.4824583, 15.2202033], [-1.4836583, 15.2210517]], [[-1.4836583, 15.2210517], [-1.4832617, 15.2274517]], [[-1.4832617, 15.2274517], [-1.4833167, 15.22717]], [[-1.4833167, 15.22717], [-1.483425, 15.2272283]], [[-1.4900617, 15.2172883], [-1.4889083, 15.227235]], [[-1.4889083, 15.227235], [-1.48592, 15.2286333]], [[-1.48592, 15.2286333], [-1.4881983, 15.22816]], [[-1.4881983, 15.22816], [-1.48883, 15.2233283]], [[-1.4963033, 15.2231183], [-1.5006717, 15.22206]], [[-1.4714133, 15.2239883], [-1.474105, 15.2192833]], [[-1.4706117, 15.2257717], [-1.471165, 15.2257]], [[-1.471165, 15.2257], [-1.4710017, 15.2255017]], [[-1.4710017, 15.2255017], [-1.4735183, 15.2253767]], [[-1.4735183, 15.2253767], [-1.4698117, 15.2174717]], [[-1.4866933, 15.2244167], [-1.4939683, 15.2298467]], [[-1.4939683, 15.2298467], [-1.4956117, 15.2280633]], [[-1.4956117, 15.2280633], [-1.4986583, 15.22432]], [[-1.4986583, 15.22432], [-1.49957, 15.2188317]], [[-1.4149033, 15.2167217], [-1.4132767, 15.2175233]], [[-1.4132767, 15.2175233], [-1.4132867, 15.2180833]], [[-1.4554367, 15.2121033], [-1.46385, 15.2190733]], [[-1.4704, 15.2242917], [-1.472715, 15.2240383]], [[-1.472715, 15.2240383], [-1.4728083, 15.2238633]], [[-1.4887733, 15.2277333], [-1.4910817, 15.227135]], [[-1.482555, 15.2302483], [-1.486, 15.226915]], [[-1.486, 15.226915], [-1.49073, 15.2269417]], [[-1.49073, 15.2269417], [-1.48209, 15.2201167]], [[-1.48209, 15.2201167], [-1.4815533, 15.218355]], [[-1.4815533, 15.218355], [-1.4806267, 15.2174383]], [[-1.48407, 15.2198767], [-1.4851117, 15.2171983]], [[-1.4851117, 15.2171983], [-1.48601, 15.2177583]], [[-1.4717917, 15.2235583], [-1.4717783, 15.2232633]], [[-1.4195, 15.2159117], [-1.4141733, 15.2160417]], [[-1.4148317, 15.2163083], [-1.4146183, 15.2186933]], [[-1.4146183, 15.2186933], [-1.4135433, 15.21836]], [[-1.4243233, 15.2164567], [-1.4254267, 15.2151433]], [[-1.4180133, 15.2178783], [-1.423415, 15.2165367]], [[-1.423415, 15.2165367], [-1.4234467, 15.2165617]], [[-1.4114783, 15.217235], [-1.4230117, 15.2140867]], [[-1.4277783, 15.2122217], [-1.4285533, 15.212535]], [[-1.41203, 15.2175583], [-1.411755, 15.216955]], [[-1.459295, 15.2083], [-1.460745, 15.2167817]], [[-1.460745, 15.2167817], [-1.4607783, 15.2174767]], [[-1.4991883, 15.2193133], [-1.4956133, 15.2223233]], [[-1.490985, 15.2287817], [-1.4909367, 15.2287867]], [[-1.4909367, 15.2287867], [-1.498005, 15.2327]], [[-1.498005, 15.2327], [-1.49548, 15.2329983]], [[-1.49765, 15.2378233], [-1.501355, 15.23901]], [[-1.49673, 15.2301667], [-1.498805, 15.2256083]], [[-1.498805, 15.2256083], [-1.51209, 15.23103]], [[-1.51209, 15.23103], [-1.5114583, 15.2323317]], [[-1.4947533, 15.21788], [-1.493175, 15.22103]], [[-1.493175, 15.22103], [-1.4982983, 15.2306767]], [[-1.4982983, 15.2306767], [-1.49668, 15.2308]], [[-1.49668, 15.2308], [-1.4970767, 15.233415]], [[-1.4934733, 15.234945], [-1.4923033, 15.23382]], [[-1.4923033, 15.23382], [-1.4927067, 15.23337]], [[-1.513795, 15.22242], [-1.511795, 15.2208633]], [[-1.511795, 15.2208633], [-1.5068183, 15.220315]], [[-1.5068183, 15.220315], [-1.502935, 15.2190883]], [[-1.487745, 15.2297867], [-1.4875483, 15.2303033]], [[-1.4875483, 15.2303033], [-1.49873, 15.2329733]], [[-1.49873, 15.2329733], [-1.4996333, 15.2164533]], [[-1.4870933, 15.2326083], [-1.4934633, 15.2304533]], [[-1.5006383, 15.2302983], [-1.5077867, 15.2350367]], [[-1.50668, 15.2339033], [-1.506515, 15.233705]], [[-1.4887183, 15.2332033], [-1.4937567, 15.2299933]], [[-1.4843117, 15.2280217], [-1.4861583, 15.2278883]], [[-1.4861583, 15.2278883], [-1.487285, 15.2276367]], [[-1.487285, 15.2276367], [-1.49129, 15.2385933]], [[-1.49129, 15.2385933], [-1.4895367, 15.235165]], [[-1.4895367, 15.235165], [-1.4898517, 15.2314233]], [[-1.4966567, 15.223585], [-1.4912433, 15.2253183]], [[-1.4912433, 15.2253183], [-1.496275, 15.21884]], [[-1.496275, 15.21884], [-1.4963183, 15.218855]], [[-1.5169167, 15.2256183], [-1.51684, 15.225295]], [[-1.4800867, 15.2213567], [-1.4803933, 15.2240083]], [[-1.4803933, 15.2240083], [-1.4861367, 15.2270967]], [[-1.4861367, 15.2270967], [-1.4938483, 15.2282417]], [[-1.4938483, 15.2282417], [-1.4954717, 15.228025]], [[-1.4954717, 15.228025], [-1.5033083, 15.2322383]], [[-1.5033083, 15.2322383], [-1.50305, 15.23132]], [[-1.5013783, 15.23475], [-1.5080683, 15.235825]], [[-1.4959483, 15.23012], [-1.496365, 15.2307583]], [[-1.469055, 15.2235667], [-1.46931, 15.2232683]], [[-1.4709833, 15.2172567], [-1.487565, 15.2302083]], [[-1.5028733, 15.23773], [-1.5015517, 15.2411]], [[-1.5015517, 15.2411], [-1.4970467, 15.237795]], [[-1.4970467, 15.237795], [-1.49776, 15.2375133]], [[-1.468035, 15.2253433], [-1.4659717, 15.2228433]], [[-1.4659717, 15.2228433], [-1.4702867, 15.2197767]], [[-1.4676733, 15.2223867], [-1.467355, 15.223765]], [[-1.467355, 15.223765], [-1.46706, 15.223545]], [[-1.46706, 15.223545], [-1.4676333, 15.221375]], [[-1.4848117, 15.2216017], [-1.48782, 15.2244017]], [[-1.48782, 15.2244017], [-1.4906417, 15.2267083]], [[-1.4710867, 15.2256333], [-1.479545, 15.225885]], [[-1.5145567, 15.2239], [-1.5131117, 15.2260667]], [[-1.5133533, 15.2214317], [-1.5130067, 15.2215317]], [[-1.5609933, 15.22126], [-1.5604683, 15.2198667]], [[-1.556815, 15.2138783], [-1.5603367, 15.220445]], [[-1.5603367, 15.220445], [-1.5566217, 15.20948]], [[-1.5566217, 15.20948], [-1.5531033, 15.2106617]], [[-1.5558517, 15.212945], [-1.5572633, 15.2091017]], [[-1.557295, 15.21613], [-1.5648533, 15.22153]], [[-1.5648533, 15.22153], [-1.5520017, 15.2323567]], [[-1.5520017, 15.2323567], [-1.5537933, 15.2242817]], [[-1.5557683, 15.2124567], [-1.5559633, 15.212215]], [[-1.5559633, 15.212215], [-1.5573617, 15.211855]], [[-1.5573617, 15.211855], [-1.558255, 15.223335]], [[-1.55991, 15.22881], [-1.561375, 15.2254783]], [[-1.5597333, 15.2185283], [-1.55946, 15.2173533]], [[-1.56022, 15.21574], [-1.559775, 15.216275]], [[-1.559775, 15.216275], [-1.55805, 15.216385]], [[-1.55805, 15.216385], [-1.554415, 15.2194567]], [[-1.554415, 15.2194567], [-1.557955, 15.223515]], [[-1.5114, 15.192565], [-1.5042767, 15.19249]], [[-1.4910983, 15.2230867], [-1.4857617, 15.229115]], [[-1.4857617, 15.229115], [-1.4856533, 15.2278867]], [[-1.505935, 15.23609], [-1.5146183, 15.2259017]], [[-1.5146183, 15.2259017], [-1.5149483, 15.2239833]], [[-1.5149483, 15.2239833], [-1.518175, 15.225755]], [[-1.518175, 15.225755], [-1.5208183, 15.22702]], [[-1.5208183, 15.22702], [-1.5180483, 15.2280117]], [[-1.553975, 15.2104317], [-1.5552017, 15.2062817]], [[-1.5552017, 15.2062817], [-1.55777, 15.206835]], [[-1.55419, 15.2212717], [-1.5556033, 15.223595]], [[-1.5559233, 15.22279], [-1.556975, 15.226945]], [[-1.48613, 15.2275417], [-1.48621, 15.22809]], [[-1.48621, 15.22809], [-1.4859467, 15.228555]], [[-1.55364, 15.2479017], [-1.555595, 15.254005]], [[-1.55514, 15.2156967], [-1.5564567, 15.2180033]], [[-1.5564567, 15.2180033], [-1.5541283, 15.2241417]], [[-1.5555517, 15.2141617], [-1.5574833, 15.215805]], [[-1.5597733, 15.2269733], [-1.56097, 15.2252617]], [[-1.56097, 15.2252617], [-1.561005, 15.2204567]], [[-1.5750433, 15.1678267], [-1.5904217, 15.1660267]], [[-1.5472083, 15.162645], [-1.5465833, 15.1657017]], [[-1.6048583, 15.1603367], [-1.601075, 15.161385]], [[-1.601075, 15.161385], [-1.60331, 15.1630217]], [[-1.5467133, 15.1664167], [-1.548665, 15.164555]], [[-1.548665, 15.164555], [-1.5489167, 15.1645183]], [[-1.56219, 15.17296], [-1.5649383, 15.1700383]], [[-1.5649383, 15.1700383], [-1.5642433, 15.1638017]], [[-1.5642433, 15.1638017], [-1.5642733, 15.1636367]], [[-1.5642733, 15.1636367], [-1.5642633, 15.16355]], [[-1.5642633, 15.16355], [-1.5640983, 15.1630267]], [[-1.5640983, 15.1630267], [-1.5635167, 15.1629583]], [[-1.470985, 15.2173217], [-1.467365, 15.2206433]], [[-1.467365, 15.2206433], [-1.4665183, 15.2214933]], [[-1.4665183, 15.2214933], [-1.4662983, 15.224525]], [[-1.533015, 15.3669933], [-1.5339367, 15.36883]], [[-1.5339367, 15.36883], [-1.5334967, 15.3678683]], [[-1.5312417, 15.45693], [-1.5313733, 15.457245]], [[-1.702505, 15.622625], [-1.7155233, 15.6286533]], [[-1.7155233, 15.6286533], [-1.7164667, 15.6308383]], [[-1.7164667, 15.6308383], [-1.715945, 15.6314783]], [[-1.9092817, 15.41641], [-1.9036483, 15.4183267]], [[-1.9036483, 15.4183267], [-1.9023117, 15.418055]], [[-1.8992, 15.4079], [-1.8993117, 15.40873]], [[-1.8993117, 15.40873], [-1.9018483, 15.4066133]], [[-1.9018483, 15.4066133], [-1.90697, 15.39509]], [[-1.90697, 15.39509], [-1.9137617, 15.4132217]], [[-1.9137617, 15.4132217], [-1.91418, 15.4161917]], [[-1.984855, 15.4105167], [-1.9847317, 15.4105817]], [[-1.9847317, 15.4105817], [-1.988985, 15.4057133]], [[-2.0264483, 15.407075], [-2.032695, 15.4053917]], [[-2.032695, 15.4053917], [-2.0313267, 15.404305]], [[-2.05845, 15.4040733], [-2.055975, 15.4049333]], [[-2.055975, 15.4049333], [-2.056565, 15.4051567]], [[-2.056565, 15.4051567], [-2.0568, 15.4050117]], [[-2.1098383, 15.328885], [-2.1140717, 15.319385]], [[-2.131755, 15.2867517], [-2.13322, 15.288735]], [[-2.13322, 15.288735], [-2.1323333, 15.29036]], [[-2.1323333, 15.29036], [-2.133875, 15.2900167]], [[-2.133875, 15.2900167], [-2.1316367, 15.29058]], [[-2.1316367, 15.29058], [-2.1305067, 15.2906033]], [[-2.1305067, 15.2906033], [-2.1303933, 15.2906517]], [[-2.1303933, 15.2906517], [-2.1288983, 15.2887867]], [[-2.1288983, 15.2887867], [-2.1282183, 15.2873733]], [[-2.08595, 15.2739817], [-2.085955, 15.273955]], [[-2.0905517, 15.27426], [-2.0959133, 15.2756517]], [[-2.1321983, 15.28737], [-2.130735, 15.2892]], [[-2.0892317, 15.2749333], [-2.0952017, 15.2753083]], [[-2.0952017, 15.2753083], [-2.101905, 15.2795267]], [[-2.1301633, 15.29014], [-2.1301233, 15.2902667]], [[-2.131605, 15.28293], [-2.13096, 15.2795167]], [[-2.118095, 15.215755], [-2.11697, 15.21376]], [[-2.11697, 15.21376], [-2.1166933, 15.213245]], [[-2.13046, 15.2909067], [-2.13141, 15.2911567]], [[-2.13141, 15.2911567], [-2.13149, 15.2910183]], [[-2.13149, 15.2910183], [-2.1317883, 15.2908033]], [[-2.1820117, 15.217215], [-2.1817833, 15.2199767]], [[-2.1817833, 15.2199767], [-2.17963, 15.2201083]], [[-2.1791733, 15.2214117], [-2.17327, 15.2242933]], [[-2.1307867, 15.2904483], [-2.1313017, 15.290325]], [[-2.0168883, 15.339425], [-2.0051417, 15.336915]], [[-2.0051417, 15.336915], [-2.004685, 15.3364]], [[-2.009555, 15.3391617], [-2.0109283, 15.34017]], [[-2.12779, 15.287405], [-2.1313383, 15.2797317]], [[-2.1313383, 15.2797317], [-2.1312667, 15.2787783]], [[-2.1312667, 15.2787783], [-2.1310933, 15.281295]], [[-2.1316867, 15.2902383], [-2.1313217, 15.289465]], [[-2.1313217, 15.289465], [-2.1317517, 15.2870867]], [[-2.117175, 15.2139567], [-2.1152533, 15.213215]], [[-2.1152533, 15.213215], [-2.1122, 15.2130683]], [[-2.1122, 15.2130683], [-2.1109067, 15.2210217]], [[-2.1335617, 15.289755], [-2.13316, 15.2894917]], [[-2.13316, 15.2894917], [-2.1303367, 15.290455]], [[-2.080745, 15.273145], [-2.0796067, 15.2739317]], [[-2.0796067, 15.2739317], [-2.08811, 15.2748967]], [[-1.9946867, 15.3226433], [-1.992345, 15.3230583]], [[-1.9988667, 15.34844], [-2.0000017, 15.3496733]], [[-2.053455, 15.4740817], [-2.05267, 15.4756767]], [[-2.199705, 15.656425], [-2.21385, 15.6485767]], [[-2.21385, 15.6485767], [-2.2030433, 15.6481983]], [[-2.1601, 15.6614467], [-2.160195, 15.66124]], [[-2.1573083, 15.6529383], [-2.152385, 15.65279]], [[-2.16584, 15.6679167], [-2.173955, 15.669975]], [[-2.2056467, 15.4973033], [-2.2056033, 15.4973583]], [[-2.1665767, 15.5732183], [-2.16651, 15.5732867]], [[-2.1608667, 15.65311], [-2.162405, 15.65035]], [[-2.1597817, 15.660515], [-2.15912, 15.6595333]], [[-2.15912, 15.6595333], [-2.1595867, 15.6593433]], [[-2.1595867, 15.6593433], [-2.1608767, 15.6531033]], [[-2.1608767, 15.6531033], [-2.1607067, 15.65073]], [[-2.1686, 15.6501333], [-2.1751783, 15.6643867]], [[-2.1704017, 15.666955], [-2.1649867, 15.6586967]], [[-2.16211, 15.650885], [-2.1618567, 15.651875]], [[-2.1650917, 15.65919], [-2.163855, 15.6578833]], [[-2.163855, 15.6578833], [-2.1654067, 15.6590717]], [[-2.1654067, 15.6590717], [-2.1652917, 15.6587017]], [[-2.1652917, 15.6587017], [-2.16481, 15.6570183]], [[-2.16481, 15.6570183], [-2.163825, 15.656855]], [[-2.163825, 15.656855], [-2.1635767, 15.6536867]], [[-2.16625, 15.65256], [-2.168695, 15.6534667]], [[-2.168695, 15.6534667], [-2.1692467, 15.6533367]], [[-2.1692467, 15.6533367], [-2.16962, 15.6555733]], [[-2.1686717, 15.65822], [-2.1687467, 15.6581967]], [[-2.1687467, 15.6581967], [-2.1659033, 15.6564867]], [[-2.1567433, 15.6532433], [-2.158065, 15.6541917]], [[-2.1637833, 15.65615], [-2.16478, 15.65545]], [[-2.1669283, 15.6514017], [-2.16788, 15.6505267]], [[-2.1619683, 15.6534883], [-2.1615067, 15.6530133]], [[-2.1615067, 15.6530133], [-2.161905, 15.6519017]], [[-2.161905, 15.6519017], [-2.1609283, 15.6524167]], [[-2.1609283, 15.6524167], [-2.16119, 15.65565]], [[-2.16119, 15.65565], [-2.1488567, 15.6469833]], [[-2.1488567, 15.6469833], [-2.15618, 15.651565]], [[-2.15618, 15.651565], [-2.1579633, 15.6518033]], [[-2.1579633, 15.6518033], [-2.1572883, 15.6529883]], [[-2.1572883, 15.6529883], [-2.1583417, 15.65236]], [[-2.1658417, 15.6540767], [-2.1656783, 15.65362]], [[-2.1656783, 15.65362], [-2.170315, 15.6448983]], [[-2.170315, 15.6448983], [-2.1757383, 15.6504267]], [[-2.1674583, 15.6550883], [-2.1665183, 15.65316]], [[-2.1608067, 15.651145], [-2.1600933, 15.651125]], [[-2.1600933, 15.651125], [-2.1593567, 15.651875]], [[-2.1593567, 15.651875], [-2.1566683, 15.6520367]], [[-2.165625, 15.6590117], [-2.1684383, 15.66021]], [[-2.2537517, 15.725745], [-2.254915, 15.728035]], [[-2.2680083, 15.7286417], [-2.2643167, 15.72652]], [[-2.1721083, 15.66794], [-2.1721267, 15.6679933]], [[-2.160605, 15.657315], [-2.1606083, 15.6566983]], [[-2.1653933, 15.65338], [-2.1659, 15.6514217]], [[-2.1659, 15.6514217], [-2.167785, 15.6454633]], [[-2.167785, 15.6454633], [-2.1602533, 15.6502683]], [[-2.1602533, 15.6502683], [-2.159605, 15.6591033]], [[-2.159605, 15.6591033], [-2.1608717, 15.6658667]], [[-2.1608717, 15.6658667], [-2.1608233, 15.6658533]], [[-2.1526767, 15.653645], [-2.1485833, 15.6506767]], [[-2.1485833, 15.6506767], [-2.1540483, 15.65086]], [[-2.1602817, 15.65097], [-2.16039, 15.650415]], [[-2.1651383, 15.6527667], [-2.1633217, 15.652075]], [[-2.1633217, 15.652075], [-2.1581117, 15.6514117]], [[-2.1464467, 15.649045], [-2.1472783, 15.6483183]], [[-2.1472783, 15.6483183], [-2.154565, 15.6507867]], [[-2.154565, 15.6507867], [-2.1568633, 15.6547367]], [[-2.16065, 15.65576], [-2.1609617, 15.6524317]], [[-2.146925, 15.65009], [-2.1460167, 15.649205]], [[-2.1460167, 15.649205], [-2.14199, 15.645515]], [[-2.15727, 15.655065], [-2.1582333, 15.6543117]], [[-2.1582333, 15.6543117], [-2.1603617, 15.65312]], [[-2.1634683, 15.651115], [-2.1677033, 15.6516]], [[-2.1677033, 15.6516], [-2.16727, 15.64896]], [[-2.16727, 15.64896], [-2.1663833, 15.64972]], [[-2.1663833, 15.64972], [-2.1658667, 15.65231]], [[-2.1658667, 15.65231], [-2.16704, 15.6544733]], [[-2.16704, 15.6544733], [-2.1653967, 15.6533633]], [[-2.1653967, 15.6533633], [-2.1638817, 15.65309]], [[-2.1584917, 15.6586533], [-2.159555, 15.65961]], [[-2.159555, 15.65961], [-2.159665, 15.659615]], [[-2.161085, 15.6629117], [-2.1631067, 15.65396]], [[-2.1631067, 15.65396], [-2.1601367, 15.6511333]], [[-2.1521867, 15.65077], [-2.146215, 15.64694]], [[-2.146215, 15.64694], [-2.146785, 15.6468767]], [[-2.146785, 15.6468767], [-2.1473867, 15.648705]], [[-2.1473867, 15.648705], [-2.1543867, 15.6505833]], [[-2.16158, 15.6557933], [-2.160865, 15.6558567]], [[-2.16559, 15.6539483], [-2.1664033, 15.6526567]], [[-2.1664033, 15.6526567], [-2.1630467, 15.6508767]], [[-2.1630467, 15.6508767], [-2.1590267, 15.65009]], [[-2.1590267, 15.65009], [-2.1570617, 15.6498767]], [[-2.155815, 15.650685], [-2.1516467, 15.6521033]], [[-2.163645, 15.6544783], [-2.1585333, 15.6498167]], [[-2.1585333, 15.6498167], [-2.1542683, 15.652]], [[-2.1609433, 15.65021], [-2.1586867, 15.6562817]], [[-2.1586867, 15.6562817], [-2.1605083, 15.665105]], [[-2.1680583, 15.6683933], [-2.1689283, 15.66637]], [[-2.1714433, 15.667335], [-2.168665, 15.6656483]], [[-2.168665, 15.6656483], [-2.1624483, 15.6518783]], [[-2.1624483, 15.6518783], [-2.1617683, 15.65023]], [[-2.1617683, 15.65023], [-2.1637817, 15.6504483]], [[-2.1637817, 15.6504483], [-2.1653033, 15.6503483]], [[-2.17276, 15.657945], [-2.1726333, 15.6599433]], [[-2.16859, 15.6656983], [-2.1657667, 15.6653833]], [[-2.1657667, 15.6653833], [-2.1588933, 15.649915]], [[-2.1588933, 15.649915], [-2.1553183, 15.6511917]], [[-2.1553183, 15.6511917], [-2.1514533, 15.6538067]], [[-2.1514533, 15.6538067], [-2.15501, 15.6581617]], [[-2.15501, 15.6581617], [-2.15403, 15.6597283]], [[-2.15403, 15.6597283], [-2.1547783, 15.6607783]], [[-2.16071, 15.6657733], [-2.1607333, 15.6658517]], [[-2.1592167, 15.6496433], [-2.1588017, 15.6526533]], [[-2.16274, 15.6794233], [-2.1626933, 15.6794317]], [[-2.1625783, 15.66515], [-2.1635367, 15.6639983]], [[-2.1635367, 15.6639983], [-2.16582, 15.6581667]], [[-2.1617583, 15.66808], [-2.164565, 15.6678433]], [[-2.164565, 15.6678433], [-2.1658017, 15.6655517]], [[-2.1658017, 15.6655517], [-2.16155, 15.6542783]], [[-2.16155, 15.6542783], [-2.161265, 15.6539117]], [[-2.161265, 15.6539117], [-2.1621217, 15.6508867]], [[-2.1644867, 15.6676833], [-2.16576, 15.6672433]], [[-2.16576, 15.6672433], [-2.1660467, 15.6673033]], [[-2.1660467, 15.6673033], [-2.1667617, 15.6654767]], [[-2.1667617, 15.6654767], [-2.16544, 15.6600617]], [[-2.16544, 15.6600617], [-2.1654183, 15.65339]], [[-2.1654183, 15.65339], [-2.1617433, 15.6505467]], [[-2.1604883, 15.6562017], [-2.1609933, 15.660225]], [[-2.1609933, 15.660225], [-2.1626883, 15.6652317]], [[-2.16126, 15.6655033], [-2.164255, 15.660475]], [[-2.1596967, 15.6526917], [-2.1681133, 15.647155]], [[-2.1681133, 15.647155], [-2.1631233, 15.64868]], [[-2.1631233, 15.64868], [-2.1643283, 15.6499233]], [[-2.1643283, 15.6499233], [-2.1658583, 15.6523033]], [[-2.1658583, 15.6523033], [-2.1658433, 15.6545067]], [[-2.1620633, 15.65165], [-2.16147, 15.65333]], [[-2.16147, 15.65333], [-2.1597133, 15.6550917]], [[-2.1597133, 15.6550917], [-2.1569533, 15.6548867]], [[-2.1569533, 15.6548867], [-2.15723, 15.6537633]], [[-2.1646567, 15.6571983], [-2.164465, 15.6565767]], [[-2.164465, 15.6565767], [-2.1632817, 15.6509033]], [[-2.1632817, 15.6509033], [-2.1619767, 15.6499483]], [[-2.1619767, 15.6499483], [-2.1712133, 15.644195]], [[-2.1708367, 15.6571933], [-2.171145, 15.659785]], [[-2.171145, 15.659785], [-2.1760933, 15.66217]], [[-2.17209, 15.66791], [-2.165755, 15.6572567]], [[-2.168595, 15.6605583], [-2.1681883, 15.6594733]], [[-2.1681883, 15.6594733], [-2.1673133, 15.659135]], [[-2.1673133, 15.659135], [-2.16702, 15.6586283]], [[-2.16702, 15.6586283], [-2.16748, 15.6577967]], [[-2.15935, 15.64987], [-2.15761, 15.649425]], [[-2.15761, 15.649425], [-2.1611167, 15.6552733]], [[-2.1650233, 15.6680567], [-2.1669583, 15.6650683]], [[-2.1669583, 15.6650683], [-2.16648, 15.6611767]], [[-2.16648, 15.6611767], [-2.1655817, 15.6572717]], [[-2.158425, 15.64817], [-2.165785, 15.6499167]], [[-2.165785, 15.6499167], [-2.1668817, 15.6487517]], [[-2.1668817, 15.6487517], [-2.1671667, 15.65498]], [[-2.16861, 15.66056], [-2.167325, 15.6594483]], [[-2.16082, 15.655255], [-2.1603917, 15.658035]], [[-2.1603917, 15.658035], [-2.1607583, 15.65843]], [[-2.1607583, 15.65843], [-2.1608583, 15.6655167]], [[-2.1608583, 15.6655167], [-2.1626483, 15.6669]], [[-2.1647617, 15.6639317], [-2.16224, 15.6618233]], [[-2.16224, 15.6618233], [-2.1658667, 15.6550567]], [[-2.1658667, 15.6550567], [-2.16561, 15.6534133]], [[-2.16561, 15.6534133], [-2.1603217, 15.6498917]], [[-2.1603217, 15.6498917], [-2.1574217, 15.6487767]], [[-2.1574217, 15.6487767], [-2.162795, 15.6493033]], [[-2.162795, 15.6493033], [-2.1682033, 15.6506617]], [[-2.158815, 15.6519833], [-2.1601067, 15.6591967]], [[-2.1601067, 15.6591967], [-2.1641767, 15.6677067]], [[-2.1641767, 15.6677067], [-2.164555, 15.6672267]], [[-2.164555, 15.6672267], [-2.1689183, 15.6663983]], [[-2.1689183, 15.6663983], [-2.1707217, 15.6670517]], [[-2.1707217, 15.6670517], [-2.16434, 15.65791]], [[-2.16434, 15.65791], [-2.1584867, 15.6500217]], [[-2.1584867, 15.6500217], [-2.1573267, 15.6486917]], [[-2.15831, 15.649745], [-2.165075, 15.6523917]], [[-2.165075, 15.6523917], [-2.1673917, 15.6504083]], [[-2.1673917, 15.6504083], [-2.1692067, 15.6521867]], [[-2.1647383, 15.6535967], [-2.165155, 15.6536217]], [[-2.2218833, 15.60846], [-2.2273233, 15.601505]], [[-2.1658417, 15.6527233], [-2.1656083, 15.64788]], [[-2.1656083, 15.64788], [-2.1666817, 15.6521483]], [[-2.1575533, 15.655385], [-2.159045, 15.657405]], [[-2.159045, 15.657405], [-2.16052, 15.6598667]], [[-2.1718767, 15.66451], [-2.1686467, 15.66059]], [[-2.1686467, 15.66059], [-2.1670933, 15.6590533]], [[-2.172105, 15.667945], [-2.1727167, 15.6655033]], [[-2.1727167, 15.6655033], [-2.167245, 15.6581067]], [[-2.167245, 15.6581067], [-2.1647717, 15.656915]], [[-2.1647717, 15.656915], [-2.165975, 15.6460233]], [[-2.165975, 15.6460233], [-2.1719183, 15.64343]], [[-2.1607617, 15.6560967], [-2.1643017, 15.6556017]], [[-2.1687317, 15.6656533], [-2.1662583, 15.6584233]], [[-2.1662583, 15.6584233], [-2.1648217, 15.6591233]], [[-2.1648217, 15.6591233], [-2.16859, 15.6608033]], [[-2.175245, 15.6626183], [-2.1741567, 15.663135]], [[-2.1731383, 15.6679717], [-2.1716417, 15.6673967]], [[-2.1716417, 15.6673967], [-2.17179, 15.6672533]], [[-2.17195, 15.6608683], [-2.168845, 15.65849]], [[-2.1657117, 15.6570067], [-2.1658517, 15.6569483]], [[-2.1658517, 15.6569483], [-2.1668783, 15.656405]], [[-2.1668783, 15.656405], [-2.17086, 15.663215]], [[-2.17086, 15.663215], [-2.1764533, 15.6633583]], [[-2.1764533, 15.6633583], [-2.176905, 15.6631567]], [[-2.176905, 15.6631567], [-2.1767433, 15.66125]], [[-2.1767433, 15.66125], [-2.1746767, 15.6614067]], [[-2.1746767, 15.6614067], [-2.170305, 15.6580717]], [[-2.170305, 15.6580717], [-2.1698317, 15.6600233]], [[-2.1698317, 15.6600233], [-2.1673467, 15.66123]], [[-2.1673467, 15.66123], [-2.1648167, 15.656335]], [[-2.1648167, 15.656335], [-2.1647733, 15.6569967]], [[-2.1734383, 15.66841], [-2.1717617, 15.6684667]], [[-2.1717617, 15.6684667], [-2.1719517, 15.6675483]], [[-2.1640617, 15.6561983], [-2.1657067, 15.6535683]], [[-2.1657067, 15.6535683], [-2.1666383, 15.652685]], [[-2.1666383, 15.652685], [-2.1683717, 15.6537033]], [[-2.1683717, 15.6537033], [-2.175165, 15.6616417]], [[-2.175165, 15.6616417], [-2.176, 15.6600017]], [[-2.176, 15.6600017], [-2.174305, 15.6647767]], [[-2.1723767, 15.6669133], [-2.1721717, 15.66693]], [[-2.1721717, 15.66693], [-2.1751967, 15.6698617]], [[-2.166005, 15.65618], [-2.1657483, 15.6533883]], [[-2.1657483, 15.6533883], [-2.1671717, 15.65483]], [[-2.1671717, 15.65483], [-2.1729533, 15.6623567]], [[-2.1729533, 15.6623567], [-2.1744633, 15.65734]], [[-2.1664317, 15.6574333], [-2.1655483, 15.6573733]], [[-2.1655483, 15.6573733], [-2.1667267, 15.6564617]], [[-2.1667267, 15.6564617], [-2.1688917, 15.6556817]], [[-2.1688917, 15.6556817], [-2.1716117, 15.65193]], [[-2.1716117, 15.65193], [-2.1719867, 15.65617]], [[-2.1719867, 15.65617], [-2.1776183, 15.6663167]], [[-2.1776183, 15.6663167], [-2.1781633, 15.6666617]], [[-2.1781633, 15.6666617], [-2.1750617, 15.6612517]], [[-2.17787, 15.6664917], [-2.1747883, 15.66966]], [[-2.1847417, 15.6676283], [-2.18343, 15.66756]], [[-2.18343, 15.66756], [-2.1756367, 15.6686817]], [[-2.1756367, 15.6686817], [-2.1728633, 15.6659683]], [[-2.1653667, 15.65657], [-2.165925, 15.6563983]], [[-2.165925, 15.6563983], [-2.1690767, 15.6536583]], [[-2.1652467, 15.6569617], [-2.165515, 15.6569483]], [[-2.1812417, 15.6663367], [-2.1754933, 15.66613]], [[-2.1769983, 15.6644], [-2.17422, 15.6617933]], [[-2.17422, 15.6617933], [-2.1664117, 15.6575633]], [[-2.1664117, 15.6575633], [-2.165365, 15.6565967]], [[-2.17567, 15.66406], [-2.1654217, 15.6589217]], [[-2.1654217, 15.6589217], [-2.165525, 15.6588767]], [[-2.165525, 15.6588767], [-2.1657067, 15.6547933]], [[-2.1657067, 15.6547933], [-2.16661, 15.6544783]], [[-2.16661, 15.6544783], [-2.16738, 15.65521]], [[-2.16738, 15.65521], [-2.1744733, 15.6655233]], [[-2.17288, 15.661135], [-2.1783867, 15.666515]], [[-2.1783867, 15.666515], [-2.17504, 15.66235]], [[-2.17504, 15.66235], [-2.1739567, 15.66384]], [[-2.1739567, 15.66384], [-2.172425, 15.6637517]], [[-2.172425, 15.6637517], [-2.166225, 15.6585683]], [[-2.166225, 15.6585683], [-2.1656833, 15.6566917]], [[-2.17028, 15.666705], [-2.16455, 15.658085]], [[-2.1754, 15.665905], [-2.1746983, 15.66382]], [[-2.1746983, 15.66382], [-2.1757617, 15.6623617]], [[-2.18046, 15.6322083], [-2.18037, 15.6321383]], [[-2.311265, 15.711095], [-2.3107367, 15.71119]], [[-2.3107367, 15.71119], [-2.3098683, 15.7101217]], [[-2.3098683, 15.7101217], [-2.3098817, 15.710095]], [[-2.615315, 15.5235733], [-2.6160467, 15.5263467]], [[-2.5851917, 15.65946], [-2.5847033, 15.6598333]], [[-2.5847033, 15.6598333], [-2.5843367, 15.6605067]], [[-2.5843367, 15.6605067], [-2.5868267, 15.6643717]], [[-2.5868267, 15.6643717], [-2.5841783, 15.6610383]], [[-2.5841783, 15.6610383], [-2.5839333, 15.6608983]], [[-2.5958633, 15.5754783], [-2.593155, 15.579885]], [[-2.593155, 15.579885], [-2.5915083, 15.5840533]], [[-2.5904017, 15.582635], [-2.5842167, 15.5979083]], [[-2.5842167, 15.5979083], [-2.5836383, 15.5988667]], [[-2.5797483, 15.6084667], [-2.57963, 15.60962]], [[-2.57963, 15.60962], [-2.5776867, 15.61142]], [[-2.57744, 15.6362333], [-2.583225, 15.6448133]], [[-2.583225, 15.6448133], [-2.584815, 15.6463067]], [[-2.6063583, 15.4722083], [-2.6028217, 15.4587083]], [[-2.7515233, 15.3122967], [-2.76733, 15.3161133]], [[-2.8764383, 15.303125], [-2.87726, 15.3031383]], [[-2.9371317, 15.30478], [-2.9392283, 15.3066217]], [[-2.9270383, 15.30164], [-2.92828, 15.3017033]], [[-2.9427667, 15.2809717], [-2.9438267, 15.2854067]], [[-2.8783767, 15.32961], [-2.876395, 15.32203]], [[-2.876395, 15.32203], [-2.87914, 15.3131433]], [[-2.829575, 15.2939917], [-2.8273733, 15.2937017]], [[-2.83266, 15.3092567], [-2.8316967, 15.3067667]], [[-2.8269433, 15.293385], [-2.8221133, 15.2930583]], [[-2.8023633, 15.2923667], [-2.8101083, 15.2930833]], [[-2.8101083, 15.2930833], [-2.8249933, 15.2927667]], [[-2.87037, 15.2963683], [-2.8796417, 15.298245]], [[-2.8768433, 15.3162733], [-2.8761767, 15.322485]], [[-2.9690733, 15.2249017], [-2.9685, 15.2146517]], [[-2.9685, 15.2146517], [-2.9678067, 15.2100183]], [[-2.9678067, 15.2100183], [-2.9700867, 15.20663]], [[-2.9700867, 15.20663], [-2.9705167, 15.2051483]], [[-2.9705167, 15.2051483], [-2.9699933, 15.2035833]], [[-2.9677633, 15.203775], [-2.9717717, 15.203945]], [[-2.9717717, 15.203945], [-2.9643633, 15.19791]], [[-2.9643633, 15.19791], [-2.96195, 15.19793]], [[-2.96195, 15.19793], [-2.9588667, 15.19432]], [[-2.9588667, 15.19432], [-2.9624333, 15.1948267]], [[-2.9624333, 15.1948267], [-2.96158, 15.1928183]], [[-2.946965, 15.1904833], [-2.9462083, 15.1923767]], [[-2.9462083, 15.1923767], [-2.948055, 15.1924567]], [[-2.9529667, 15.1915217], [-2.946175, 15.19247]], [[-2.9594733, 15.1913283], [-2.9624283, 15.1944767]], [[-2.9624283, 15.1944767], [-2.961595, 15.19506]], [[-2.961595, 15.19506], [-2.9640867, 15.1945717]], [[-2.9817633, 15.1921683], [-2.98102, 15.1910067]], [[-2.9947483, 15.172165], [-2.9973683, 15.1714383]], [[-3.004375, 15.1698917], [-3.0016533, 15.1688483]], [[-3.0048117, 15.1668367], [-3.0001233, 15.1668183]], [[-3.0001233, 15.1668183], [-2.99856, 15.1654617]], [[-2.99856, 15.1654617], [-2.9884117, 15.1712433]], [[-3.0471733, 15.1771717], [-3.0499533, 15.1738067]], [[-3.06191, 15.1512433], [-3.060765, 15.15185]], [[-3.056265, 15.1449917], [-3.0614883, 15.1510133]], [[-3.0614883, 15.1510133], [-3.0615383, 15.151275]], [[-3.0615383, 15.151275], [-3.0600917, 15.152235]], [[-3.0600917, 15.152235], [-3.0602067, 15.1523883]], [[-3.0650483, 15.169035], [-3.0645333, 15.168605]], [[-3.05298, 15.1933167], [-3.0528767, 15.1933517]], [[-3.0528767, 15.1933517], [-3.0605317, 15.2000183]], [[-3.050915, 15.2050117], [-3.0511, 15.2048483]], [[-3.0511, 15.2048483], [-3.0541533, 15.1996617]], [[-3.0440717, 15.1952067], [-3.0399833, 15.1917617]], [[-3.0399833, 15.1917617], [-3.04006, 15.19028]], [[-3.04006, 15.19028], [-3.0425533, 15.1879117]], [[-3.0425533, 15.1879117], [-3.0433433, 15.1854417]], [[-3.044685, 15.1833133], [-3.0491133, 15.173915]], [[-3.0491133, 15.173915], [-3.0562567, 15.1699867]], [[-3.0562567, 15.1699867], [-3.0553317, 15.167345]], [[-3.0553317, 15.167345], [-3.0460767, 15.1674183]], [[-3.0320183, 15.17337], [-3.0279033, 15.1806483]], [[-3.05618, 15.1823367], [-3.0577767, 15.184595]], [[-3.0577767, 15.184595], [-3.0515383, 15.1899783]], [[-3.0515383, 15.1899783], [-3.0521217, 15.19488]], [[-3.0637983, 15.1729433], [-3.059955, 15.1736833]], [[-3.059955, 15.1736833], [-3.0663983, 15.1671]], [[-3.0663983, 15.1671], [-3.0661233, 15.1670933]], [[-3.0587283, 15.1635583], [-3.0576733, 15.1646533]], [[-3.0576733, 15.1646533], [-3.0582, 15.1704367]], [[-3.0442833, 15.1793833], [-3.0410467, 15.18192]], [[-2.9151933, 15.219875], [-2.9123483, 15.2216133]], [[-2.9123483, 15.2216133], [-2.9135, 15.22334]], [[-2.867435, 15.2491717], [-2.860635, 15.2446817]], [[-2.6813933, 15.267565], [-2.6654433, 15.2653233]], [[-2.6654433, 15.2653233], [-2.6709883, 15.2538567]], [[-2.210035, 14.9890583], [-2.2108267, 14.9885]], [[-2.2108267, 14.9885], [-2.21038, 14.986465]], [[-2.21038, 14.986465], [-2.2114767, 14.9810983]], [[-2.2112967, 14.9634167], [-2.211355, 14.9578267]], [[-2.2114567, 14.9478983], [-2.2195317, 14.9546683]], [[-2.2195317, 14.9546683], [-2.2215117, 14.95522]], [[-2.2215117, 14.95522], [-2.22122, 14.9549683]], [[-2.2220667, 14.9632033], [-2.2161167, 14.9576583]], [[-2.20699, 14.9463583], [-2.19871, 14.9298033]], [[-2.127665, 14.950155], [-2.1301333, 14.95297]], [[-2.1301333, 14.95297], [-2.1299367, 14.9578733]], [[-2.1299367, 14.9578733], [-2.1305683, 14.9609333]], [[-2.1440767, 14.94449], [-2.1466583, 14.9405817]], [[-2.13379, 14.9381617], [-2.1326483, 14.93713]], [[-2.1326483, 14.93713], [-2.1196633, 14.9384333]], [[-2.12167, 14.947815], [-2.12762, 14.94785]], [[-2.12762, 14.94785], [-2.12859, 14.946865]], [[-2.12859, 14.946865], [-2.130135, 14.9453167]], [[-2.130135, 14.9453167], [-2.1299067, 14.953655]], [[-2.1167017, 14.9602383], [-2.1181583, 14.9569683]], [[-2.1181583, 14.9569683], [-2.119555, 14.9554683]], [[-2.1209333, 14.9514633], [-2.1221383, 14.9501683]], [[-2.1221383, 14.9501683], [-2.1221517, 14.9500767]], [[-2.10389, 14.9789917], [-2.0968817, 14.9769883]], [[-2.0968817, 14.9769883], [-2.089285, 14.9807633]], [[-2.0514217, 14.975415], [-2.048425, 14.9732217]], [[-2.048425, 14.9732217], [-2.04868, 14.9728417]], [[-2.0514917, 14.974495], [-2.0505383, 14.9769083]], [[-2.0505383, 14.9769083], [-2.0486467, 14.9768633]], [[-2.0486467, 14.9768633], [-2.035985, 14.9748917]], [[-1.9618467, 15.0076683], [-1.960735, 15.00873]], [[-1.9606083, 15.0041583], [-1.9604767, 14.9915783]], [[-1.9479317, 14.9958067], [-1.9474183, 14.9967417]], [[-1.932445, 15.0147683], [-1.92977, 15.0125883]], [[-1.9333717, 15.00494], [-1.9312267, 15.0079033]], [[-1.9312267, 15.0079033], [-1.9312817, 15.015475]], [[-1.8981667, 15.0475333], [-1.896945, 15.0487433]], [[-1.8781033, 15.04934], [-1.880655, 15.0450983]], [[-1.880655, 15.0450983], [-1.880215, 15.04316]], [[-1.880215, 15.04316], [-1.8848733, 15.04325]], [[-1.9144283, 15.0370433], [-1.9148367, 15.0365967]], [[-1.9148367, 15.0365967], [-1.915465, 15.0360883]], [[-1.915465, 15.0360883], [-1.90972, 15.0381367]], [[-1.9068217, 15.045855], [-1.9094483, 15.04246]], [[-1.9094483, 15.04246], [-1.906985, 15.04089]], [[-1.906985, 15.04089], [-1.9031983, 15.0386283]], [[-1.9031983, 15.0386283], [-1.900745, 15.0375633]], [[-1.9503, 15.0191717], [-1.95362, 15.0175467]], [[-1.95362, 15.0175467], [-1.9533617, 15.0172117]], [[-1.9533617, 15.0172117], [-1.95605, 15.0144983]], [[-1.95605, 15.0144983], [-1.9587017, 15.010265]], [[-1.98653, 14.9877033], [-1.9856083, 14.9883483]], [[-1.9664983, 15.0061383], [-1.9623683, 15.008675]], [[-1.9623683, 15.008675], [-1.961705, 15.0095533]], [[-1.961705, 15.0095533], [-1.9634983, 15.0097833]], [[-1.9634983, 15.0097833], [-1.9601283, 15.0078867]], [[-1.9541983, 15.011795], [-1.9533483, 15.0119983]], [[-1.9533483, 15.0119983], [-1.94616, 15.0170517]], [[-1.94616, 15.0170517], [-1.94542, 15.0180633]], [[-1.94542, 15.0180633], [-1.9443567, 15.0206067]], [[-1.9443567, 15.0206067], [-1.9440017, 15.0232233]], [[-1.9440017, 15.0232233], [-1.943975, 15.0237067]], [[-1.9368867, 15.0147783], [-1.936825, 15.0146933]], [[-1.9241533, 15.028745], [-1.927975, 15.0314383]], [[-1.927975, 15.0314383], [-1.9291017, 15.031985]], [[-1.9458567, 15.0254367], [-1.9461767, 15.0254467]], [[-1.9461767, 15.0254467], [-1.94598, 15.0296333]], [[-1.9165333, 15.0297933], [-1.9137533, 15.0323033]], [[-1.9115033, 15.03608], [-1.9038317, 15.0321]], [[-1.88889, 15.0320467], [-1.88771, 15.0336533]], [[-1.88771, 15.0336533], [-1.883455, 15.0370767]], [[-1.883455, 15.0370767], [-1.88176, 15.0410017]], [[-1.88176, 15.0410017], [-1.8796383, 15.0433083]], [[-1.8796383, 15.0433083], [-1.878535, 15.0440767]], [[-1.8659583, 15.04082], [-1.8669583, 15.0370817]], [[-1.8669583, 15.0370817], [-1.8662, 15.035675]], [[-1.8353083, 15.0744083], [-1.832045, 15.0726067]], [[-1.8358967, 15.081615], [-1.8377133, 15.0722633]], [[-1.8377133, 15.0722633], [-1.8371167, 15.061835]], [[-1.8371167, 15.061835], [-1.8381133, 15.054765]], [[-1.8381133, 15.054765], [-1.8318033, 15.0561067]], [[-1.8170567, 15.0623667], [-1.809805, 15.0652617]], [[-1.79081, 15.03731], [-1.8029517, 15.0425433]], [[-1.8029517, 15.0425433], [-1.80524, 15.0427467]], [[-1.80524, 15.0427467], [-1.806095, 15.044385]], [[-1.8993317, 15.0370867], [-1.89962, 15.0355217]], [[-1.9055917, 15.0324067], [-1.9076067, 15.035595]], [[-1.9076067, 15.035595], [-1.9075617, 15.0361233]], [[-1.876615, 15.02392], [-1.8763383, 15.024205]], [[-1.8721733, 15.04031], [-1.8730217, 15.04346]], [[-1.8730217, 15.04346], [-1.8749083, 15.0429017]], [[-1.8749083, 15.0429017], [-1.8766467, 15.0503667]], [[-1.8769967, 15.05158], [-1.8802183, 15.0534683]], [[-1.8802183, 15.0534683], [-1.8812983, 15.050915]], [[-1.8812983, 15.050915], [-1.881515, 15.05102]], [[-1.881515, 15.05102], [-1.88085, 15.0542517]], [[-1.88085, 15.0542517], [-1.8830383, 15.0531283]], [[-1.887815, 15.05655], [-1.8864817, 15.0543233]], [[-1.8512017, 15.063425], [-1.8524033, 15.0625817]], [[-1.8524033, 15.0625817], [-1.854235, 15.063255]], [[-1.854235, 15.063255], [-1.8510283, 15.061255]], [[-1.8510283, 15.061255], [-1.842115, 15.0541217]], [[-1.838205, 15.0382867], [-1.8389167, 15.038475]], [[-1.8340867, 15.06329], [-1.8406183, 15.0666983]], [[-1.8356967, 15.0778583], [-1.832285, 15.0678567]], [[-1.8218517, 15.068785], [-1.8160217, 15.0674817]], [[-1.7709717, 15.0414067], [-1.7659633, 15.0444217]], [[-1.7659633, 15.0444217], [-1.761395, 15.0454833]], [[-1.761395, 15.0454833], [-1.7632067, 15.0461333]], [[-1.77802, 15.0338633], [-1.7705117, 15.0191117]], [[-1.7706433, 15.00902], [-1.7676317, 15.009915]], [[-1.7676317, 15.009915], [-1.771165, 15.01197]], [[-1.771165, 15.01197], [-1.7748217, 15.0160167]], [[-1.7748217, 15.0160167], [-1.7704117, 15.0181733]], [[-1.7686733, 15.0071183], [-1.7680683, 15.0051733]], [[-1.7680683, 15.0051733], [-1.7661283, 15.0146733]], [[-1.7803867, 15.03803], [-1.7818317, 15.0426017]], [[-1.7818317, 15.0426017], [-1.7810283, 15.05932]], [[-1.7553717, 15.0596167], [-1.7557083, 15.0548183]], [[-1.7557083, 15.0548183], [-1.75392, 15.0530333]], [[-1.7741383, 15.0541283], [-1.773975, 15.0526617]], [[-1.773975, 15.0526617], [-1.774575, 15.0522733]], [[-1.7118933, 15.0448167], [-1.70909, 15.04646]], [[-1.70909, 15.04646], [-1.7057833, 15.0492633]], [[-1.7227233, 15.02365], [-1.7219217, 15.0225583]], [[-1.7219217, 15.0225583], [-1.7175717, 15.0248717]], [[-1.728605, 15.06549], [-1.731585, 15.0649117]], [[-1.731585, 15.0649117], [-1.7307083, 15.0661367]], [[-1.7307083, 15.0661367], [-1.733575, 15.0667117]], [[-1.7073883, 15.0553367], [-1.7086717, 15.0512467]], [[-1.7293017, 15.0555667], [-1.7248517, 15.05691]], [[-1.70894, 15.0487317], [-1.7069417, 15.0528467]], [[-1.7069417, 15.0528467], [-1.7066117, 15.0532483]], [[-1.7066117, 15.0532483], [-1.68894, 15.0615333]], [[-1.6466583, 15.0694267], [-1.6311967, 15.0746283]], [[-1.4841283, 15.0691583], [-1.4845367, 15.0684867]], [[-1.4845367, 15.0684867], [-1.490245, 15.0790483]], [[-1.3953433, 15.0782517], [-1.3951867, 15.078335]], [[-1.3951867, 15.078335], [-1.3968367, 15.0773733]], [[-1.3968367, 15.0773733], [-1.3981533, 15.077495]], [[-1.38847, 15.09289], [-1.375025, 15.0865167]], [[-1.375025, 15.0865167], [-1.374895, 15.0843117]], [[-1.3708917, 15.082235], [-1.3613067, 15.0898867]], [[-1.34802, 15.0879067], [-1.351715, 15.08798]], [[-1.351715, 15.08798], [-1.34942, 15.0900083]], [[-1.34942, 15.0900083], [-1.3494167, 15.0900017]], [[-1.3494167, 15.0900017], [-1.3559433, 15.0844667]], [[-1.35769, 15.0834583], [-1.3570633, 15.0840767]], [[-1.3570633, 15.0840767], [-1.35854, 15.0858317]], [[-1.2004967, 15.1417467], [-1.1990917, 15.1462717]], [[-1.1224533, 15.1635267], [-1.1147467, 15.1604267]], [[-1.1147467, 15.1604267], [-1.1142517, 15.1608067]], [[-1.1142517, 15.1608067], [-1.1154067, 15.1619583]], [[-1.1154067, 15.1619583], [-1.1181383, 15.1620667]], [[-1.1181383, 15.1620667], [-1.1103183, 15.15429]], [[-1.1103183, 15.15429], [-1.1089417, 15.1535917]], [[-1.1089417, 15.1535917], [-1.113305, 15.15668]], [[-1.0787283, 15.1582583], [-1.0781583, 15.161205]], [[-1.0078167, 15.1809333], [-1.0037817, 15.1793833]], [[-1.0118383, 15.1059217], [-1.0133183, 15.1012367]], [[-1.05424, 15.0499567], [-1.0555517, 15.049115]], [[-0.99071, 14.9882033], [-0.9758783, 14.9894267]], [[-1.057045, 15.138535], [-1.0570883, 15.1469417]], [[-1.0570883, 15.1469417], [-1.0570617, 15.1471133]], [[-1.0570617, 15.1471133], [-1.0514267, 15.1554783]], [[-1.00434, 15.1858], [-1.00531, 15.1885317]], [[-1.01841, 15.229495], [-1.0198683, 15.230985]], [[-1.0428517, 15.246995], [-1.0430017, 15.247055]], [[-1.0430017, 15.247055], [-1.0437517, 15.2472967]], [[-1.0437517, 15.2472967], [-1.0368133, 15.2489933]], [[-1.0510033, 15.255465], [-1.051145, 15.2574033]], [[-1.3729983, 15.0829167], [-1.3730317, 15.0826417]], [[-1.3730317, 15.0826417], [-1.3727467, 15.0820267]], [[-1.1256333, 14.8983933], [-1.1258, 14.8988633]], [[-1.1258, 14.8988633], [-1.120255, 14.8960283]], [[-1.1257883, 14.8987233], [-1.1258067, 14.898645]], [[-1.0163867, 14.949425], [-1.02657, 14.9520033]], [[-0.9670233, 14.94985], [-0.9657033, 14.9502933]], [[-1.0543067, 14.8874133], [-1.054175, 14.8873467]], [[-1.054175, 14.8873467], [-1.05446, 14.88412]], [[-1.2520967, 14.7228583], [-1.2571483, 14.7144617]], [[-1.5088533, 14.6494067], [-1.52298, 14.654045]], [[-1.03401, 14.92957], [-1.035385, 14.92708]], [[-1.0266417, 14.8825617], [-1.0274017, 14.8817217]], [[-0.9886417, 14.9494417], [-0.9901317, 14.9514217]], [[-0.9901317, 14.9514217], [-0.9947867, 14.95087]], [[-0.9710667, 14.94353], [-0.9700583, 14.93903]], [[-0.9700583, 14.93903], [-0.9656267, 14.9379233]], [[-0.9656267, 14.9379233], [-0.9646317, 14.9489717]], [[-0.9646317, 14.9489717], [-0.9669633, 14.95001]], [[-1.0277067, 14.884065], [-1.0243633, 14.880875]]], &quot;type&quot;: &quot;MultiLineString&quot;}, &quot;id&quot;: &quot;0&quot;, &quot;properties&quot;: {&quot;__folium_color&quot;: &quot;#1a9850&quot;, &quot;label&quot;: &quot;0.0 - 0.6 km/hr&quot;, &quot;speed_colour&quot;: &quot;#1a9850&quot;}, &quot;type&quot;: &quot;Feature&quot;}, {&quot;bbox&quot;: [-3.0701183, 14.5082133, -0.938395, 15.7333583], &quot;geometry&quot;: {&quot;coordinates&quot;: [[[-2.1686167, 15.6493217], [-2.173305, 15.661185]], [[-2.1646433, 15.6778417], [-2.1689233, 15.6688817]], [[-2.2321933, 15.72339], [-2.25456, 15.7314183]], [[-2.2434, 15.721365], [-2.2603733, 15.7323517]], [[-2.258085, 15.7277117], [-2.25394, 15.72196]], [[-2.2639017, 15.7189367], [-2.2540617, 15.7177333]], [[-2.2312467, 15.71281], [-2.2575383, 15.7301]], [[-2.265465, 15.7309367], [-2.25554, 15.72895]], [[-2.26678, 15.7325633], [-2.2549317, 15.7271383]], [[-2.268625, 15.7327217], [-2.2607267, 15.729485]], [[-2.2723117, 15.7333583], [-2.2542083, 15.7281117]], [[-2.270455, 15.7325833], [-2.258135, 15.7300633]], [[-2.2738717, 15.72757], [-2.2606233, 15.71821]], [[-2.2893433, 15.7169983], [-2.2738267, 15.726455]], [[-2.1238033, 15.6373617], [-2.1187233, 15.6327167]], [[-2.1141783, 15.65413], [-2.1130067, 15.647215]], [[-2.2139283, 15.62292], [-2.2300167, 15.6458217]], [[-2.2300167, 15.6458217], [-2.2363433, 15.6422283]], [[-2.71146, 15.36467], [-2.7149217, 15.355085]], [[-2.7149217, 15.355085], [-2.7224417, 15.3488433]], [[-2.7224417, 15.3488433], [-2.7247133, 15.3430367]], [[-2.86879, 15.3914183], [-2.8885667, 15.3759767]], [[-3.0091117, 15.2290733], [-3.01757, 15.21809]], [[-3.008725, 15.2067167], [-3.0262383, 15.1906333]], [[-2.88187, 15.292745], [-2.867415, 15.273355]], [[-2.867415, 15.273355], [-2.8598333, 15.275435]], [[-2.901985, 15.27995], [-2.9124733, 15.26185]], [[-2.9124733, 15.26185], [-2.9270933, 15.2590483]], [[-2.9682833, 15.225405], [-2.973895, 15.247215]], [[-2.8170883, 15.3798433], [-2.8262033, 15.3787867]], [[-2.7491083, 15.353435], [-2.7424633, 15.3490267]], [[-2.6257467, 15.2559433], [-2.5987717, 15.2390267]], [[-2.38197, 15.2399367], [-2.3564533, 15.2235483]], [[-2.2707117, 15.0080433], [-2.2701233, 15.0003917]], [[-2.2531133, 14.976565], [-2.263815, 15.0051233]], [[-2.1928317, 14.9348167], [-2.1830083, 14.9250167]], [[-2.1830083, 14.9250167], [-2.1724967, 14.927185]], [[-2.16378, 14.922315], [-2.15323, 14.927655]], [[-2.1423783, 14.9437217], [-2.137145, 14.94632]], [[-2.0940717, 14.97875], [-2.0871167, 14.9806383]], [[-2.0871167, 14.9806383], [-2.068835, 14.965185]], [[-2.0241217, 14.9749217], [-2.01775, 14.9736117]], [[-1.9245017, 15.0196567], [-1.9294683, 15.0227283]], [[-1.9294683, 15.0227283], [-1.9283817, 15.0146017]], [[-1.88386, 15.051025], [-1.88162, 15.0451833]], [[-1.898575, 15.0356583], [-1.8839817, 15.030365]], [[-1.7913533, 15.0729633], [-1.7984583, 15.0720367]], [[-1.7595383, 15.057875], [-1.749405, 15.0523533]], [[-1.8926317, 15.0543267], [-1.894165, 15.071445]], [[-2.0529817, 14.973975], [-2.047055, 14.975435]], [[-2.091595, 14.9618683], [-2.080125, 14.9573067]], [[-2.0527367, 14.9675433], [-2.0487217, 14.959905]], [[-2.0405533, 14.9574883], [-2.0483717, 14.958105]], [[-2.0632617, 14.9737117], [-2.0480483, 14.9633083]], [[-2.1159517, 14.9454467], [-2.1234383, 14.946765]], [[-2.1375133, 14.9504883], [-2.1527617, 14.9469117]], [[-2.16062, 14.946265], [-2.16301, 14.93616]], [[-2.044245, 14.59688], [-2.011485, 14.60405]], [[-1.8528817, 14.5293283], [-1.848465, 14.53644]], [[-1.8226683, 14.5516933], [-1.7994933, 14.547485]], [[-1.68045, 14.6121433], [-1.6882733, 14.6199133]], [[-1.6753967, 14.6212383], [-1.66808, 14.6182217]], [[-1.7042317, 14.512635], [-1.7319117, 14.5084717]], [[-1.7319117, 14.5084717], [-1.7395867, 14.5082133]], [[-1.6670983, 14.5250383], [-1.6562117, 14.5436967]], [[-1.1588983, 14.8191867], [-1.128445, 14.8354]], [[-1.0123733, 14.8966333], [-1.0257467, 14.9048767]], [[-1.0257467, 14.9048767], [-1.035245, 14.8769]], [[-0.9644567, 15.1366117], [-0.9724033, 15.1572017]], [[-0.9569833, 15.1802817], [-0.966765, 15.16308]], [[-0.9863867, 15.1715967], [-0.98874, 15.17803]], [[-0.98874, 15.17803], [-0.9789333, 15.2024967]], [[-0.9866233, 15.233935], [-0.9936617, 15.236705]], [[-0.9513033, 15.2348083], [-0.9737467, 15.2418017]], [[-1.0808033, 15.271845], [-1.0912783, 15.2693917]], [[-1.0912783, 15.2693917], [-1.116885, 15.2623267]], [[-1.1184967, 15.2714367], [-1.1161433, 15.2484467]], [[-1.1406817, 15.3038683], [-1.120265, 15.28244]], [[-1.1002617, 15.2564633], [-1.0948433, 15.2479633]], [[-1.0948433, 15.2479633], [-1.0553883, 15.2367067]], [[-1.0037567, 15.1953667], [-1.0149633, 15.2134767]], [[-1.0149633, 15.2134767], [-1.0251583, 15.229495]], [[-1.0283317, 15.219195], [-1.0060617, 15.20167]], [[-0.9677367, 15.16561], [-0.938395, 15.17827]], [[-1.0577083, 15.25083], [-1.0686317, 15.265085]], [[-1.1210217, 15.272575], [-1.1292533, 15.2736667]], [[-1.1435267, 15.144155], [-1.13688, 15.147445]], [[-1.13688, 15.147445], [-1.115995, 15.1478717]], [[-1.09195, 15.1560683], [-1.058045, 15.1818067]], [[-1.058045, 15.1818067], [-1.0433167, 15.1990783]], [[-1.0506133, 15.25512], [-1.0627767, 15.271195]], [[-1.29572, 15.25137], [-1.29399, 15.2741583]], [[-1.2358283, 15.2433817], [-1.2523017, 15.21904]], [[-1.1669233, 15.2788083], [-1.156155, 15.2751717]], [[-1.156155, 15.2751717], [-1.1308683, 15.28293]], [[-1.0774267, 15.2456917], [-1.0532817, 15.251935]], [[-1.0580367, 15.2543217], [-1.060085, 15.259985]], [[-1.0859867, 15.2764383], [-1.11367, 15.2896567]], [[-1.11367, 15.2896567], [-1.1237633, 15.2834433]], [[-1.1192183, 15.29249], [-1.1249017, 15.2971033]], [[-1.4457683, 15.0754167], [-1.477125, 15.0720333]], [[-1.4774367, 15.07031], [-1.47171, 15.0665833]], [[-1.3481217, 15.1045833], [-1.33576, 15.12676]], [[-1.5332933, 15.0557933], [-1.5656017, 15.0775533]], [[-1.2984183, 15.1170783], [-1.2871983, 15.1227067]], [[-1.28511, 15.1225883], [-1.30057, 15.1280433]], [[-1.3038633, 15.138485], [-1.2607967, 15.1307417]], [[-1.2102317, 15.1264117], [-1.2082633, 15.1196883]], [[-1.2375867, 15.10802], [-1.2508083, 15.12487]], [[-1.354465, 15.1632317], [-1.3936767, 15.1515967]], [[-1.3220567, 15.1043617], [-1.348805, 15.0941167]], [[-1.3021767, 15.131805], [-1.3213633, 15.1321317]], [[-1.3326467, 15.1547233], [-1.3614217, 15.1547283]], [[-1.3614217, 15.1547283], [-1.3797467, 15.1437383]], [[-1.3797467, 15.1437383], [-1.410335, 15.14834]], [[-1.4144917, 15.1417917], [-1.4118433, 15.1505]], [[-1.4118433, 15.1505], [-1.43054, 15.1485017]], [[-1.4508833, 15.1504283], [-1.4273217, 15.1466617]], [[-1.325535, 15.1485133], [-1.3193417, 15.1514433]], [[-1.310835, 15.1851433], [-1.3020417, 15.1918067]], [[-1.3215467, 15.227095], [-1.3520917, 15.2364667]], [[-1.37662, 15.2495167], [-1.3820967, 15.2537467]], [[-1.3820967, 15.2537467], [-1.367125, 15.2406433]], [[-1.3933333, 15.255475], [-1.3843883, 15.2559183]], [[-1.4053433, 15.1940817], [-1.4089083, 15.186355]], [[-1.4089083, 15.186355], [-1.4112917, 15.1765833]], [[-1.4112917, 15.1765833], [-1.4318667, 15.1621283]], [[-1.40582, 15.219975], [-1.4114833, 15.2145867]], [[-1.5402533, 15.240375], [-1.51925, 15.2248467]], [[-1.5273067, 15.230595], [-1.5554817, 15.2516417]], [[-1.5049067, 15.2036667], [-1.5333133, 15.2184733]], [[-1.4928633, 15.2341333], [-1.4987583, 15.232755]], [[-1.4987583, 15.232755], [-1.5180833, 15.234045]], [[-1.5180833, 15.234045], [-1.525985, 15.2402667]], [[-1.525985, 15.2402667], [-1.55433, 15.2486933]], [[-1.5543233, 15.2483533], [-1.5203117, 15.2266117]], [[-1.5194517, 15.2240233], [-1.5391917, 15.2160983]], [[-1.5391917, 15.2160983], [-1.5394883, 15.2065567]], [[-1.51908, 15.2184333], [-1.4880983, 15.2153883]], [[-1.4899033, 15.2185467], [-1.5044933, 15.2243433]], [[-1.52317, 15.224255], [-1.52821, 15.2270883]], [[-1.5736883, 15.17168], [-1.5747083, 15.1653567]], [[-1.495155, 15.15539], [-1.4762083, 15.1562567]], [[-1.52853, 15.2219817], [-1.5546883, 15.230365]], [[-1.5387467, 15.1650183], [-1.558985, 15.1806833]], [[-1.55287, 15.178085], [-1.555125, 15.1862733]], [[-1.6020883, 15.0613283], [-1.611075, 15.0606883]], [[-1.6200033, 15.0632], [-1.6291033, 15.0637617]], [[-1.6291033, 15.0637617], [-1.64252, 15.06236]], [[-1.8162367, 15.0645267], [-1.8273133, 15.0571517]], [[-1.8381133, 15.0742817], [-1.8180067, 15.060755]], [[-1.8180067, 15.060755], [-1.8047583, 15.0546433]], [[-1.731105, 15.012275], [-1.7384667, 15.0218133]], [[-1.72927, 15.01452], [-1.7388917, 15.02082]], [[-1.729565, 15.0212767], [-1.7479767, 15.021725]], [[-1.7459817, 15.0182517], [-1.7385267, 15.01364]], [[-1.7463883, 15.0268917], [-1.7416033, 15.0212283]], [[-1.7258983, 15.029915], [-1.7245717, 15.0244383]], [[-1.7291233, 15.0203067], [-1.7348267, 15.0371867]], [[-1.7471417, 15.036265], [-1.7536133, 15.0393233]], [[-1.7716, 15.0326633], [-1.784235, 15.0470233]], [[-1.58077, 15.190665], [-1.5749683, 15.16636]], [[-1.5749683, 15.16636], [-1.5655383, 15.1622]], [[-1.4731667, 15.19011], [-1.4837333, 15.2162867]], [[-1.667765, 15.6043733], [-1.69093, 15.5979717]], [[-1.942255, 15.4145283], [-1.9523567, 15.4152033]], [[-2.0166783, 15.4042167], [-2.0261283, 15.402515]], [[-2.0261283, 15.402515], [-2.04828, 15.40547]], [[-2.1472833, 15.2661317], [-2.1409667, 15.2440417]], [[-2.2659067, 15.241095], [-2.260065, 15.2485367]], [[-2.215115, 15.3220933], [-2.257105, 15.3178417]], [[-2.1601267, 15.6191717], [-2.1603, 15.6252083]], [[-2.1603, 15.6252083], [-2.1518967, 15.64827]], [[-2.1399, 15.6504283], [-2.1141767, 15.6528333]], [[-2.12643, 15.64622], [-2.157465, 15.65058]], [[-2.1592183, 15.64444], [-2.16729, 15.6460067]], [[-2.1425183, 15.6321383], [-2.1391467, 15.6231317]], [[-2.1391467, 15.6231317], [-2.14833, 15.5927333]], [[-2.0937683, 15.3412167], [-2.0909517, 15.3492067]], [[-2.1397417, 15.298065], [-2.1341867, 15.2770767]], [[-2.13478, 15.2935883], [-2.140305, 15.2972917]], [[-2.1334717, 15.2855583], [-2.1356683, 15.29212]], [[-2.1436767, 15.2990567], [-2.125705, 15.3057]], [[-2.1426667, 15.2940483], [-2.1341217, 15.2857283]], [[-2.13269, 15.2913283], [-2.1394617, 15.2976467]], [[-2.1428883, 15.2953833], [-2.1417117, 15.2559717]], [[-2.1417117, 15.2559717], [-2.120895, 15.22575]], [[-2.1409667, 15.27736], [-2.1450467, 15.2998617]], [[-2.1641933, 15.2394117], [-2.1886783, 15.22092]], [[-2.3397817, 14.9727033], [-2.31993, 14.972665]], [[-2.2755317, 14.9985267], [-2.3033967, 14.99047]], [[-2.2901183, 14.989715], [-2.308085, 14.9775667]], [[-2.2987367, 14.9906817], [-2.287865, 14.9927083]], [[-2.287865, 14.9927083], [-2.2589433, 14.9944067]], [[-2.2956333, 14.9830967], [-2.2819567, 14.997815]], [[-2.2819567, 14.997815], [-2.2974033, 15.0089883]], [[-2.464045, 15.2685017], [-2.4593333, 15.2795917]], [[-2.4448717, 15.265645], [-2.4586383, 15.266175]], [[-2.44266, 15.260455], [-2.4587217, 15.2674883]], [[-2.4502467, 15.288945], [-2.4381333, 15.2809933]], [[-2.4518567, 15.260125], [-2.4443983, 15.2543817]], [[-2.3009967, 15.1946633], [-2.2996167, 15.1892]], [[-2.2814467, 15.0460517], [-2.2886733, 15.026925]], [[-2.2333017, 15.0000183], [-2.2562783, 15.0290467]], [[-2.2986167, 15.1646367], [-2.2975033, 15.174275]], [[-2.2128, 15.0276383], [-2.20305, 15.0068433]], [[-2.1736367, 14.9738183], [-2.1614083, 14.9723517]], [[-2.1557883, 14.9749967], [-2.1773683, 14.9710167]], [[-2.3003033, 15.1260567], [-2.322945, 15.1338483]], [[-2.322945, 15.1338483], [-2.33305, 15.1707117]], [[-2.29832, 15.1878917], [-2.300095, 15.1939483]], [[-2.8244233, 15.2930417], [-2.8527917, 15.294835]], [[-3.03817, 15.2004933], [-3.0522183, 15.2065183]], [[-3.0522183, 15.2065183], [-3.067805, 15.2037183]], [[-3.0659967, 15.1692533], [-3.0701183, 15.1752817]], [[-3.0701183, 15.1752817], [-3.0698017, 15.1678667]], [[-3.0698017, 15.1678667], [-3.056745, 15.16371]], [[-2.9829967, 15.1946933], [-3.0203383, 15.178795]], [[-2.97752, 15.2686133], [-2.997255, 15.269865]], [[-3.0040733, 15.1780533], [-2.9855967, 15.1945983]], [[-2.934865, 15.2824583], [-2.9210233, 15.2715783]], [[-2.9210233, 15.2715783], [-2.9003633, 15.2575867]], [[-2.4848117, 15.2482117], [-2.47822, 15.24885]], [[-2.47822, 15.24885], [-2.4733733, 15.2530483]], [[-2.2528867, 14.975285], [-2.2539117, 14.9675183]], [[-2.002995, 14.9570333], [-1.99782, 14.96185]], [[-1.9967683, 14.9667083], [-1.977765, 14.9891883]], [[-1.9699867, 14.9880267], [-1.975705, 14.9840033]], [[-1.8999817, 15.038515], [-1.9017967, 15.0458283]], [[-1.9017967, 15.0458283], [-1.888435, 15.05785]], [[-1.859745, 15.051895], [-1.843365, 15.05914]], [[-1.9066083, 15.0311233], [-1.9289567, 15.023075]], [[-2.0588867, 14.9755667], [-2.1002167, 14.97104]], [[-2.1168583, 14.9565167], [-2.1296, 14.94593]], [[-1.91807, 14.566895], [-1.9100867, 14.5660833]], [[-1.9100867, 14.5660833], [-1.8956433, 14.568115]], [[-1.8767183, 14.5413483], [-1.859725, 14.54507]], [[-1.859725, 14.54507], [-1.8408433, 14.5573067]], [[-1.70108, 14.5485517], [-1.7037683, 14.541785]], [[-1.7037683, 14.541785], [-1.7072267, 14.537155]], [[-1.6920367, 14.548705], [-1.7079767, 14.52223]], [[-1.6319683, 14.6071633], [-1.6394633, 14.610115]], [[-1.6025133, 14.57601], [-1.6114133, 14.565645]], [[-1.613375, 14.56084], [-1.5988833, 14.553135]], [[-1.5893067, 14.5510633], [-1.5825533, 14.5491433]], [[-1.5825533, 14.5491433], [-1.5745917, 14.549455]], [[-1.5745917, 14.549455], [-1.5681533, 14.5512383]], [[-1.0699133, 15.142705], [-1.0840817, 15.1369733]], [[-1.0840817, 15.1369733], [-1.0909417, 15.1373233]], [[-1.10663, 15.136285], [-1.124255, 15.13884]], [[-1.124255, 15.13884], [-1.1104017, 15.1512717]], [[-1.2603533, 15.1204933], [-1.2726967, 15.1161883]], [[-1.3635367, 15.083355], [-1.3404217, 15.085515]], [[-1.0556667, 15.1345117], [-1.07757, 15.1214267]], [[-1.07757, 15.1214267], [-1.0581567, 15.1225517]], [[-1.0589483, 15.1448217], [-1.0775617, 15.1470733]], [[-1.1132533, 15.1450683], [-1.0893683, 15.1476933]], [[-1.100105, 15.1351033], [-1.1134117, 15.145225]], [[-1.233925, 15.0064433], [-1.2283417, 14.9979167]], [[-1.3409883, 14.6812217], [-1.3547433, 14.67132]], [[-1.24068, 14.6855933], [-1.2254767, 14.6963667]], [[-1.1996867, 14.7652], [-1.1956083, 14.7769183]], [[-1.0093883, 15.0585467], [-0.987105, 15.0813517]], [[-1.0301833, 15.0790967], [-1.0625783, 15.0863983]], [[-1.0690183, 15.1454967], [-1.0707633, 15.1509683]], [[-1.1428583, 15.1401733], [-1.1280617, 15.1310633]], [[-1.023845, 14.9875067], [-1.016345, 14.9862633]], [[-1.1390017, 15.2904683], [-1.1329267, 15.287125]], [[-1.1074933, 15.2703567], [-1.1325283, 15.27607]], [[-1.15459, 15.2998667], [-1.1581017, 15.3211]], [[-1.07864, 15.249335], [-1.0686633, 15.244745]], [[-1.049335, 15.2394183], [-1.0400933, 15.25473]], [[-1.0400933, 15.25473], [-1.0224283, 15.2342167]], [[-1.2282083, 15.2877583], [-1.224215, 15.2923067]], [[-1.2037117, 15.34885], [-1.1906433, 15.37816]], [[-1.1906433, 15.37816], [-1.1974983, 15.3789883]], [[-1.235, 15.257065], [-1.23064, 15.2532617]], [[-1.19872, 15.287355], [-1.192465, 15.3015567]], [[-1.1746167, 15.3043033], [-1.1666883, 15.3065567]], [[-1.1666883, 15.3065567], [-1.1625083, 15.3023433]], [[-1.1625083, 15.3023433], [-1.13793, 15.29424]], [[-1.109635, 15.2550033], [-1.1156967, 15.2569017]], [[-1.0916617, 15.254855], [-1.0689617, 15.25168]], [[-1.0393083, 15.2530633], [-1.0430367, 15.2602733]], [[-1.0715017, 15.334485], [-1.075325, 15.3416483]], [[-1.075325, 15.3416483], [-1.0808233, 15.3438483]], [[-1.1589067, 15.3289133], [-1.1626817, 15.2989517]], [[-1.1632267, 15.300595], [-1.1670367, 15.306345]], [[-1.189105, 15.3563633], [-1.1966483, 15.3606433]], [[-1.199415, 15.3576033], [-1.186535, 15.33827]], [[-1.2494683, 15.2740683], [-1.2437233, 15.2610483]], [[-1.2984067, 15.1999717], [-1.3001083, 15.1801817]], [[-1.3001083, 15.1801817], [-1.293405, 15.15475]], [[-1.325, 15.126665], [-1.3017533, 15.13409]], [[-1.314595, 15.2070417], [-1.2846383, 15.2091083]], [[-1.3245317, 15.0731633], [-1.3257167, 15.0946767]], [[-1.367185, 15.155685], [-1.379815, 15.1435683]], [[-1.379815, 15.1435683], [-1.4100833, 15.1498833]], [[-1.30478, 15.1825667], [-1.3102017, 15.1803167]], [[-1.3734633, 15.1423167], [-1.4069983, 15.144985]], [[-1.336375, 15.0964183], [-1.31965, 15.0990517]], [[-1.7408833, 15.0207833], [-1.7595033, 15.0427833]], [[-1.8950983, 15.0715917], [-1.9045717, 15.0934983]], [[-1.89439, 15.0804767], [-1.894895, 15.0725817]], [[-1.87257, 15.055745], [-1.8723567, 15.0375683]], [[-1.739615, 14.9912217], [-1.7612233, 14.9778267]], [[-1.7612233, 14.9778267], [-1.7649517, 14.9953083]], [[-1.7322967, 15.0187217], [-1.7693167, 15.0183533]], [[-1.77604, 15.059825], [-1.7828767, 15.0657183]], [[-1.5611217, 15.099965], [-1.5545567, 15.10783]], [[-1.5838183, 15.0618217], [-1.586365, 15.0690367]], [[-1.6167983, 15.05652], [-1.6302383, 15.067075]], [[-1.6208133, 15.0569317], [-1.59344, 15.0523117]], [[-1.54872, 15.2173883], [-1.5228833, 15.217655]], [[-1.49007, 15.2177917], [-1.471855, 15.223305]], [[-1.476675, 15.2183183], [-1.4824583, 15.2202033]], [[-1.48883, 15.2233283], [-1.4963033, 15.2231183]], [[-1.4894, 15.2137817], [-1.4647817, 15.214705]], [[-1.425755, 15.216995], [-1.4195, 15.2159117]], [[-1.411755, 15.216955], [-1.423315, 15.219945]], [[-1.423315, 15.219945], [-1.4405567, 15.21371]], [[-1.4956133, 15.2223233], [-1.490985, 15.2287817]], [[-1.5097083, 15.22859], [-1.513795, 15.22242]], [[-1.4809933, 15.2228283], [-1.4672967, 15.223955]], [[-1.506515, 15.233705], [-1.4887183, 15.2332033]], [[-1.5009883, 15.2334067], [-1.4959483, 15.23012]], [[-1.49061, 15.217955], [-1.468035, 15.2253433]], [[-1.5131117, 15.2260667], [-1.4869867, 15.2280583]], [[-1.5564517, 15.2223283], [-1.557295, 15.21613]], [[-1.5042767, 15.19249], [-1.50036, 15.19793]], [[-1.5574833, 15.215805], [-1.5597733, 15.2269733]], [[-1.56531, 15.2117083], [-1.5766167, 15.19668]], [[-1.635805, 15.1483667], [-1.6309717, 15.1524617]], [[-1.5313733, 15.457245], [-1.53663, 15.47114]], [[-1.662735, 15.60969], [-1.6894383, 15.61694]], [[-1.6894383, 15.61694], [-1.702505, 15.622625]], [[-1.7352083, 15.6250417], [-1.7498267, 15.6162183]], [[-1.9023117, 15.418055], [-1.8992, 15.4079]], [[-2.0377617, 15.4580717], [-2.0374517, 15.4639217]], [[-2.1293967, 15.2883917], [-2.113925, 15.297455]], [[-2.101905, 15.2795267], [-2.1301633, 15.29014]], [[-2.1317883, 15.2908033], [-2.1353933, 15.286395]], [[-2.1302333, 15.2804283], [-2.1318783, 15.286735]], [[-2.004685, 15.3364], [-1.998605, 15.3293617]], [[-2.1017617, 15.31668], [-2.12779, 15.287405]], [[-2.1673433, 15.65173], [-2.199705, 15.656425]], [[-2.152385, 15.65279], [-2.143665, 15.6496317]], [[-2.143665, 15.6496317], [-2.1219617, 15.6513433]], [[-2.1219617, 15.6513433], [-2.1136917, 15.6547517]], [[-2.130015, 15.64115], [-2.1614483, 15.663745]], [[-2.1614483, 15.663745], [-2.16584, 15.6679167]], [[-2.1625967, 15.6476283], [-2.16101, 15.6191583]], [[-2.162725, 15.6477133], [-2.1717817, 15.657215]], [[-2.1719567, 15.6675633], [-2.1674583, 15.6550883]], [[-2.1665183, 15.65316], [-2.1608067, 15.651145]], [[-2.1712133, 15.644195], [-2.1708367, 15.6571933]], [[-2.1666333, 15.6518517], [-2.18263, 15.6293883]], [[-2.18263, 15.6293883], [-2.2218833, 15.60846]], [[-2.1751483, 15.6620267], [-2.1743567, 15.6686633]], [[-2.1677067, 15.6599133], [-2.1756183, 15.6686267]], [[-2.1736367, 15.6671733], [-2.1691583, 15.66319]], [[-2.1997383, 15.627705], [-2.2082967, 15.631205]], [[-2.2665567, 15.6525567], [-2.2886633, 15.663025]], [[-2.6160467, 15.5263467], [-2.6132117, 15.5634867]], [[-2.5837167, 15.6395533], [-2.5821883, 15.62686]], [[-2.5821883, 15.62686], [-2.5838633, 15.5988267]], [[-2.76733, 15.3161133], [-2.7789383, 15.3149217]], [[-2.767885, 15.3169283], [-2.7665367, 15.3113267]], [[-2.919395, 15.3030883], [-2.9088483, 15.2964067]], [[-2.8316967, 15.3067667], [-2.834575, 15.29815]], [[-2.914405, 15.3103017], [-2.930695, 15.3012867]], [[-2.941175, 15.28665], [-2.9430383, 15.27806]], [[-2.971995, 15.2379133], [-2.9690733, 15.2249017]], [[-2.9640867, 15.1945717], [-2.9817633, 15.1921683]], [[-2.98102, 15.1910067], [-2.9902767, 15.1769683]], [[-2.9902767, 15.1769683], [-2.9947483, 15.172165]], [[-3.0541533, 15.1996617], [-3.0440717, 15.1952067]], [[-3.0159117, 15.181735], [-2.9976067, 15.1855567]], [[-2.920545, 15.2174667], [-2.9151933, 15.219875]], [[-2.8762133, 15.248915], [-2.867435, 15.2491717]], [[-2.19871, 14.9298033], [-2.1834067, 14.93974]], [[-2.1299067, 14.953655], [-2.1246983, 14.95669]], [[-2.1246983, 14.95669], [-2.1167017, 14.9602383]], [[-2.1221517, 14.9500767], [-2.1266467, 14.9463833]], [[-2.035985, 14.9748917], [-2.0183117, 14.9759267]], [[-1.9039967, 15.0408683], [-1.9092083, 15.03844]], [[-1.9856083, 14.9883483], [-1.9835683, 14.9946517]], [[-1.9835683, 14.9946517], [-1.9664983, 15.0061383]], [[-1.8945633, 15.0420017], [-1.876615, 15.02392]], [[-1.8389167, 15.038475], [-1.8437967, 15.0415083]], [[-1.7661283, 15.0146733], [-1.7803867, 15.03803]], [[-1.75392, 15.0530333], [-1.749965, 15.0462583]], [[-1.749965, 15.0462583], [-1.745565, 15.02851]], [[-1.7678483, 15.0492383], [-1.7740967, 15.0524167]], [[-1.7577383, 15.0490067], [-1.743595, 15.027215]], [[-1.73852, 15.0187883], [-1.72458, 15.0320467]], [[-1.72458, 15.0320467], [-1.7118933, 15.0448167]], [[-1.68894, 15.0615333], [-1.6742533, 15.07271]], [[-1.65467, 15.07418], [-1.6466583, 15.0694267]], [[-1.3981533, 15.077495], [-1.38847, 15.09289]], [[-1.3175917, 15.111955], [-1.2826317, 15.1266683]], [[-1.1990917, 15.1462717], [-1.1880283, 15.1558767]], [[-1.1880283, 15.1558767], [-1.1695317, 15.1441517]], [[-1.1695317, 15.1441517], [-1.1408767, 15.1518383]], [[-1.1408767, 15.1518383], [-1.1314083, 15.14904]], [[-1.113305, 15.15668], [-1.1093583, 15.14585]], [[-1.0320167, 15.1842533], [-1.0229, 15.2041283]], [[-1.01941, 15.1932], [-1.0114383, 15.182275]], [[-1.0133183, 15.1012367], [-1.015765, 15.0923833]], [[-1.02146, 15.0896433], [-1.0345283, 15.0646667]], [[-1.0345283, 15.0646667], [-1.05424, 15.0499567]], [[-1.0555517, 15.049115], [-1.0456183, 15.0133583]], [[-0.9758783, 14.9894267], [-0.9930233, 14.9880267]], [[-1.07376, 15.043125], [-1.0702217, 15.05203]], [[-1.0702217, 15.05203], [-1.05815, 15.0578183]], [[-1.05815, 15.0578183], [-1.053575, 15.06154]], [[-1.0525417, 15.062065], [-1.0507233, 15.0889083]], [[-1.0509883, 15.14078], [-1.057045, 15.138535]], [[-1.0762683, 15.25704], [-1.0594383, 15.2511067]], [[-1.0594383, 15.2511067], [-1.0521483, 15.2338417]], [[-1.0829317, 15.146585], [-1.09433, 15.14662]], [[-1.2834983, 15.1348233], [-1.3121683, 15.1360967]], [[-1.3693767, 15.1196533], [-1.3729983, 15.0829167]], [[-1.00918, 14.9629433], [-1.00946, 14.9822517]], [[-1.2571483, 14.7144617], [-1.2597883, 14.7089117]], [[-1.5008433, 14.6498283], [-1.5088533, 14.6494067]], [[-1.3926167, 14.644335], [-1.36334, 14.6526083]], [[-1.0469467, 14.9461783], [-1.02772, 14.9500817]], [[-1.0021267, 14.9358967], [-0.9886417, 14.9494417]]], &quot;type&quot;: &quot;MultiLineString&quot;}, &quot;id&quot;: &quot;1&quot;, &quot;properties&quot;: {&quot;__folium_color&quot;: &quot;#91cf60&quot;, &quot;label&quot;: &quot;0.6 - 1.2 km/hr&quot;, &quot;speed_colour&quot;: &quot;#91cf60&quot;}, &quot;type&quot;: &quot;Feature&quot;}, {&quot;bbox&quot;: [-3.0935183, 14.5052667, -0.945125, 15.7177333], &quot;geometry&quot;: {&quot;coordinates&quot;: [[[-2.2540617, 15.7177333], [-2.2381883, 15.7000917]], [[-2.1508883, 15.6524067], [-2.1150017, 15.6535]], [[-2.2204433, 15.6402733], [-2.1716017, 15.6598467]], [[-2.473195, 15.5118317], [-2.486005, 15.5071367]], [[-2.9319617, 15.2990783], [-2.8785717, 15.2950833]], [[-2.8850567, 15.287585], [-2.922325, 15.2786583]], [[-2.99131, 15.222015], [-3.0017617, 15.2157383]], [[-2.9270933, 15.2590483], [-2.959425, 15.2573733]], [[-2.973895, 15.247215], [-2.9210483, 15.2770183]], [[-2.9210483, 15.2770183], [-2.91068, 15.2847733]], [[-2.6710683, 15.2762767], [-2.6603767, 15.2705017]], [[-2.5987717, 15.2390267], [-2.5748667, 15.2195967]], [[-2.5512433, 15.2238667], [-2.5153867, 15.2403467]], [[-1.9894883, 14.9966817], [-2.0059383, 14.98034]], [[-2.17847, 14.9375167], [-2.186435, 14.892675]], [[-2.186435, 14.892675], [-2.1860267, 14.879945]], [[-2.011485, 14.60405], [-1.99748, 14.6029367]], [[-1.99748, 14.6029367], [-1.9599217, 14.5978983]], [[-1.9599217, 14.5978983], [-1.9445683, 14.5957567]], [[-1.755485, 14.577425], [-1.7544667, 14.56457]], [[-1.7544667, 14.56457], [-1.7465867, 14.5558483]], [[-1.667075, 14.6022367], [-1.6870867, 14.5727983]], [[-1.679205, 14.52013], [-1.6670983, 14.5250383]], [[-1.3057617, 14.6732383], [-1.2739033, 14.6740217]], [[-1.0132683, 14.884315], [-1.0123733, 14.8966333]], [[-1.0336633, 14.91534], [-1.0287967, 14.9258783]], [[-0.9671933, 15.1026917], [-0.9644567, 15.1366117]], [[-0.945125, 15.1718767], [-0.9569833, 15.1802817]], [[-1.0861067, 15.2484967], [-1.0534, 15.221605]], [[-1.1292533, 15.2736667], [-1.1431183, 15.26532]], [[-1.1431183, 15.26532], [-1.1375467, 15.2391]], [[-1.115995, 15.1478717], [-1.09195, 15.1560683]], [[-1.132595, 15.2767867], [-1.1619483, 15.29908]], [[-1.1619483, 15.29908], [-1.2184517, 15.29617]], [[-1.2557833, 15.2516817], [-1.2894983, 15.2393617]], [[-1.2894983, 15.2393617], [-1.29572, 15.25137]], [[-1.1308683, 15.28293], [-1.14126, 15.2945567]], [[-1.1075483, 15.2809667], [-1.1220217, 15.2888833]], [[-1.3993117, 15.08195], [-1.4457683, 15.0754167]], [[-1.4925817, 15.0695317], [-1.50222, 15.056825]], [[-1.4869017, 15.061945], [-1.5332933, 15.0557933]], [[-1.6415233, 15.063095], [-1.6577067, 15.057695]], [[-1.329595, 15.1326367], [-1.327735, 15.1567133]], [[-1.2277333, 15.1175233], [-1.2375867, 15.10802]], [[-1.2765217, 15.1073317], [-1.3057383, 15.130715]], [[-1.4273217, 15.1466617], [-1.4129567, 15.1482017]], [[-1.3520917, 15.2364667], [-1.37662, 15.2495167]], [[-1.367125, 15.2406433], [-1.3883783, 15.26948]], [[-1.3622767, 15.2151783], [-1.3762667, 15.21507]], [[-1.3744517, 15.22189], [-1.4027917, 15.2197033]], [[-1.3997933, 15.2150533], [-1.43272, 15.226045]], [[-1.487015, 15.2237417], [-1.5304683, 15.2281767]], [[-1.5530633, 15.2475433], [-1.5184283, 15.23082]], [[-1.5482683, 15.228315], [-1.5447417, 15.21517]], [[-1.5256183, 15.1652917], [-1.5387467, 15.1650183]], [[-1.55874, 15.2264417], [-1.5807817, 15.2187483]], [[-1.5807817, 15.2187483], [-1.611815, 15.197465]], [[-1.5679583, 15.0743783], [-1.5972067, 15.0613383]], [[-1.7350783, 15.015735], [-1.7479533, 15.0222517]], [[-1.734745, 15.03281], [-1.7471417, 15.036265]], [[-1.74905, 15.0190367], [-1.73824, 15.0145783]], [[-1.756465, 15.0412917], [-1.74585, 15.02861]], [[-1.9539233, 15.4556717], [-1.95444, 15.4675133]], [[-2.1085383, 15.3307517], [-2.1307933, 15.3066967]], [[-2.1402283, 15.2906317], [-2.1472833, 15.2661317]], [[-2.16729, 15.6460067], [-2.2061433, 15.6430383]], [[-2.0453167, 15.4186317], [-2.0490533, 15.405015]], [[-2.1085567, 15.32996], [-2.1364067, 15.2946367]], [[-2.1110067, 15.414955], [-2.0982417, 15.3818683]], [[-2.1444533, 15.2952583], [-2.13447, 15.28611]], [[-2.1242733, 15.2197733], [-2.1381917, 15.2563533]], [[-2.13434, 15.2823367], [-2.1641933, 15.2394117]], [[-2.3029083, 15.2528517], [-2.3244433, 15.24352]], [[-2.278445, 14.9628983], [-2.2826233, 15.00618]], [[-2.3785717, 15.2375717], [-2.4183033, 15.2599983]], [[-2.4547867, 15.2571417], [-2.4125733, 15.2434533]], [[-2.4125733, 15.2434533], [-2.3639283, 15.22327]], [[-2.3366717, 15.2236133], [-2.3009967, 15.1946633]], [[-2.277865, 15.1615233], [-2.2753067, 15.1490667]], [[-2.2753067, 15.1490667], [-2.2869167, 15.1383217]], [[-2.2846933, 15.0767483], [-2.289335, 15.0318633]], [[-2.2974417, 15.1748233], [-2.3149, 15.1568633]], [[-2.4008683, 15.251905], [-2.3784117, 15.2246517]], [[-2.1720067, 14.9760567], [-2.175925, 14.9917133]], [[-2.33305, 15.1707117], [-2.299525, 15.1834083]], [[-2.2982317, 15.18492], [-2.328925, 15.1538533]], [[-2.300095, 15.1939483], [-2.2866533, 15.230085]], [[-2.9446083, 15.2918133], [-2.948405, 15.2688667]], [[-2.948405, 15.2688667], [-2.982885, 15.2477567]], [[-3.068875, 15.19607], [-3.0711567, 15.2089217]], [[-3.0935183, 15.1940333], [-3.081825, 15.1947833]], [[-2.9846267, 15.1865417], [-2.961055, 15.1901383]], [[-2.9670667, 15.200055], [-3.0098333, 15.2091083]], [[-2.0915583, 14.9619], [-2.081865, 14.97017]], [[-2.0344817, 14.9772583], [-2.0588867, 14.9755667]], [[-2.038045, 14.63459], [-2.0294633, 14.620165]], [[-1.9620883, 14.5939317], [-1.938165, 14.5836267]], [[-1.8956433, 14.568115], [-1.8832367, 14.5697617]], [[-1.8453333, 14.5277383], [-1.85727, 14.5052667]], [[-1.634815, 14.6136667], [-1.6040283, 14.5802167]], [[-1.5681533, 14.5512383], [-1.55282, 14.5586383]], [[-1.0950083, 14.873645], [-1.0748483, 14.9167783]], [[-1.2348367, 15.1501933], [-1.26136, 15.1242867]], [[-1.1218883, 15.143475], [-1.116865, 15.1334767]], [[-1.289085, 14.6835833], [-1.2734317, 14.6811917]], [[-1.2623433, 14.6643917], [-1.263145, 14.6503783]], [[-1.2326267, 14.6593267], [-1.2288917, 14.6730667]], [[-1.037205, 14.9604467], [-1.03225, 14.9752867]], [[-1.0625783, 15.0863983], [-1.06215, 15.1443683]], [[-0.9995583, 14.986115], [-1.0056817, 15.0345]], [[-1.0720967, 15.16154], [-1.0742017, 15.148605]], [[-1.0835583, 15.298745], [-1.1118717, 15.294685]], [[-1.1325283, 15.27607], [-1.15459, 15.2998667]], [[-1.1581017, 15.3211], [-1.121035, 15.2726067]], [[-1.121035, 15.2726067], [-1.1128367, 15.2594167]], [[-1.1108433, 15.2647267], [-1.1723283, 15.2810517]], [[-1.0697283, 15.2766117], [-1.0793483, 15.2881583]], [[-1.138025, 15.2994367], [-1.1529517, 15.33045]], [[-1.1529517, 15.33045], [-1.1626983, 15.3362967]], [[-1.1835767, 15.3208333], [-1.1935067, 15.2985217]], [[-1.1935067, 15.2985217], [-1.2200917, 15.2858817]], [[-1.2194017, 15.3095733], [-1.21327, 15.3345167]], [[-1.2104317, 15.3343083], [-1.2037117, 15.34885]], [[-1.18241, 15.3512383], [-1.1746167, 15.3043033]], [[-1.08485, 15.2456833], [-1.0916617, 15.254855]], [[-1.0689617, 15.25168], [-1.04379, 15.2353233]], [[-1.0741933, 15.353275], [-1.0893767, 15.301925]], [[-1.186535, 15.33827], [-1.2168767, 15.28593]], [[-1.3289767, 15.2009067], [-1.2983117, 15.19187]], [[-1.2983117, 15.19187], [-1.30478, 15.1825667]], [[-1.7757983, 15.0222267], [-1.7831983, 15.0675067]], [[-1.5344183, 15.12333], [-1.5552183, 15.1629433]], [[-1.551945, 15.2083667], [-1.5114, 15.192565]], [[-1.5788417, 15.16486], [-1.5907483, 15.1653317]], [[-1.4969917, 15.1878283], [-1.470985, 15.2173217]], [[-2.1140717, 15.319385], [-2.1333217, 15.3007233]], [[-2.0596733, 15.3068317], [-2.0168883, 15.339425]], [[-2.1109067, 15.2210217], [-2.11654, 15.24834]], [[-2.1757383, 15.6504267], [-2.1732967, 15.6617467]], [[-2.2886633, 15.663025], [-2.3094367, 15.68057]], [[-2.5776867, 15.61142], [-2.57744, 15.6362333]], [[-2.6028217, 15.4587083], [-2.6307467, 15.4271617]], [[-2.70842, 15.357605], [-2.722035, 15.33192]], [[-2.7833317, 15.3073167], [-2.8145467, 15.29469]], [[-2.8145467, 15.29469], [-2.8278367, 15.2937067]], [[-2.87726, 15.3031383], [-2.89987, 15.299135]], [[-2.8599133, 15.2944217], [-2.8445667, 15.2942867]], [[-2.8445667, 15.2942867], [-2.829575, 15.2939917]], [[-2.8221133, 15.2930583], [-2.80755, 15.2930517]], [[-3.0460767, 15.1674183], [-3.0320183, 15.17337]], [[-3.0410467, 15.18192], [-3.0159117, 15.181735]], [[-2.904095, 15.2261683], [-2.8762133, 15.248915]], [[-1.710895, 15.0446667], [-1.7227233, 15.02365]], [[-1.733575, 15.0667117], [-1.7073883, 15.0553367]], [[-1.3440733, 15.103875], [-1.3175917, 15.111955]], [[-1.2295383, 15.1440667], [-1.2004967, 15.1417467]], [[-1.0564417, 15.163985], [-1.04264, 15.1676933]], [[-1.11025, 15.1562867], [-1.124065, 15.1483117]], [[-1.124065, 15.1483117], [-1.16134, 15.149635]], [[-1.36334, 14.6526083], [-1.32323, 14.6689867]], [[-1.0587817, 14.93794], [-1.0469467, 14.9461783]], [[-1.02772, 14.9500817], [-1.0220083, 14.93847]], [[-1.01492, 14.91021], [-1.0266417, 14.8825617]]], &quot;type&quot;: &quot;MultiLineString&quot;}, &quot;id&quot;: &quot;2&quot;, &quot;properties&quot;: {&quot;__folium_color&quot;: &quot;#d9ef8b&quot;, &quot;label&quot;: &quot;1.2 - 1.9 km/hr&quot;, &quot;speed_colour&quot;: &quot;#d9ef8b&quot;}, &quot;type&quot;: &quot;Feature&quot;}, {&quot;bbox&quot;: [-2.941175, 14.59688, -1.00274, 15.6734383], &quot;geometry&quot;: {&quot;coordinates&quot;: [[[-2.1654, 15.5836067], [-2.1622833, 15.647035]], [[-2.1559433, 15.6097233], [-2.1533117, 15.6280233]], [[-2.486005, 15.5071367], [-2.5016483, 15.49618]], [[-2.91068, 15.2847733], [-2.84997, 15.33717]], [[-2.417555, 15.25657], [-2.3988067, 15.25121]], [[-2.3988067, 15.25121], [-2.38197, 15.2399367]], [[-2.0488083, 14.9517083], [-2.0667083, 14.9204]], [[-2.1860267, 14.879945], [-2.176805, 14.84437]], [[-2.15094, 14.769485], [-2.1499933, 14.7490383]], [[-2.1009067, 14.6196967], [-2.044245, 14.59688]], [[-1.1961567, 14.767795], [-1.1739317, 14.8037417]], [[-1.1739317, 14.8037417], [-1.1588983, 14.8191867]], [[-1.1161433, 15.2484467], [-1.1406817, 15.3038683]], [[-1.0627767, 15.271195], [-1.132595, 15.2767867]], [[-1.2932017, 15.2745433], [-1.2768367, 15.2812083]], [[-1.2523017, 15.21904], [-1.2631867, 15.13302]], [[-1.1281217, 15.2453667], [-1.1105417, 15.2458317]], [[-1.1105417, 15.2458317], [-1.091535, 15.2420633]], [[-1.326885, 15.110715], [-1.3772717, 15.0879183]], [[-1.4696767, 15.0630333], [-1.4290217, 15.05688]], [[-1.6577067, 15.057695], [-1.679675, 15.0574383]], [[-1.30057, 15.1280433], [-1.3176717, 15.1315967]], [[-1.2636783, 15.1321917], [-1.2989917, 15.1342317]], [[-1.3057383, 15.130715], [-1.3326467, 15.1547233]], [[-1.43272, 15.226045], [-1.487015, 15.2237417]], [[-1.5522567, 15.2069017], [-1.5211983, 15.1633333]], [[-1.64252, 15.06236], [-1.66043, 15.0597017]], [[-1.7022167, 15.0480283], [-1.7153767, 15.0342517]], [[-1.4979533, 15.384395], [-1.49762, 15.4035467]], [[-1.5336717, 15.4333083], [-1.549345, 15.4665367]], [[-1.69093, 15.5979717], [-1.7061467, 15.589735]], [[-2.08142, 15.367855], [-2.082095, 15.3503633]], [[-2.2207917, 15.217675], [-2.2587217, 15.2275183]], [[-2.2034283, 15.342435], [-2.1786633, 15.3973167]], [[-2.2090233, 15.6480383], [-2.174905, 15.6649133]], [[-2.0909517, 15.3492067], [-2.0810233, 15.3684333]], [[-2.0810233, 15.3684333], [-2.0564567, 15.3984783]], [[-2.1381917, 15.2563533], [-2.1409667, 15.27736]], [[-2.3244433, 15.24352], [-2.3003883, 15.1688217]], [[-2.2826233, 15.00618], [-2.2900317, 15.025475]], [[-2.2869167, 15.1383217], [-2.2846933, 15.0767483]], [[-2.28352, 15.0406333], [-2.2847833, 15.0577033]], [[-1.0748483, 14.9167783], [-1.0436717, 14.9909283]], [[-1.0893683, 15.1476933], [-1.0746117, 15.1360183]], [[-1.116865, 15.1334767], [-1.18343, 15.09879]], [[-1.2288917, 14.6730667], [-1.24068, 14.6855933]], [[-1.0185733, 15.0391033], [-1.0093883, 15.0585467]], [[-1.0622683, 15.267825], [-1.0835583, 15.298745]], [[-1.1118717, 15.294685], [-1.1511367, 15.2896133]], [[-1.0686633, 15.244745], [-1.049335, 15.2394183]], [[-1.21117, 15.28344], [-1.2317433, 15.2563617]], [[-1.23064, 15.2532617], [-1.1932367, 15.2960967]], [[-1.1295517, 15.28321], [-1.0891983, 15.30384]], [[-1.1057267, 15.3514633], [-1.1589067, 15.3289133]], [[-1.6654967, 15.088655], [-1.6296033, 15.0750417]], [[-1.5926467, 15.1170817], [-1.5718533, 15.1733417]], [[-1.53663, 15.47114], [-1.5578183, 15.52238]], [[-2.03244, 15.4068], [-2.0377617, 15.4580717]], [[-2.1028317, 15.2951767], [-2.0596733, 15.3068317]], [[-2.11654, 15.24834], [-2.123105, 15.26755]], [[-2.0000017, 15.3496733], [-2.0290817, 15.3747417]], [[-2.5326483, 15.6734383], [-2.5903917, 15.6618783]], [[-2.930695, 15.3012867], [-2.941175, 15.28665]], [[-2.799295, 15.2555183], [-2.7543783, 15.263675]], [[-2.632615, 15.26006], [-2.5777533, 15.22221]], [[-2.465915, 15.2559733], [-2.39078, 15.2379167]], [[-1.2826317, 15.1266683], [-1.2295383, 15.1440667]], [[-1.0781583, 15.161205], [-1.0564417, 15.163985]], [[-1.04264, 15.1676933], [-1.0320167, 15.1842533]], [[-1.0514267, 15.1554783], [-1.00274, 15.1799817]], [[-1.0185267, 15.1672483], [-1.0392733, 15.1630933]], [[-1.1381167, 14.8872], [-1.11634, 14.8935667]], [[-1.00946, 14.9822517], [-1.0163867, 14.949425]], [[-1.3048967, 14.6793333], [-1.3248617, 14.6742833]], [[-1.3248617, 14.6742833], [-1.3657833, 14.6684383]], [[-1.3657833, 14.6684383], [-1.4052783, 14.672095]], [[-1.4052783, 14.672095], [-1.4416817, 14.66389]]], &quot;type&quot;: &quot;MultiLineString&quot;}, &quot;id&quot;: &quot;3&quot;, &quot;properties&quot;: {&quot;__folium_color&quot;: &quot;#fee08b&quot;, &quot;label&quot;: &quot;1.9 - 2.5 km/hr&quot;, &quot;speed_colour&quot;: &quot;#fee08b&quot;}, &quot;type&quot;: &quot;Feature&quot;}, {&quot;bbox&quot;: [-2.901985, 14.6973867, -1.0018417, 15.5240633], &quot;geometry&quot;: {&quot;coordinates&quot;: [[[-2.5773617, 15.4346], [-2.60854, 15.39774]], [[-2.8826417, 15.29209], [-2.901985, 15.27995]], [[-2.176805, 14.84437], [-2.1575317, 14.7956067]], [[-2.1575317, 14.7956067], [-2.15094, 14.769485]], [[-2.1499933, 14.7490383], [-2.1449567, 14.6973867]], [[-1.0018417, 15.2429217], [-1.00203, 15.2671483]], [[-1.314335, 15.26329], [-1.2932017, 15.2745433]], [[-1.2254633, 15.18845], [-1.2399167, 15.2084833]], [[-1.49762, 15.4035467], [-1.5336717, 15.4333083]], [[-2.1978533, 15.2166317], [-2.2207917, 15.217675]], [[-2.2866533, 15.230085], [-2.34755, 15.2703767]], [[-2.43862, 15.2969233], [-2.463415, 15.3074633]], [[-1.18343, 15.09879], [-1.2046117, 15.0865]], [[-1.5228833, 15.217655], [-1.4978483, 15.2157417]], [[-2.0619817, 15.4759417], [-2.12679, 15.5240633]], [[-2.7543783, 15.263675], [-2.6813933, 15.267565]], [[-1.299655, 14.9485133], [-1.26777, 14.8710433]], [[-1.149445, 14.8674983], [-1.1381167, 14.8872]], [[-1.1230483, 14.8347533], [-1.1622017, 14.79944]]], &quot;type&quot;: &quot;MultiLineString&quot;}, &quot;id&quot;: &quot;4&quot;, &quot;properties&quot;: {&quot;__folium_color&quot;: &quot;#fc8d59&quot;, &quot;label&quot;: &quot;2.5 - 3.1 km/hr&quot;, &quot;speed_colour&quot;: &quot;#fc8d59&quot;}, &quot;type&quot;: &quot;Feature&quot;}, {&quot;bbox&quot;: [-2.3784117, 14.9485133, -1.299655, 15.49821], &quot;geometry&quot;: {&quot;coordinates&quot;: [[[-1.549345, 15.4665367], [-1.5508633, 15.49821]], [[-2.3003883, 15.1688217], [-2.3044733, 15.1377517]], [[-2.3784117, 15.2246517], [-2.326565, 15.15419]], [[-2.3080667, 15.128475], [-2.28383, 15.0659517]], [[-1.33062, 15.0317383], [-1.31678, 14.9731167]], [[-1.31678, 14.9731167], [-1.299655, 14.9485133]]], &quot;type&quot;: &quot;MultiLineString&quot;}, &quot;id&quot;: &quot;5&quot;, &quot;properties&quot;: {&quot;__folium_color&quot;: &quot;#d73027&quot;, &quot;label&quot;: &quot;3.1 - 3.7 km/hr&quot;, &quot;speed_colour&quot;: &quot;#d73027&quot;}, &quot;type&quot;: &quot;Feature&quot;}], &quot;type&quot;: &quot;FeatureCollection&quot;});\n",
              "\n",
              "        \n",
              "    \n",
              "        var macro_element_560bfb238db2f5fc91ecaa9c6cedcdb2 = L.Control.extend({\n",
              "            onAdd: function(map) {\n",
              "                var template = document.createElement(&#x27;template&#x27;);\n",
              "                template.innerHTML = `            &lt;svg width=&quot;100.0px&quot; height=&quot;100.0px&quot; version=&quot;1.1&quot; viewBox=&quot;0 0 773 798&quot; xmlns=&quot;http://www.w3.org/2000/svg&quot;&gt;\n",
              "&lt;path transform=&quot;translate(0 798) scale(1 -1)&quot; d=&quot;m674 403-161 48q-17 48-66 70l-46 166-46-167q-22-9-38-25t-29-45l-159-47 159-49q15-44 67-68l46-164 48 164q39 17 64 69zm-163 0q0-49-32-81-33-34-78-34-46 0-77 34-31 31-31 81 0 46 31 80t77 34q45 0 78-34 32-34 32-80zm-12 1q-5 7-7.5 17.5t-4 21.5-4.5 21-9 16q-7 6-17 9.5t-20.5 6-20 6-15.5 9.5v-107h98zm-98-108v108h-99l3-3 23-75q6-6 16.5-9.5t21-5.5 20-5.5 15.5-9.5zm-280 152h-26v-2q5 0 6-1 3-3 3-6 0-2-0.5-4t-1.5-7l-18-48-16 47q-3 9-3 12 0 7 7 7h2v2h-34v-2q2 0 3-1l3-3q2 0 2-2 2-1 4-5l5-15-12-42-17 50q-3 9-3 11 0 7 6 7h2v2h-33v-2q8 0 10-6 1-2 3-9l27-74h5l15 53 19-53h2l27 71q2 10 3 11 5 7 10 7v2zm325 350h-29v-3q7 0 10-4 1-1 1-11v-35l-42 53h-32v-3q7-2 12-6l2-3v-62q0-13-12-13v-2h29v2h-2q-4 0-7 2.5t-3 10.5v55l58-72h3v73q0 9 1 10.5t8 3.5l3 1v3zm207-395h-130q0 16-6 42zm-212-119-40-141v135q9 0 19 1t21 5zm-154 78-137 41h130q0-10 2-19.5t5-21.5zm114 168q-25 0-39-8l39 142v-134zm372-148h-3q-3-4-5-7.5t-4-5.5q-5-5-17-5h-19q-3 0-3 5v35h20q8 0 10-6 1-1 1-3 0-3 1-4h3v30h-3q-2-9-4-11t-8-2h-20v35h24q7 0 8-1 4-1 9-14h3l-1 20h-69v-2h3q7 0 8-4 2-2 2-9v-58q0-11-4-12-1-1-6-1h-3v-3h68zm-340-358q0 9-5.5 14.5t-20.5 14.5q-9 5-13 9l-5 5q-3 10-3 7 0 14 14 14 18 0 24-26h2v31h-2q-2-6-5-6-4 0-5 1-8 5-15 5-11 0-17.5-7t-6.5-17q0-13 9-19 6-4 16.5-10.5t12.5-8.5q8-7 8-13 0-14-18-14-13 0-18 5.5t-7 20.5h-2v-30h2q0 5 3 5l16-5h8q12 0 20 7t8 17z&quot;/&gt;\n",
              "            &lt;/svg&gt;`.trim();\n",
              "                return template.content.firstChild;\n",
              "            }\n",
              "        });\n",
              "        (new macro_element_560bfb238db2f5fc91ecaa9c6cedcdb2({&quot;position&quot;: &quot;topright&quot;})).addTo(map_00f4a98da3eff6b658375998b48412f3);\n",
              "\n",
              "        \n",
              "    \n",
              "            map_00f4a98da3eff6b658375998b48412f3.fitBounds(\n",
              "                [[14.4917233, -3.0935183], [15.73511, -0.938395]],\n",
              "                {}\n",
              "            );\n",
              "        \n",
              "&lt;/script&gt;\n",
              "&lt;/html&gt;\" width=\"800\" height=\"600\"style=\"border:none !important;\" \"allowfullscreen\" \"webkitallowfullscreen\" \"mozallowfullscreen\"></iframe>"
            ],
            "text/plain": [
              "<ecoscope.mapping.map.EcoMap at 0x7f306e631360>"
            ]
          },
          "execution_count": 31,
          "metadata": {},
          "output_type": "execute_result"
        }
      ],
      "source": [
        "# Map of the data\n",
        "m = ecoscope.mapping.EcoMap(static=True)\n",
        "m.add_tile_layer(\n",
        "    url=\"https://mt1.google.com/vt/lyrs=y&x={x}&y={y}&z={z}\",\n",
        "    name=\"Google Satellite\",\n",
        "    attribution=\"Google\",\n",
        "    opacity=1.0,\n",
        ")\n",
        "m.add_speedmap(trajectory=traj, classification_method=\"equal_interval\", num_classes=6, bins=None)\n",
        "m.add_north_arrow(position=\"topright\")\n",
        "m.add_title(title=\"Elephant Speed Map\", align=\"center\", font_size=\"18px\")\n",
        "m.zoom_to_gdf(traj)\n",
        "m"
      ]
    },
    {
      "cell_type": "code",
      "execution_count": null,
      "metadata": {},
      "outputs": [],
      "source": [
        "# Export to HTML\n",
        "source_file_name = \"home/airflow/gcs/data/ecomap.html\"\n",
        "m.to_html(source_file_name)"
      ]
    },
    {
      "cell_type": "code",
      "execution_count": null,
      "metadata": {},
      "outputs": [],
      "source": [
        "# Upload to Google Cloud Storage\n",
        "from google.cloud import storage\n",
        "\n",
        "storage_client = storage.Client()\n",
        "bucket = storage_client.get_bucket(\"us-central1-mep-airflow-env-f3a7f84d-bucket\")\n",
        "blob = bucket.blob(\"website/ecomap.html\")\n",
        "\n",
        "blob.upload_from_filename(source_file_name)\n",
        "\n",
        "print('File {} uploaded to {}.'.format(\n",
        "    source_file_name,\n",
        "    \"website\"))"
      ]
    }
  ],
  "metadata": {
    "colab": {
      "provenance": []
    },
    "kernelspec": {
      "display_name": "Python 3",
      "name": "python3"
    },
    "language_info": {
      "name": "python"
    },
    "widgets": {
      "application/vnd.jupyter.widget-state+json": {
        "3844cff1475c4344a0209ed8b6bec8cc": {
          "model_module": "@jupyter-widgets/base",
          "model_module_version": "1.2.0",
          "model_name": "LayoutModel",
          "state": {
            "_model_module": "@jupyter-widgets/base",
            "_model_module_version": "1.2.0",
            "_model_name": "LayoutModel",
            "_view_count": null,
            "_view_module": "@jupyter-widgets/base",
            "_view_module_version": "1.2.0",
            "_view_name": "LayoutView",
            "align_content": null,
            "align_items": null,
            "align_self": null,
            "border": null,
            "bottom": null,
            "display": null,
            "flex": null,
            "flex_flow": null,
            "grid_area": null,
            "grid_auto_columns": null,
            "grid_auto_flow": null,
            "grid_auto_rows": null,
            "grid_column": null,
            "grid_gap": null,
            "grid_row": null,
            "grid_template_areas": null,
            "grid_template_columns": null,
            "grid_template_rows": null,
            "height": null,
            "justify_content": null,
            "justify_items": null,
            "left": null,
            "margin": null,
            "max_height": null,
            "max_width": null,
            "min_height": null,
            "min_width": null,
            "object_fit": null,
            "object_position": null,
            "order": null,
            "overflow": null,
            "overflow_x": null,
            "overflow_y": null,
            "padding": null,
            "right": null,
            "top": null,
            "visibility": null,
            "width": null
          }
        },
        "414a23ad11ce487982f4c68f18c280b9": {
          "model_module": "@jupyter-widgets/controls",
          "model_module_version": "1.5.0",
          "model_name": "DescriptionStyleModel",
          "state": {
            "_model_module": "@jupyter-widgets/controls",
            "_model_module_version": "1.5.0",
            "_model_name": "DescriptionStyleModel",
            "_view_count": null,
            "_view_module": "@jupyter-widgets/base",
            "_view_module_version": "1.2.0",
            "_view_name": "StyleView",
            "description_width": ""
          }
        },
        "8c19659898614cac99e73e1a4cb80bf6": {
          "model_module": "@jupyter-widgets/controls",
          "model_module_version": "1.5.0",
          "model_name": "FloatProgressModel",
          "state": {
            "_dom_classes": [],
            "_model_module": "@jupyter-widgets/controls",
            "_model_module_version": "1.5.0",
            "_model_name": "FloatProgressModel",
            "_view_count": null,
            "_view_module": "@jupyter-widgets/controls",
            "_view_module_version": "1.5.0",
            "_view_name": "ProgressView",
            "bar_style": "success",
            "description": "",
            "description_tooltip": null,
            "layout": "IPY_MODEL_ec557693558f477bbce21f5a81c7f3c8",
            "max": 2,
            "min": 0,
            "orientation": "horizontal",
            "style": "IPY_MODEL_965f56dde29e48eb9305b32c7bd56f45",
            "value": 2
          }
        },
        "908a58c5d63d4446a800f66bb8f3a396": {
          "model_module": "@jupyter-widgets/controls",
          "model_module_version": "1.5.0",
          "model_name": "HBoxModel",
          "state": {
            "_dom_classes": [],
            "_model_module": "@jupyter-widgets/controls",
            "_model_module_version": "1.5.0",
            "_model_name": "HBoxModel",
            "_view_count": null,
            "_view_module": "@jupyter-widgets/controls",
            "_view_module_version": "1.5.0",
            "_view_name": "HBoxView",
            "box_style": "",
            "children": [
              "IPY_MODEL_db8154aa130549b192c92eecb9ecb77a",
              "IPY_MODEL_8c19659898614cac99e73e1a4cb80bf6",
              "IPY_MODEL_ceb0732ecec44041ba674deffc5ee40a"
            ],
            "layout": "IPY_MODEL_ee6c1c8b3af14cb4a87c9b7dbe71b2ea"
          }
        },
        "965f56dde29e48eb9305b32c7bd56f45": {
          "model_module": "@jupyter-widgets/controls",
          "model_module_version": "1.5.0",
          "model_name": "ProgressStyleModel",
          "state": {
            "_model_module": "@jupyter-widgets/controls",
            "_model_module_version": "1.5.0",
            "_model_name": "ProgressStyleModel",
            "_view_count": null,
            "_view_module": "@jupyter-widgets/base",
            "_view_module_version": "1.2.0",
            "_view_name": "StyleView",
            "bar_color": null,
            "description_width": ""
          }
        },
        "b89bfad8ebdd4f3bac27ebe48e1b3bc3": {
          "model_module": "@jupyter-widgets/base",
          "model_module_version": "1.2.0",
          "model_name": "LayoutModel",
          "state": {
            "_model_module": "@jupyter-widgets/base",
            "_model_module_version": "1.2.0",
            "_model_name": "LayoutModel",
            "_view_count": null,
            "_view_module": "@jupyter-widgets/base",
            "_view_module_version": "1.2.0",
            "_view_name": "LayoutView",
            "align_content": null,
            "align_items": null,
            "align_self": null,
            "border": null,
            "bottom": null,
            "display": null,
            "flex": null,
            "flex_flow": null,
            "grid_area": null,
            "grid_auto_columns": null,
            "grid_auto_flow": null,
            "grid_auto_rows": null,
            "grid_column": null,
            "grid_gap": null,
            "grid_row": null,
            "grid_template_areas": null,
            "grid_template_columns": null,
            "grid_template_rows": null,
            "height": null,
            "justify_content": null,
            "justify_items": null,
            "left": null,
            "margin": null,
            "max_height": null,
            "max_width": null,
            "min_height": null,
            "min_width": null,
            "object_fit": null,
            "object_position": null,
            "order": null,
            "overflow": null,
            "overflow_x": null,
            "overflow_y": null,
            "padding": null,
            "right": null,
            "top": null,
            "visibility": null,
            "width": null
          }
        },
        "bf9135c6892a4bc082b5545cc40be8e7": {
          "model_module": "@jupyter-widgets/controls",
          "model_module_version": "1.5.0",
          "model_name": "DescriptionStyleModel",
          "state": {
            "_model_module": "@jupyter-widgets/controls",
            "_model_module_version": "1.5.0",
            "_model_name": "DescriptionStyleModel",
            "_view_count": null,
            "_view_module": "@jupyter-widgets/base",
            "_view_module_version": "1.2.0",
            "_view_name": "StyleView",
            "description_width": ""
          }
        },
        "ceb0732ecec44041ba674deffc5ee40a": {
          "model_module": "@jupyter-widgets/controls",
          "model_module_version": "1.5.0",
          "model_name": "HTMLModel",
          "state": {
            "_dom_classes": [],
            "_model_module": "@jupyter-widgets/controls",
            "_model_module_version": "1.5.0",
            "_model_name": "HTMLModel",
            "_view_count": null,
            "_view_module": "@jupyter-widgets/controls",
            "_view_module_version": "1.5.0",
            "_view_name": "HTMLView",
            "description": "",
            "description_tooltip": null,
            "layout": "IPY_MODEL_b89bfad8ebdd4f3bac27ebe48e1b3bc3",
            "placeholder": "​",
            "style": "IPY_MODEL_bf9135c6892a4bc082b5545cc40be8e7",
            "value": " 2/2 [00:02&lt;00:00,  1.37s/it]"
          }
        },
        "db8154aa130549b192c92eecb9ecb77a": {
          "model_module": "@jupyter-widgets/controls",
          "model_module_version": "1.5.0",
          "model_name": "HTMLModel",
          "state": {
            "_dom_classes": [],
            "_model_module": "@jupyter-widgets/controls",
            "_model_module_version": "1.5.0",
            "_model_name": "HTMLModel",
            "_view_count": null,
            "_view_module": "@jupyter-widgets/controls",
            "_view_module_version": "1.5.0",
            "_view_name": "HTMLView",
            "description": "",
            "description_tooltip": null,
            "layout": "IPY_MODEL_3844cff1475c4344a0209ed8b6bec8cc",
            "placeholder": "​",
            "style": "IPY_MODEL_414a23ad11ce487982f4c68f18c280b9",
            "value": "Downloading Observations for subject_id=b8be28f7-8c20-46d9-85a5-fd817351bde5: 100%"
          }
        },
        "ec557693558f477bbce21f5a81c7f3c8": {
          "model_module": "@jupyter-widgets/base",
          "model_module_version": "1.2.0",
          "model_name": "LayoutModel",
          "state": {
            "_model_module": "@jupyter-widgets/base",
            "_model_module_version": "1.2.0",
            "_model_name": "LayoutModel",
            "_view_count": null,
            "_view_module": "@jupyter-widgets/base",
            "_view_module_version": "1.2.0",
            "_view_name": "LayoutView",
            "align_content": null,
            "align_items": null,
            "align_self": null,
            "border": null,
            "bottom": null,
            "display": null,
            "flex": null,
            "flex_flow": null,
            "grid_area": null,
            "grid_auto_columns": null,
            "grid_auto_flow": null,
            "grid_auto_rows": null,
            "grid_column": null,
            "grid_gap": null,
            "grid_row": null,
            "grid_template_areas": null,
            "grid_template_columns": null,
            "grid_template_rows": null,
            "height": null,
            "justify_content": null,
            "justify_items": null,
            "left": null,
            "margin": null,
            "max_height": null,
            "max_width": null,
            "min_height": null,
            "min_width": null,
            "object_fit": null,
            "object_position": null,
            "order": null,
            "overflow": null,
            "overflow_x": null,
            "overflow_y": null,
            "padding": null,
            "right": null,
            "top": null,
            "visibility": null,
            "width": null
          }
        },
        "ee6c1c8b3af14cb4a87c9b7dbe71b2ea": {
          "model_module": "@jupyter-widgets/base",
          "model_module_version": "1.2.0",
          "model_name": "LayoutModel",
          "state": {
            "_model_module": "@jupyter-widgets/base",
            "_model_module_version": "1.2.0",
            "_model_name": "LayoutModel",
            "_view_count": null,
            "_view_module": "@jupyter-widgets/base",
            "_view_module_version": "1.2.0",
            "_view_name": "LayoutView",
            "align_content": null,
            "align_items": null,
            "align_self": null,
            "border": null,
            "bottom": null,
            "display": null,
            "flex": null,
            "flex_flow": null,
            "grid_area": null,
            "grid_auto_columns": null,
            "grid_auto_flow": null,
            "grid_auto_rows": null,
            "grid_column": null,
            "grid_gap": null,
            "grid_row": null,
            "grid_template_areas": null,
            "grid_template_columns": null,
            "grid_template_rows": null,
            "height": null,
            "justify_content": null,
            "justify_items": null,
            "left": null,
            "margin": null,
            "max_height": null,
            "max_width": null,
            "min_height": null,
            "min_width": null,
            "object_fit": null,
            "object_position": null,
            "order": null,
            "overflow": null,
            "overflow_x": null,
            "overflow_y": null,
            "padding": null,
            "right": null,
            "top": null,
            "visibility": null,
            "width": null
          }
        }
      }
    }
  },
  "nbformat": 4,
  "nbformat_minor": 0
}
