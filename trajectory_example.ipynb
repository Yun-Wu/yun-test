{
  "cells": [
    {
      "attachments": {},
      "cell_type": "markdown",
      "metadata": {
        "id": "4s2-4ByrxLVS"
      },
      "source": [
        "## Setup Environment"
      ]
    },
    {
      "cell_type": "code",
      "execution_count": null,
      "metadata": {
        "colab": {
          "base_uri": "https://localhost:8080/"
        },
        "id": "4OR0AgQB1csS",
        "outputId": "63d5bd72-8a1d-4c47-e73a-0050672d6b6b"
      },
      "outputs": [],
      "source": [
        "import pandas as pd\n",
        "import ecoscope\n",
        "import os\n",
        "import fsspec\n",
        "import json\n",
        "\n",
        "ecoscope.init(selenium=True)"
      ]
    },
    {
      "attachments": {},
      "cell_type": "markdown",
      "metadata": {
        "id": "c3xIpIhzxVJN"
      },
      "source": [
        "## Parameters"
      ]
    },
    {
      "cell_type": "code",
      "execution_count": null,
      "metadata": {
        "tags": [
          "parameters"
        ]
      },
      "outputs": [],
      "source": [
        "config_path = \"\""
      ]
    },
    {
      "cell_type": "code",
      "execution_count": null,
      "metadata": {},
      "outputs": [],
      "source": [
        "with fsspec.open(config_path, mode='rt',) as file:\n",
        "    config = json.loads(file.read())\n",
        "\n",
        "config"
      ]
    },
    {
      "cell_type": "code",
      "execution_count": null,
      "metadata": {
        "colab": {
          "base_uri": "https://localhost:8080/"
        },
        "id": "_soMr4JKxZ2D",
        "outputId": "f14a1a15-b000-43f9-b7a4-0cb27c6496de",
        "tags": []
      },
      "outputs": [],
      "source": [
        "# EarthRanger Credentials\n",
        "ER_SERVER = \"https://mep-dev.pamdas.org\"\n",
        "ER_USERNAME = \"yun.wu\"\n",
        "ER_PASSWORD = os.getenv(\"ER_PASSWORD\", \"\")\n",
        "\n",
        "# SubjectGroup\n",
        "subjectgroup_name = \"Elephants\"\n",
        "\n",
        "# Analysis Time Range\n",
        "start_date = config.get('start_date')\n",
        "end_date = config.get('end_date')\n",
        "\n",
        "# Relocations Bounding Box Filter Coordinates\n",
        "relocs_coord_filter_min_x = -5.0\n",
        "relocs_coord_filter_max_x = 1.0\n",
        "relocs_coord_filter_min_y = 12.0\n",
        "relocs_coord_filter_max_y = 18.0\n",
        "\n",
        "# Relocations Filter Point Coordinates\n",
        "relocs_filter_point_coords = [[180, 90], [0, 0]]\n",
        "\n",
        "# Trajectory Filter Settings\n",
        "traj_min_length_meters=0.0\n",
        "traj_max_length_meters=10000\n",
        "traj_min_time_secs=120.0\n",
        "traj_max_time_secs=4 * 60 * 60\n",
        "traj_min_speed_kmhr=0.000001\n",
        "traj_max_speed_kmhr=8.0"
      ]
    },
    {
      "attachments": {},
      "cell_type": "markdown",
      "metadata": {
        "id": "iZvlzjOixgKh"
      },
      "source": [
        "## Logic"
      ]
    },
    {
      "attachments": {},
      "cell_type": "markdown",
      "metadata": {
        "id": "255a9jjzxqQq"
      },
      "source": [
        "### Connect to EarthRanger"
      ]
    },
    {
      "cell_type": "code",
      "execution_count": null,
      "metadata": {
        "colab": {
          "base_uri": "https://localhost:8080/"
        },
        "id": "RyGiMkKL1i0F",
        "outputId": "5172cdef-f9b3-4cb8-bf4e-d248d0cc80b9"
      },
      "outputs": [],
      "source": [
        "er_io = ecoscope.io.EarthRangerIO(\n",
        "    server=ER_SERVER,\n",
        "    username=ER_USERNAME,\n",
        "    password=ER_PASSWORD,\n",
        "    tcp_limit=5,\n",
        "    sub_page_size=4000,\n",
        ")"
      ]
    },
    {
      "attachments": {},
      "cell_type": "markdown",
      "metadata": {
        "id": "6DumqDjVzhqk"
      },
      "source": [
        "### Relocations"
      ]
    },
    {
      "cell_type": "code",
      "execution_count": null,
      "metadata": {
        "colab": {
          "base_uri": "https://localhost:8080/",
          "height": 85,
          "referenced_widgets": [
            "908a58c5d63d4446a800f66bb8f3a396",
            "db8154aa130549b192c92eecb9ecb77a",
            "8c19659898614cac99e73e1a4cb80bf6",
            "ceb0732ecec44041ba674deffc5ee40a",
            "ee6c1c8b3af14cb4a87c9b7dbe71b2ea",
            "3844cff1475c4344a0209ed8b6bec8cc",
            "414a23ad11ce487982f4c68f18c280b9",
            "ec557693558f477bbce21f5a81c7f3c8",
            "965f56dde29e48eb9305b32c7bd56f45",
            "b89bfad8ebdd4f3bac27ebe48e1b3bc3",
            "bf9135c6892a4bc082b5545cc40be8e7"
          ]
        },
        "id": "sExiivOo1loo",
        "outputId": "81915b59-b369-44a3-a82e-79aae45dbee2"
      },
      "outputs": [],
      "source": [
        "%%time\n",
        "relocs = er_io.get_subjectgroup_observations(\n",
        "    group_name=subjectgroup_name,\n",
        "    include_inactive=True,\n",
        "    include_subject_details=True,\n",
        "    include_source_details=False,\n",
        "    include_subjectsource_details=False,\n",
        "    filter=0,\n",
        "    since=pd.to_datetime(start_date).isoformat(),\n",
        "    until=pd.to_datetime(end_date).isoformat(),\n",
        "    include_details=True,\n",
        ")"
      ]
    },
    {
      "cell_type": "code",
      "execution_count": null,
      "metadata": {
        "id": "uJduM4fOPf9r"
      },
      "outputs": [],
      "source": [
        "relocs = relocs[relocs.extra__subject__name != 'Habiba'] # temporary hack until relocs_filter method is fixed..."
      ]
    },
    {
      "cell_type": "code",
      "execution_count": null,
      "metadata": {
        "id": "k9QcsI4113o5"
      },
      "outputs": [],
      "source": [
        "# coord_filter = ecoscope.base.RelocsCoordinateFilter(\n",
        "#     min_x=relocs_coord_filter_min_x,\n",
        "#     max_x=relocs_coord_filter_max_x,\n",
        "#     min_y=relocs_coord_filter_min_y,\n",
        "#     max_y=relocs_coord_filter_max_x,\n",
        "#     filter_point_coords=relocs_filter_point_coords,\n",
        "# )\n",
        "# relocs.apply_reloc_filter(coord_filter, inplace=True)\n",
        "# relocs.remove_filtered(inplace=True)"
      ]
    },
    {
      "cell_type": "code",
      "execution_count": null,
      "metadata": {
        "colab": {
          "base_uri": "https://localhost:8080/"
        },
        "id": "K57TB9Xf19F1",
        "outputId": "56500fb8-137b-4fbb-8356-be1a69c66a8d"
      },
      "outputs": [],
      "source": [
        "%%time\n",
        "## Clean up columns that are not compatible with a GPKG format\n",
        "relocs.drop(\n",
        "    columns=relocs.columns[relocs.applymap(lambda x: isinstance(x, list)).any()],\n",
        "    errors=\"ignore\",\n",
        "    inplace=True,\n",
        ")"
      ]
    },
    {
      "attachments": {},
      "cell_type": "markdown",
      "metadata": {
        "id": "3B0uusJrXbbm"
      },
      "source": [
        "## Trajectory"
      ]
    },
    {
      "cell_type": "code",
      "execution_count": null,
      "metadata": {
        "colab": {
          "base_uri": "https://localhost:8080/"
        },
        "id": "sM6ZSNMOWidC",
        "outputId": "73a4e1a7-dba9-414c-d1c3-51d0d83c75f3"
      },
      "outputs": [],
      "source": [
        "%%time\n",
        "## create a trajectory\n",
        "traj = ecoscope.base.Trajectory.from_relocations(relocs)"
      ]
    },
    {
      "cell_type": "code",
      "execution_count": null,
      "metadata": {
        "id": "G0ibrot0ikMM"
      },
      "outputs": [],
      "source": [
        "## filter the trajectory\n",
        "traj_seg_filter = ecoscope.base.TrajSegFilter(\n",
        "    min_length_meters=traj_min_length_meters,\n",
        "    max_length_meters=traj_max_length_meters,\n",
        "    min_time_secs=traj_min_time_secs,\n",
        "    max_time_secs=traj_max_time_secs,\n",
        "    min_speed_kmhr=traj_min_speed_kmhr,\n",
        "    max_speed_kmhr=traj_max_speed_kmhr,\n",
        ")\n",
        "traj.apply_traj_filter(traj_seg_filter, inplace=True)\n",
        "traj.remove_filtered(inplace=True)"
      ]
    },
    {
      "cell_type": "code",
      "execution_count": null,
      "metadata": {
        "colab": {
          "base_uri": "https://localhost:8080/"
        },
        "id": "eXMnpfuiisGX",
        "outputId": "24ec854a-e8bb-40df-825f-b0d0b0c617bd"
      },
      "outputs": [],
      "source": [
        "%%time\n",
        "## remove any incompatible columns for geopackage export\n",
        "traj.drop(\n",
        "    columns=traj.columns[traj.applymap(lambda x: isinstance(x, list)).any()],\n",
        "    errors=\"ignore\",\n",
        "    inplace=True,\n",
        ")"
      ]
    },
    {
      "attachments": {},
      "cell_type": "markdown",
      "metadata": {
        "id": "n7h5Ft2q0ioq"
      },
      "source": [
        "## Outputs"
      ]
    },
    {
      "cell_type": "code",
      "execution_count": null,
      "metadata": {
        "colab": {
          "base_uri": "https://localhost:8080/"
        },
        "id": "DDwxF_7oPN4Z",
        "outputId": "4f7ccd0b-46ee-4cd4-e79c-ec98901d7f82"
      },
      "outputs": [],
      "source": [
        "# Calculate the number of rows in the geodatabse\n",
        "len(relocs)"
      ]
    },
    {
      "cell_type": "code",
      "execution_count": null,
      "metadata": {
        "colab": {
          "base_uri": "https://localhost:8080/"
        },
        "id": "su0fey6bNp_m",
        "outputId": "3e6151a8-1bf1-46ac-93aa-f98bfdc20d29"
      },
      "outputs": [],
      "source": [
        "len(traj)"
      ]
    },
    {
      "cell_type": "code",
      "execution_count": null,
      "metadata": {
        "colab": {
          "base_uri": "https://localhost:8080/",
          "height": 621
        },
        "id": "cyumS3xJOGFb",
        "outputId": "fae1a02c-93c2-4336-bed6-e6dce457e23e"
      },
      "outputs": [],
      "source": [
        "# Map of the data\n",
        "m = ecoscope.mapping.EcoMap(static=True)\n",
        "m.add_tile_layer(\n",
        "    url=\"https://mt1.google.com/vt/lyrs=y&x={x}&y={y}&z={z}\",\n",
        "    name=\"Google Satellite\",\n",
        "    attribution=\"Google\",\n",
        "    opacity=1.0,\n",
        ")\n",
        "m.add_speedmap(trajectory=traj, classification_method=\"equal_interval\", num_classes=6, bins=None)\n",
        "m.add_north_arrow(position=\"topright\")\n",
        "m.add_title(title=\"Elephant Speed Map\", align=\"center\", font_size=\"18px\")\n",
        "m.zoom_to_gdf(traj)\n",
        "m"
      ]
    },
    {
      "cell_type": "code",
      "execution_count": null,
      "metadata": {},
      "outputs": [],
      "source": [
        "# Export to HTML\n",
        "source_file_name = \"/tmp/ecomap.html\"\n",
        "m.to_html(source_file_name)"
      ]
    },
    {
      "cell_type": "code",
      "execution_count": null,
      "metadata": {},
      "outputs": [],
      "source": [
        "# Upload to Google Cloud Storage\n",
        "from google.cloud import storage\n",
        "\n",
        "storage_client = storage.Client()\n",
        "bucket = storage_client.get_bucket(\"us-central1-ecoscope-pipeli-92c4ecc9-bucket\")\n",
        "blob = bucket.blob(\"website/ecomap.html\")\n",
        "\n",
        "blob.upload_from_filename(source_file_name)\n",
        "\n",
        "print('File {} uploaded to {}.'.format(\n",
        "    source_file_name,\n",
        "    \"website\"))"
      ]
    }
  ],
  "metadata": {
    "colab": {
      "provenance": []
    },
    "kernelspec": {
      "display_name": "Python 3",
      "name": "python3"
    },
    "language_info": {
      "codemirror_mode": {
        "name": "ipython",
        "version": 3
      },
      "file_extension": ".py",
      "mimetype": "text/x-python",
      "name": "python",
      "nbconvert_exporter": "python",
      "pygments_lexer": "ipython3",
      "version": "3.10.12"
    },
    "widgets": {
      "application/vnd.jupyter.widget-state+json": {
        "3844cff1475c4344a0209ed8b6bec8cc": {
          "model_module": "@jupyter-widgets/base",
          "model_module_version": "1.2.0",
          "model_name": "LayoutModel",
          "state": {
            "_model_module": "@jupyter-widgets/base",
            "_model_module_version": "1.2.0",
            "_model_name": "LayoutModel",
            "_view_count": null,
            "_view_module": "@jupyter-widgets/base",
            "_view_module_version": "1.2.0",
            "_view_name": "LayoutView",
            "align_content": null,
            "align_items": null,
            "align_self": null,
            "border": null,
            "bottom": null,
            "display": null,
            "flex": null,
            "flex_flow": null,
            "grid_area": null,
            "grid_auto_columns": null,
            "grid_auto_flow": null,
            "grid_auto_rows": null,
            "grid_column": null,
            "grid_gap": null,
            "grid_row": null,
            "grid_template_areas": null,
            "grid_template_columns": null,
            "grid_template_rows": null,
            "height": null,
            "justify_content": null,
            "justify_items": null,
            "left": null,
            "margin": null,
            "max_height": null,
            "max_width": null,
            "min_height": null,
            "min_width": null,
            "object_fit": null,
            "object_position": null,
            "order": null,
            "overflow": null,
            "overflow_x": null,
            "overflow_y": null,
            "padding": null,
            "right": null,
            "top": null,
            "visibility": null,
            "width": null
          }
        },
        "414a23ad11ce487982f4c68f18c280b9": {
          "model_module": "@jupyter-widgets/controls",
          "model_module_version": "1.5.0",
          "model_name": "DescriptionStyleModel",
          "state": {
            "_model_module": "@jupyter-widgets/controls",
            "_model_module_version": "1.5.0",
            "_model_name": "DescriptionStyleModel",
            "_view_count": null,
            "_view_module": "@jupyter-widgets/base",
            "_view_module_version": "1.2.0",
            "_view_name": "StyleView",
            "description_width": ""
          }
        },
        "8c19659898614cac99e73e1a4cb80bf6": {
          "model_module": "@jupyter-widgets/controls",
          "model_module_version": "1.5.0",
          "model_name": "FloatProgressModel",
          "state": {
            "_dom_classes": [],
            "_model_module": "@jupyter-widgets/controls",
            "_model_module_version": "1.5.0",
            "_model_name": "FloatProgressModel",
            "_view_count": null,
            "_view_module": "@jupyter-widgets/controls",
            "_view_module_version": "1.5.0",
            "_view_name": "ProgressView",
            "bar_style": "success",
            "description": "",
            "description_tooltip": null,
            "layout": "IPY_MODEL_ec557693558f477bbce21f5a81c7f3c8",
            "max": 2,
            "min": 0,
            "orientation": "horizontal",
            "style": "IPY_MODEL_965f56dde29e48eb9305b32c7bd56f45",
            "value": 2
          }
        },
        "908a58c5d63d4446a800f66bb8f3a396": {
          "model_module": "@jupyter-widgets/controls",
          "model_module_version": "1.5.0",
          "model_name": "HBoxModel",
          "state": {
            "_dom_classes": [],
            "_model_module": "@jupyter-widgets/controls",
            "_model_module_version": "1.5.0",
            "_model_name": "HBoxModel",
            "_view_count": null,
            "_view_module": "@jupyter-widgets/controls",
            "_view_module_version": "1.5.0",
            "_view_name": "HBoxView",
            "box_style": "",
            "children": [
              "IPY_MODEL_db8154aa130549b192c92eecb9ecb77a",
              "IPY_MODEL_8c19659898614cac99e73e1a4cb80bf6",
              "IPY_MODEL_ceb0732ecec44041ba674deffc5ee40a"
            ],
            "layout": "IPY_MODEL_ee6c1c8b3af14cb4a87c9b7dbe71b2ea"
          }
        },
        "965f56dde29e48eb9305b32c7bd56f45": {
          "model_module": "@jupyter-widgets/controls",
          "model_module_version": "1.5.0",
          "model_name": "ProgressStyleModel",
          "state": {
            "_model_module": "@jupyter-widgets/controls",
            "_model_module_version": "1.5.0",
            "_model_name": "ProgressStyleModel",
            "_view_count": null,
            "_view_module": "@jupyter-widgets/base",
            "_view_module_version": "1.2.0",
            "_view_name": "StyleView",
            "bar_color": null,
            "description_width": ""
          }
        },
        "b89bfad8ebdd4f3bac27ebe48e1b3bc3": {
          "model_module": "@jupyter-widgets/base",
          "model_module_version": "1.2.0",
          "model_name": "LayoutModel",
          "state": {
            "_model_module": "@jupyter-widgets/base",
            "_model_module_version": "1.2.0",
            "_model_name": "LayoutModel",
            "_view_count": null,
            "_view_module": "@jupyter-widgets/base",
            "_view_module_version": "1.2.0",
            "_view_name": "LayoutView",
            "align_content": null,
            "align_items": null,
            "align_self": null,
            "border": null,
            "bottom": null,
            "display": null,
            "flex": null,
            "flex_flow": null,
            "grid_area": null,
            "grid_auto_columns": null,
            "grid_auto_flow": null,
            "grid_auto_rows": null,
            "grid_column": null,
            "grid_gap": null,
            "grid_row": null,
            "grid_template_areas": null,
            "grid_template_columns": null,
            "grid_template_rows": null,
            "height": null,
            "justify_content": null,
            "justify_items": null,
            "left": null,
            "margin": null,
            "max_height": null,
            "max_width": null,
            "min_height": null,
            "min_width": null,
            "object_fit": null,
            "object_position": null,
            "order": null,
            "overflow": null,
            "overflow_x": null,
            "overflow_y": null,
            "padding": null,
            "right": null,
            "top": null,
            "visibility": null,
            "width": null
          }
        },
        "bf9135c6892a4bc082b5545cc40be8e7": {
          "model_module": "@jupyter-widgets/controls",
          "model_module_version": "1.5.0",
          "model_name": "DescriptionStyleModel",
          "state": {
            "_model_module": "@jupyter-widgets/controls",
            "_model_module_version": "1.5.0",
            "_model_name": "DescriptionStyleModel",
            "_view_count": null,
            "_view_module": "@jupyter-widgets/base",
            "_view_module_version": "1.2.0",
            "_view_name": "StyleView",
            "description_width": ""
          }
        },
        "ceb0732ecec44041ba674deffc5ee40a": {
          "model_module": "@jupyter-widgets/controls",
          "model_module_version": "1.5.0",
          "model_name": "HTMLModel",
          "state": {
            "_dom_classes": [],
            "_model_module": "@jupyter-widgets/controls",
            "_model_module_version": "1.5.0",
            "_model_name": "HTMLModel",
            "_view_count": null,
            "_view_module": "@jupyter-widgets/controls",
            "_view_module_version": "1.5.0",
            "_view_name": "HTMLView",
            "description": "",
            "description_tooltip": null,
            "layout": "IPY_MODEL_b89bfad8ebdd4f3bac27ebe48e1b3bc3",
            "placeholder": "​",
            "style": "IPY_MODEL_bf9135c6892a4bc082b5545cc40be8e7",
            "value": " 2/2 [00:02&lt;00:00,  1.37s/it]"
          }
        },
        "db8154aa130549b192c92eecb9ecb77a": {
          "model_module": "@jupyter-widgets/controls",
          "model_module_version": "1.5.0",
          "model_name": "HTMLModel",
          "state": {
            "_dom_classes": [],
            "_model_module": "@jupyter-widgets/controls",
            "_model_module_version": "1.5.0",
            "_model_name": "HTMLModel",
            "_view_count": null,
            "_view_module": "@jupyter-widgets/controls",
            "_view_module_version": "1.5.0",
            "_view_name": "HTMLView",
            "description": "",
            "description_tooltip": null,
            "layout": "IPY_MODEL_3844cff1475c4344a0209ed8b6bec8cc",
            "placeholder": "​",
            "style": "IPY_MODEL_414a23ad11ce487982f4c68f18c280b9",
            "value": "Downloading Observations for subject_id=b8be28f7-8c20-46d9-85a5-fd817351bde5: 100%"
          }
        },
        "ec557693558f477bbce21f5a81c7f3c8": {
          "model_module": "@jupyter-widgets/base",
          "model_module_version": "1.2.0",
          "model_name": "LayoutModel",
          "state": {
            "_model_module": "@jupyter-widgets/base",
            "_model_module_version": "1.2.0",
            "_model_name": "LayoutModel",
            "_view_count": null,
            "_view_module": "@jupyter-widgets/base",
            "_view_module_version": "1.2.0",
            "_view_name": "LayoutView",
            "align_content": null,
            "align_items": null,
            "align_self": null,
            "border": null,
            "bottom": null,
            "display": null,
            "flex": null,
            "flex_flow": null,
            "grid_area": null,
            "grid_auto_columns": null,
            "grid_auto_flow": null,
            "grid_auto_rows": null,
            "grid_column": null,
            "grid_gap": null,
            "grid_row": null,
            "grid_template_areas": null,
            "grid_template_columns": null,
            "grid_template_rows": null,
            "height": null,
            "justify_content": null,
            "justify_items": null,
            "left": null,
            "margin": null,
            "max_height": null,
            "max_width": null,
            "min_height": null,
            "min_width": null,
            "object_fit": null,
            "object_position": null,
            "order": null,
            "overflow": null,
            "overflow_x": null,
            "overflow_y": null,
            "padding": null,
            "right": null,
            "top": null,
            "visibility": null,
            "width": null
          }
        },
        "ee6c1c8b3af14cb4a87c9b7dbe71b2ea": {
          "model_module": "@jupyter-widgets/base",
          "model_module_version": "1.2.0",
          "model_name": "LayoutModel",
          "state": {
            "_model_module": "@jupyter-widgets/base",
            "_model_module_version": "1.2.0",
            "_model_name": "LayoutModel",
            "_view_count": null,
            "_view_module": "@jupyter-widgets/base",
            "_view_module_version": "1.2.0",
            "_view_name": "LayoutView",
            "align_content": null,
            "align_items": null,
            "align_self": null,
            "border": null,
            "bottom": null,
            "display": null,
            "flex": null,
            "flex_flow": null,
            "grid_area": null,
            "grid_auto_columns": null,
            "grid_auto_flow": null,
            "grid_auto_rows": null,
            "grid_column": null,
            "grid_gap": null,
            "grid_row": null,
            "grid_template_areas": null,
            "grid_template_columns": null,
            "grid_template_rows": null,
            "height": null,
            "justify_content": null,
            "justify_items": null,
            "left": null,
            "margin": null,
            "max_height": null,
            "max_width": null,
            "min_height": null,
            "min_width": null,
            "object_fit": null,
            "object_position": null,
            "order": null,
            "overflow": null,
            "overflow_x": null,
            "overflow_y": null,
            "padding": null,
            "right": null,
            "top": null,
            "visibility": null,
            "width": null
          }
        }
      }
    }
  },
  "nbformat": 4,
  "nbformat_minor": 0
}
